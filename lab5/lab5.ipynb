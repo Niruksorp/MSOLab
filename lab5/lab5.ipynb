{
 "cells": [
  {
   "cell_type": "code",
   "execution_count": 1,
   "metadata": {
    "execution": {
     "iopub.execute_input": "2021-04-06T17:49:39.514650Z",
     "iopub.status.busy": "2021-04-06T17:49:39.513807Z",
     "iopub.status.idle": "2021-04-06T17:49:39.517025Z",
     "shell.execute_reply": "2021-04-06T17:49:39.516371Z"
    },
    "papermill": {
     "duration": 0.045844,
     "end_time": "2021-04-06T17:49:39.517241",
     "exception": false,
     "start_time": "2021-04-06T17:49:39.471397",
     "status": "completed"
    },
    "pycharm": {
     "name": "#%%\n"
    },
    "tags": []
   },
   "outputs": [],
   "source": [
    "import pandas as pd\n",
    "import matplotlib.pyplot as plt\n",
    "import numpy as np"
   ]
  },
  {
   "cell_type": "code",
   "execution_count": 2,
   "metadata": {
    "execution": {
     "iopub.execute_input": "2021-04-06T17:49:39.596431Z",
     "iopub.status.busy": "2021-04-06T17:49:39.595705Z",
     "iopub.status.idle": "2021-04-06T17:49:39.624699Z",
     "shell.execute_reply": "2021-04-06T17:49:39.624093Z"
    },
    "papermill": {
     "duration": 0.070465,
     "end_time": "2021-04-06T17:49:39.624843",
     "exception": false,
     "start_time": "2021-04-06T17:49:39.554378",
     "status": "completed"
    },
    "pycharm": {
     "name": "#%%\n"
    },
    "tags": []
   },
   "outputs": [],
   "source": [
    "# Получаем данные\n",
    "pass_train=pd.read_csv('data_baseline/train.csv')\n",
    "pass_test=pd.read_csv('data_baseline/test.csv')"
   ]
  },
  {
   "cell_type": "code",
   "execution_count": 3,
   "metadata": {
    "execution": {
     "iopub.execute_input": "2021-04-06T17:49:39.730128Z",
     "iopub.status.busy": "2021-04-06T17:49:39.729251Z",
     "iopub.status.idle": "2021-04-06T17:49:39.733332Z",
     "shell.execute_reply": "2021-04-06T17:49:39.732667Z"
    },
    "papermill": {
     "duration": 0.071015,
     "end_time": "2021-04-06T17:49:39.733482",
     "exception": false,
     "start_time": "2021-04-06T17:49:39.662467",
     "status": "completed"
    },
    "pycharm": {
     "name": "#%%\n"
    },
    "tags": []
   },
   "outputs": [
    {
     "name": "stdout",
     "output_type": "stream",
     "text": [
      "<class 'pandas.core.frame.DataFrame'>\n",
      "RangeIndex: 534 entries, 0 to 533\n",
      "Data columns (total 12 columns):\n",
      " #   Column       Non-Null Count  Dtype  \n",
      "---  ------       --------------  -----  \n",
      " 0   PassengerId  534 non-null    int64  \n",
      " 1   Survived     534 non-null    int64  \n",
      " 2   Pclass       534 non-null    int64  \n",
      " 3   Name         534 non-null    object \n",
      " 4   Sex          534 non-null    object \n",
      " 5   Age          432 non-null    float64\n",
      " 6   SibSp        534 non-null    int64  \n",
      " 7   Parch        534 non-null    int64  \n",
      " 8   Ticket       534 non-null    object \n",
      " 9   Fare         534 non-null    float64\n",
      " 10  Cabin        120 non-null    object \n",
      " 11  Embarked     534 non-null    object \n",
      "dtypes: float64(2), int64(5), object(5)\n",
      "memory usage: 50.2+ KB\n"
     ]
    }
   ],
   "source": [
    "pass_train.info()"
   ]
  },
  {
   "cell_type": "code",
   "execution_count": 4,
   "metadata": {
    "execution": {
     "iopub.execute_input": "2021-04-06T17:49:39.894141Z",
     "iopub.status.busy": "2021-04-06T17:49:39.893351Z",
     "iopub.status.idle": "2021-04-06T17:49:39.896453Z",
     "shell.execute_reply": "2021-04-06T17:49:39.895474Z"
    },
    "papermill": {
     "duration": 0.048213,
     "end_time": "2021-04-06T17:49:39.896625",
     "exception": false,
     "start_time": "2021-04-06T17:49:39.848412",
     "status": "completed"
    },
    "pycharm": {
     "name": "#%%\n"
    },
    "tags": []
   },
   "outputs": [],
   "source": [
    "# построение гистограмы \n",
    "def grouped_bar_chart(labels,set1,set2):\n",
    "    x = np.arange(len(labels))  # расположение\n",
    "    width = 0.35 \n",
    "\n",
    "    fig, ax = plt.subplots()\n",
    "    rects1 = ax.bar(x - width/2, set1, width, label='Dead') # столбец с погибшими\n",
    "    rects2 = ax.bar(x + width/2, set2, width, label='Survived') # столбец с выжившими\n",
    "\n",
    "    ax.set_ylabel('Number of people')\n",
    "    ax.set_xticks(x)\n",
    "    ax.set_xticklabels(labels)\n",
    "    ax.legend()\n",
    "    fig.tight_layout()\n",
    "    plt.show()"
   ]
  },
  {
   "cell_type": "code",
   "execution_count": 5,
   "metadata": {
    "execution": {
     "iopub.execute_input": "2021-04-06T17:49:39.982894Z",
     "iopub.status.busy": "2021-04-06T17:49:39.982241Z",
     "iopub.status.idle": "2021-04-06T17:49:40.224506Z",
     "shell.execute_reply": "2021-04-06T17:49:40.224980Z"
    },
    "papermill": {
     "duration": 0.290438,
     "end_time": "2021-04-06T17:49:40.225165",
     "exception": false,
     "start_time": "2021-04-06T17:49:39.934727",
     "status": "completed"
    },
    "pycharm": {
     "name": "#%%\n"
    },
    "tags": []
   },
   "outputs": [
    {
     "data": {
      "image/png": "[encoded data removed]",
      "text/plain": [
       "<Figure size 432x288 with 1 Axes>"
      ]
     },
     "metadata": {
      "needs_background": "light"
     },
     "output_type": "display_data"
    }
   ],
   "source": [
    "# группировка данных по выжившим и классам\n",
    "gr=pass_train[['Survived','Pclass','PassengerId']].groupby(['Survived','Pclass']).count()\n",
    "gr=gr.reset_index()\n",
    "grouped_bar_chart(['1st class', '2nd class', '3rd class'],\n",
    "                  gr[gr['Survived']==0]['PassengerId'],\n",
    "                  gr[gr['Survived']==1]['PassengerId'])"
   ]
  },
  {
   "cell_type": "code",
   "execution_count": 6,
   "metadata": {
    "execution": {
     "iopub.execute_input": "2021-04-06T17:49:40.460804Z",
     "iopub.status.busy": "2021-04-06T17:49:40.459833Z",
     "iopub.status.idle": "2021-04-06T17:49:40.624040Z",
     "shell.execute_reply": "2021-04-06T17:49:40.623344Z"
    },
    "papermill": {
     "duration": 0.206113,
     "end_time": "2021-04-06T17:49:40.624234",
     "exception": false,
     "start_time": "2021-04-06T17:49:40.418121",
     "status": "completed"
    },
    "pycharm": {
     "name": "#%%\n"
    },
    "tags": []
   },
   "outputs": [
    {
     "data": {
      "image/png": "[encoded data removed]",
      "text/plain": [
       "<Figure size 432x288 with 1 Axes>"
      ]
     },
     "metadata": {
      "needs_background": "light"
     },
     "output_type": "display_data"
    }
   ],
   "source": [
    "# группировка данных по выживаемости и полу\n",
    "gr=pass_train[['Survived','Sex','PassengerId']].groupby(['Survived','Sex']).count()\n",
    "gr=gr.reset_index()\n",
    "grouped_bar_chart(gr[gr['Survived']==0]['Sex'],\n",
    "                  gr[gr['Survived']==0]['PassengerId'],\n",
    "                  gr[gr['Survived']==1]['PassengerId'])"
   ]
  },
  {
   "cell_type": "code",
   "execution_count": 7,
   "metadata": {
    "execution": {
     "iopub.execute_input": "2021-04-06T17:49:40.876510Z",
     "iopub.status.busy": "2021-04-06T17:49:40.875767Z",
     "iopub.status.idle": "2021-04-06T17:49:40.888996Z",
     "shell.execute_reply": "2021-04-06T17:49:40.888453Z"
    },
    "papermill": {
     "duration": 0.063255,
     "end_time": "2021-04-06T17:49:40.889182",
     "exception": false,
     "start_time": "2021-04-06T17:49:40.825927",
     "status": "completed"
    },
    "pycharm": {
     "name": "#%%\n"
    },
    "tags": []
   },
   "outputs": [
    {
     "data": {
      "text/html": [
       "<div>\n",
       "<style scoped>\n",
       "    .dataframe tbody tr th:only-of-type {\n",
       "        vertical-align: middle;\n",
       "    }\n",
       "\n",
       "    .dataframe tbody tr th {\n",
       "        vertical-align: top;\n",
       "    }\n",
       "\n",
       "    .dataframe thead th {\n",
       "        text-align: right;\n",
       "    }\n",
       "</style>\n",
       "<table border=\"1\" class=\"dataframe\">\n",
       "  <thead>\n",
       "    <tr style=\"text-align: right;\">\n",
       "      <th></th>\n",
       "      <th></th>\n",
       "      <th>PassengerId</th>\n",
       "    </tr>\n",
       "    <tr>\n",
       "      <th>Survived</th>\n",
       "      <th>SibSp</th>\n",
       "      <th></th>\n",
       "    </tr>\n",
       "  </thead>\n",
       "  <tbody>\n",
       "    <tr>\n",
       "      <th rowspan=\"7\" valign=\"top\">0</th>\n",
       "      <th>0</th>\n",
       "      <td>240</td>\n",
       "    </tr>\n",
       "    <tr>\n",
       "      <th>1</th>\n",
       "      <td>51</td>\n",
       "    </tr>\n",
       "    <tr>\n",
       "      <th>2</th>\n",
       "      <td>7</td>\n",
       "    </tr>\n",
       "    <tr>\n",
       "      <th>3</th>\n",
       "      <td>9</td>\n",
       "    </tr>\n",
       "    <tr>\n",
       "      <th>4</th>\n",
       "      <td>9</td>\n",
       "    </tr>\n",
       "    <tr>\n",
       "      <th>5</th>\n",
       "      <td>3</td>\n",
       "    </tr>\n",
       "    <tr>\n",
       "      <th>8</th>\n",
       "      <td>6</td>\n",
       "    </tr>\n",
       "    <tr>\n",
       "      <th rowspan=\"5\" valign=\"top\">1</th>\n",
       "      <th>0</th>\n",
       "      <td>131</td>\n",
       "    </tr>\n",
       "    <tr>\n",
       "      <th>1</th>\n",
       "      <td>63</td>\n",
       "    </tr>\n",
       "    <tr>\n",
       "      <th>2</th>\n",
       "      <td>9</td>\n",
       "    </tr>\n",
       "    <tr>\n",
       "      <th>3</th>\n",
       "      <td>3</td>\n",
       "    </tr>\n",
       "    <tr>\n",
       "      <th>4</th>\n",
       "      <td>3</td>\n",
       "    </tr>\n",
       "  </tbody>\n",
       "</table>\n",
       "</div>"
      ],
      "text/plain": [
       "                PassengerId\n",
       "Survived SibSp             \n",
       "0        0              240\n",
       "         1               51\n",
       "         2                7\n",
       "         3                9\n",
       "         4                9\n",
       "         5                3\n",
       "         8                6\n",
       "1        0              131\n",
       "         1               63\n",
       "         2                9\n",
       "         3                3\n",
       "         4                3"
      ]
     },
     "execution_count": 7,
     "metadata": {},
     "output_type": "execute_result"
    }
   ],
   "source": [
    "# группировка данных по выжившим и количеству родственников\n",
    "gr=pass_train[['Survived','SibSp','PassengerId']].groupby(['Survived','SibSp']).count()\n",
    "gr"
   ]
  },
  {
   "cell_type": "code",
   "execution_count": 8,
   "metadata": {
    "execution": {
     "iopub.execute_input": "2021-04-06T17:49:41.024731Z",
     "iopub.status.busy": "2021-04-06T17:49:41.023410Z",
     "iopub.status.idle": "2021-04-06T17:49:41.260642Z",
     "shell.execute_reply": "2021-04-06T17:49:41.260028Z"
    },
    "papermill": {
     "duration": 0.331322,
     "end_time": "2021-04-06T17:49:41.260793",
     "exception": false,
     "start_time": "2021-04-06T17:49:40.929471",
     "status": "completed"
    },
    "pycharm": {
     "name": "#%%\n"
    },
    "tags": []
   },
   "outputs": [
    {
     "data": {
      "image/png": "[encoded data removed]",
      "text/plain": [
       "<Figure size 432x288 with 1 Axes>"
      ]
     },
     "metadata": {
      "needs_background": "light"
     },
     "output_type": "display_data"
    }
   ],
   "source": [
    "gr=gr.reset_index()\n",
    "# Количество групп разное для выживших = 0 и выживших = 0\n",
    "for i in range(0,2):\n",
    "    for j in range(1,9):\n",
    "        if len(gr[(gr['Survived']==i)&(gr['SibSp']==j)])==0:\n",
    "            gr=gr.append({'Survived':i,'SibSp':j,'PassengerId':0},ignore_index=True)\n",
    "gr=gr.sort_values(by=['Survived','SibSp'])\n",
    "grouped_bar_chart(gr[gr['Survived']==0]['SibSp'],\n",
    "                  gr[gr['Survived']==0]['PassengerId'],\n",
    "                  gr[gr['Survived']==1]['PassengerId'])"
   ]
  },
  {
   "cell_type": "code",
   "execution_count": 9,
   "metadata": {
    "execution": {
     "iopub.execute_input": "2021-04-06T17:49:41.514740Z",
     "iopub.status.busy": "2021-04-06T17:49:41.514127Z",
     "iopub.status.idle": "2021-04-06T17:49:41.524179Z",
     "shell.execute_reply": "2021-04-06T17:49:41.523602Z"
    },
    "papermill": {
     "duration": 0.058341,
     "end_time": "2021-04-06T17:49:41.524335",
     "exception": false,
     "start_time": "2021-04-06T17:49:41.465994",
     "status": "completed"
    },
    "pycharm": {
     "name": "#%%\n"
    },
    "tags": []
   },
   "outputs": [
    {
     "data": {
      "text/html": [
       "<div>\n",
       "<style scoped>\n",
       "    .dataframe tbody tr th:only-of-type {\n",
       "        vertical-align: middle;\n",
       "    }\n",
       "\n",
       "    .dataframe tbody tr th {\n",
       "        vertical-align: top;\n",
       "    }\n",
       "\n",
       "    .dataframe thead th {\n",
       "        text-align: right;\n",
       "    }\n",
       "</style>\n",
       "<table border=\"1\" class=\"dataframe\">\n",
       "  <thead>\n",
       "    <tr style=\"text-align: right;\">\n",
       "      <th></th>\n",
       "      <th></th>\n",
       "      <th>PassengerId</th>\n",
       "    </tr>\n",
       "    <tr>\n",
       "      <th>Survived</th>\n",
       "      <th>Parch</th>\n",
       "      <th></th>\n",
       "    </tr>\n",
       "  </thead>\n",
       "  <tbody>\n",
       "    <tr>\n",
       "      <th rowspan=\"6\" valign=\"top\">0</th>\n",
       "      <th>0</th>\n",
       "      <td>267</td>\n",
       "    </tr>\n",
       "    <tr>\n",
       "      <th>1</th>\n",
       "      <td>26</td>\n",
       "    </tr>\n",
       "    <tr>\n",
       "      <th>2</th>\n",
       "      <td>26</td>\n",
       "    </tr>\n",
       "    <tr>\n",
       "      <th>4</th>\n",
       "      <td>2</td>\n",
       "    </tr>\n",
       "    <tr>\n",
       "      <th>5</th>\n",
       "      <td>3</td>\n",
       "    </tr>\n",
       "    <tr>\n",
       "      <th>6</th>\n",
       "      <td>1</td>\n",
       "    </tr>\n",
       "    <tr>\n",
       "      <th rowspan=\"4\" valign=\"top\">1</th>\n",
       "      <th>0</th>\n",
       "      <td>143</td>\n",
       "    </tr>\n",
       "    <tr>\n",
       "      <th>1</th>\n",
       "      <td>39</td>\n",
       "    </tr>\n",
       "    <tr>\n",
       "      <th>2</th>\n",
       "      <td>24</td>\n",
       "    </tr>\n",
       "    <tr>\n",
       "      <th>3</th>\n",
       "      <td>3</td>\n",
       "    </tr>\n",
       "  </tbody>\n",
       "</table>\n",
       "</div>"
      ],
      "text/plain": [
       "                PassengerId\n",
       "Survived Parch             \n",
       "0        0              267\n",
       "         1               26\n",
       "         2               26\n",
       "         4                2\n",
       "         5                3\n",
       "         6                1\n",
       "1        0              143\n",
       "         1               39\n",
       "         2               24\n",
       "         3                3"
      ]
     },
     "execution_count": 9,
     "metadata": {},
     "output_type": "execute_result"
    }
   ],
   "source": [
    "gr=pass_train[['Survived','Parch','PassengerId']].groupby(['Survived','Parch']).count()\n",
    "gr"
   ]
  },
  {
   "cell_type": "code",
   "execution_count": 10,
   "metadata": {
    "execution": {
     "iopub.execute_input": "2021-04-06T17:49:41.644270Z",
     "iopub.status.busy": "2021-04-06T17:49:41.641282Z",
     "iopub.status.idle": "2021-04-06T17:49:41.833489Z",
     "shell.execute_reply": "2021-04-06T17:49:41.832947Z"
    },
    "papermill": {
     "duration": 0.267624,
     "end_time": "2021-04-06T17:49:41.833629",
     "exception": false,
     "start_time": "2021-04-06T17:49:41.566005",
     "status": "completed"
    },
    "pycharm": {
     "name": "#%%\n"
    },
    "tags": []
   },
   "outputs": [
    {
     "data": {
      "image/png": "[encoded data removed]",
      "text/plain": [
       "<Figure size 432x288 with 1 Axes>"
      ]
     },
     "metadata": {
      "needs_background": "light"
     },
     "output_type": "display_data"
    }
   ],
   "source": [
    "gr=gr.reset_index()\n",
    "gr=gr.append({'Survived':1,'Parch':4,'PassengerId':0},ignore_index=True)\n",
    "gr=gr.append({'Survived':1,'Parch':6,'PassengerId':0},ignore_index=True)\n",
    "gr=gr.sort_values(by=['Survived','Parch'])\n",
    "grouped_bar_chart(gr[gr['Survived']==0]['Parch'],\n",
    "                  gr[gr['Survived']==0]['PassengerId'],\n",
    "                  gr[gr['Survived']==1]['PassengerId'])"
   ]
  },
  {
   "cell_type": "code",
   "execution_count": 11,
   "metadata": {
    "execution": {
     "iopub.execute_input": "2021-04-06T17:49:42.100557Z",
     "iopub.status.busy": "2021-04-06T17:49:42.097304Z",
     "iopub.status.idle": "2021-04-06T17:49:42.287714Z",
     "shell.execute_reply": "2021-04-06T17:49:42.287101Z"
    },
    "papermill": {
     "duration": 0.243889,
     "end_time": "2021-04-06T17:49:42.287866",
     "exception": false,
     "start_time": "2021-04-06T17:49:42.043977",
     "status": "completed"
    },
    "pycharm": {
     "name": "#%%\n"
    },
    "tags": []
   },
   "outputs": [
    {
     "data": {
      "image/png": "[encoded data removed]",
      "text/plain": [
       "<Figure size 432x288 with 1 Axes>"
      ]
     },
     "metadata": {
      "needs_background": "light"
     },
     "output_type": "display_data"
    }
   ],
   "source": [
    "gr=pass_train[['Survived','Embarked','PassengerId']].groupby(['Survived','Embarked']).count()\n",
    "gr=gr.reset_index()\n",
    "grouped_bar_chart(['Cherbourg','Queenstown','Southampton'],\n",
    "                  gr[gr['Survived']==0]['PassengerId'],\n",
    "                  gr[gr['Survived']==1]['PassengerId'])"
   ]
  },
  {
   "cell_type": "code",
   "execution_count": 12,
   "metadata": {
    "execution": {
     "iopub.execute_input": "2021-04-06T17:49:42.558528Z",
     "iopub.status.busy": "2021-04-06T17:49:42.557888Z",
     "iopub.status.idle": "2021-04-06T17:49:42.560921Z",
     "shell.execute_reply": "2021-04-06T17:49:42.560411Z"
    },
    "papermill": {
     "duration": 0.05755,
     "end_time": "2021-04-06T17:49:42.561123",
     "exception": false,
     "start_time": "2021-04-06T17:49:42.503573",
     "status": "completed"
    },
    "pycharm": {
     "name": "#%%\n"
    },
    "tags": []
   },
   "outputs": [],
   "source": [
    "pass_train['Title']=pass_train['Name'].str.extract(r',\\s?(.+?)\\.\\s')\n",
    "pass_test['Title']=pass_test['Name'].str.extract(r',\\s?(.+?)\\.\\s')"
   ]
  },
  {
   "cell_type": "code",
   "execution_count": 13,
   "metadata": {
    "execution": {
     "iopub.execute_input": "2021-04-06T17:49:43.186732Z",
     "iopub.status.busy": "2021-04-06T17:49:43.181879Z",
     "iopub.status.idle": "2021-04-06T17:49:43.192923Z",
     "shell.execute_reply": "2021-04-06T17:49:43.192284Z"
    },
    "papermill": {
     "duration": 0.06571,
     "end_time": "2021-04-06T17:49:43.193112",
     "exception": false,
     "start_time": "2021-04-06T17:49:43.127402",
     "status": "completed"
    },
    "pycharm": {
     "name": "#%%\n"
    },
    "tags": []
   },
   "outputs": [
    {
     "data": {
      "text/html": [
       "<div>\n",
       "<style scoped>\n",
       "    .dataframe tbody tr th:only-of-type {\n",
       "        vertical-align: middle;\n",
       "    }\n",
       "\n",
       "    .dataframe tbody tr th {\n",
       "        vertical-align: top;\n",
       "    }\n",
       "\n",
       "    .dataframe thead th {\n",
       "        text-align: right;\n",
       "    }\n",
       "</style>\n",
       "<table border=\"1\" class=\"dataframe\">\n",
       "  <thead>\n",
       "    <tr style=\"text-align: right;\">\n",
       "      <th></th>\n",
       "      <th>Fare</th>\n",
       "    </tr>\n",
       "    <tr>\n",
       "      <th>Survived</th>\n",
       "      <th></th>\n",
       "    </tr>\n",
       "  </thead>\n",
       "  <tbody>\n",
       "    <tr>\n",
       "      <th>0</th>\n",
       "      <td>9.5000</td>\n",
       "    </tr>\n",
       "    <tr>\n",
       "      <th>1</th>\n",
       "      <td>25.9292</td>\n",
       "    </tr>\n",
       "  </tbody>\n",
       "</table>\n",
       "</div>"
      ],
      "text/plain": [
       "             Fare\n",
       "Survived         \n",
       "0          9.5000\n",
       "1         25.9292"
      ]
     },
     "execution_count": 13,
     "metadata": {},
     "output_type": "execute_result"
    }
   ],
   "source": [
    "pass_train[['Fare','Survived']].groupby(['Survived']).median()"
   ]
  },
  {
   "cell_type": "code",
   "execution_count": 14,
   "metadata": {
    "execution": {
     "iopub.execute_input": "2021-04-06T17:49:43.387188Z",
     "iopub.status.busy": "2021-04-06T17:49:43.386189Z",
     "iopub.status.idle": "2021-04-06T17:49:43.390785Z",
     "shell.execute_reply": "2021-04-06T17:49:43.390257Z"
    },
    "papermill": {
     "duration": 0.060482,
     "end_time": "2021-04-06T17:49:43.390936",
     "exception": false,
     "start_time": "2021-04-06T17:49:43.330454",
     "status": "completed"
    },
    "tags": []
   },
   "outputs": [
    {
     "data": {
      "text/html": [
       "<div>\n",
       "<style scoped>\n",
       "    .dataframe tbody tr th:only-of-type {\n",
       "        vertical-align: middle;\n",
       "    }\n",
       "\n",
       "    .dataframe tbody tr th {\n",
       "        vertical-align: top;\n",
       "    }\n",
       "\n",
       "    .dataframe thead th {\n",
       "        text-align: right;\n",
       "    }\n",
       "</style>\n",
       "<table border=\"1\" class=\"dataframe\">\n",
       "  <thead>\n",
       "    <tr style=\"text-align: right;\">\n",
       "      <th></th>\n",
       "      <th>Fare</th>\n",
       "    </tr>\n",
       "    <tr>\n",
       "      <th>Survived</th>\n",
       "      <th></th>\n",
       "    </tr>\n",
       "  </thead>\n",
       "  <tbody>\n",
       "    <tr>\n",
       "      <th>0</th>\n",
       "      <td>21.339357</td>\n",
       "    </tr>\n",
       "    <tr>\n",
       "      <th>1</th>\n",
       "      <td>50.571631</td>\n",
       "    </tr>\n",
       "  </tbody>\n",
       "</table>\n",
       "</div>"
      ],
      "text/plain": [
       "               Fare\n",
       "Survived           \n",
       "0         21.339357\n",
       "1         50.571631"
      ]
     },
     "execution_count": 14,
     "metadata": {},
     "output_type": "execute_result"
    }
   ],
   "source": [
    "pass_train[['Fare','Survived']].groupby(['Survived']).mean()"
   ]
  },
  {
   "cell_type": "code",
   "execution_count": 15,
   "metadata": {
    "execution": {
     "iopub.execute_input": "2021-04-06T17:49:43.668615Z",
     "iopub.status.busy": "2021-04-06T17:49:43.667668Z",
     "iopub.status.idle": "2021-04-06T17:49:43.690062Z",
     "shell.execute_reply": "2021-04-06T17:49:43.690557Z"
    },
    "papermill": {
     "duration": 0.071854,
     "end_time": "2021-04-06T17:49:43.690732",
     "exception": false,
     "start_time": "2021-04-06T17:49:43.618878",
     "status": "completed"
    },
    "pycharm": {
     "name": "#%%\n"
    },
    "tags": []
   },
   "outputs": [
    {
     "data": {
      "text/html": [
       "<div>\n",
       "<style scoped>\n",
       "    .dataframe tbody tr th:only-of-type {\n",
       "        vertical-align: middle;\n",
       "    }\n",
       "\n",
       "    .dataframe tbody tr th {\n",
       "        vertical-align: top;\n",
       "    }\n",
       "\n",
       "    .dataframe thead th {\n",
       "        text-align: right;\n",
       "    }\n",
       "</style>\n",
       "<table border=\"1\" class=\"dataframe\">\n",
       "  <thead>\n",
       "    <tr style=\"text-align: right;\">\n",
       "      <th></th>\n",
       "      <th></th>\n",
       "      <th>PassengerId</th>\n",
       "    </tr>\n",
       "    <tr>\n",
       "      <th>Pclass</th>\n",
       "      <th>Deck</th>\n",
       "      <th></th>\n",
       "    </tr>\n",
       "  </thead>\n",
       "  <tbody>\n",
       "    <tr>\n",
       "      <th rowspan=\"6\" valign=\"top\">1</th>\n",
       "      <th>A</th>\n",
       "      <td>15</td>\n",
       "    </tr>\n",
       "    <tr>\n",
       "      <th>B</th>\n",
       "      <td>47</td>\n",
       "    </tr>\n",
       "    <tr>\n",
       "      <th>C</th>\n",
       "      <td>59</td>\n",
       "    </tr>\n",
       "    <tr>\n",
       "      <th>D</th>\n",
       "      <td>29</td>\n",
       "    </tr>\n",
       "    <tr>\n",
       "      <th>E</th>\n",
       "      <td>25</td>\n",
       "    </tr>\n",
       "    <tr>\n",
       "      <th>T</th>\n",
       "      <td>1</td>\n",
       "    </tr>\n",
       "    <tr>\n",
       "      <th rowspan=\"3\" valign=\"top\">2</th>\n",
       "      <th>D</th>\n",
       "      <td>4</td>\n",
       "    </tr>\n",
       "    <tr>\n",
       "      <th>E</th>\n",
       "      <td>4</td>\n",
       "    </tr>\n",
       "    <tr>\n",
       "      <th>F</th>\n",
       "      <td>8</td>\n",
       "    </tr>\n",
       "    <tr>\n",
       "      <th rowspan=\"3\" valign=\"top\">3</th>\n",
       "      <th>E</th>\n",
       "      <td>3</td>\n",
       "    </tr>\n",
       "    <tr>\n",
       "      <th>F</th>\n",
       "      <td>5</td>\n",
       "    </tr>\n",
       "    <tr>\n",
       "      <th>G</th>\n",
       "      <td>4</td>\n",
       "    </tr>\n",
       "  </tbody>\n",
       "</table>\n",
       "</div>"
      ],
      "text/plain": [
       "             PassengerId\n",
       "Pclass Deck             \n",
       "1      A              15\n",
       "       B              47\n",
       "       C              59\n",
       "       D              29\n",
       "       E              25\n",
       "       T               1\n",
       "2      D               4\n",
       "       E               4\n",
       "       F               8\n",
       "3      E               3\n",
       "       F               5\n",
       "       G               4"
      ]
     },
     "execution_count": 15,
     "metadata": {},
     "output_type": "execute_result"
    }
   ],
   "source": [
    "pass_train['Deck']=pass_train['Cabin'].str.slice(0,1)\n",
    "pass_test['Deck']=pass_test['Cabin'].str.slice(0,1)\n",
    "pd.concat([pass_train,pass_test])[['Deck','Pclass','PassengerId']].groupby(['Pclass','Deck']).count()\n"
   ]
  },
  {
   "cell_type": "code",
   "execution_count": 16,
   "metadata": {
    "execution": {
     "iopub.execute_input": "2021-04-06T17:49:44.067900Z",
     "iopub.status.busy": "2021-04-06T17:49:44.066978Z",
     "iopub.status.idle": "2021-04-06T17:49:44.092700Z",
     "shell.execute_reply": "2021-04-06T17:49:44.093551Z"
    },
    "papermill": {
     "duration": 0.075993,
     "end_time": "2021-04-06T17:49:44.093887",
     "exception": false,
     "start_time": "2021-04-06T17:49:44.017894",
     "status": "completed"
    },
    "pycharm": {
     "name": "#%%\n"
    },
    "tags": []
   },
   "outputs": [
    {
     "name": "stdout",
     "output_type": "stream",
     "text": [
      "<class 'pandas.core.frame.DataFrame'>\n",
      "Int64Index: 891 entries, 0 to 356\n",
      "Data columns (total 10 columns):\n",
      " #   Column    Non-Null Count  Dtype  \n",
      "---  ------    --------------  -----  \n",
      " 0   Pclass    891 non-null    int64  \n",
      " 1   Sex       891 non-null    object \n",
      " 2   Age       714 non-null    float64\n",
      " 3   SibSp     891 non-null    int64  \n",
      " 4   Parch     891 non-null    int64  \n",
      " 5   Fare      891 non-null    float64\n",
      " 6   Embarked  889 non-null    object \n",
      " 7   Title     891 non-null    object \n",
      " 8   Deck      204 non-null    object \n",
      " 9   Set       891 non-null    object \n",
      "dtypes: float64(2), int64(3), object(5)\n",
      "memory usage: 76.6+ KB\n"
     ]
    }
   ],
   "source": [
    "Y_train=pass_train[['Survived']].copy()\n",
    "params=['Pclass','Sex','Age','SibSp','Parch','Fare','Embarked','Title','Deck']\n",
    "X_train=pass_train[params].copy()\n",
    "X_test=pass_test[params].copy()\n",
    "\n",
    "# concat X_train and X_test to preprocess them together\n",
    "X_train['Set']='train'\n",
    "X_test['Set']='test'\n",
    "X_full=pd.concat([X_train,X_test])\n",
    "X_full.info()"
   ]
  },
  {
   "cell_type": "code",
   "execution_count": 17,
   "metadata": {
    "execution": {
     "iopub.execute_input": "2021-04-06T17:49:44.292703Z",
     "iopub.status.busy": "2021-04-06T17:49:44.291926Z",
     "iopub.status.idle": "2021-04-06T17:49:44.295441Z",
     "shell.execute_reply": "2021-04-06T17:49:44.295920Z"
    },
    "papermill": {
     "duration": 0.059701,
     "end_time": "2021-04-06T17:49:44.296104",
     "exception": false,
     "start_time": "2021-04-06T17:49:44.236403",
     "status": "completed"
    },
    "pycharm": {
     "name": "#%%\n"
    },
    "tags": []
   },
   "outputs": [
    {
     "data": {
      "text/plain": [
       "Pclass        0\n",
       "Sex           0\n",
       "Age         177\n",
       "SibSp         0\n",
       "Parch         0\n",
       "Fare          0\n",
       "Embarked      2\n",
       "Title         0\n",
       "Deck        687\n",
       "Set           0\n",
       "dtype: int64"
      ]
     },
     "execution_count": 17,
     "metadata": {},
     "output_type": "execute_result"
    }
   ],
   "source": [
    "pd.isna(X_full).sum()\n"
   ]
  },
  {
   "cell_type": "code",
   "execution_count": 18,
   "metadata": {
    "execution": {
     "iopub.execute_input": "2021-04-06T17:49:44.486464Z",
     "iopub.status.busy": "2021-04-06T17:49:44.485844Z",
     "iopub.status.idle": "2021-04-06T17:49:44.490669Z",
     "shell.execute_reply": "2021-04-06T17:49:44.491125Z"
    },
    "papermill": {
     "duration": 0.054864,
     "end_time": "2021-04-06T17:49:44.491296",
     "exception": false,
     "start_time": "2021-04-06T17:49:44.436432",
     "status": "completed"
    },
    "pycharm": {
     "name": "#%%\n"
    },
    "tags": []
   },
   "outputs": [],
   "source": [
    "X_full['Deck'].replace(np.nan,'Z',inplace=True)"
   ]
  },
  {
   "cell_type": "code",
   "execution_count": 19,
   "metadata": {
    "execution": {
     "iopub.execute_input": "2021-04-06T17:49:44.880619Z",
     "iopub.status.busy": "2021-04-06T17:49:44.879976Z",
     "iopub.status.idle": "2021-04-06T17:49:44.886937Z",
     "shell.execute_reply": "2021-04-06T17:49:44.886372Z"
    },
    "papermill": {
     "duration": 0.05799,
     "end_time": "2021-04-06T17:49:44.887091",
     "exception": false,
     "start_time": "2021-04-06T17:49:44.829101",
     "status": "completed"
    },
    "pycharm": {
     "name": "#%%\n"
    },
    "tags": []
   },
   "outputs": [],
   "source": [
    "# Заменяем пропуски наиболее часто встречаем значением\n",
    "X_full['Embarked'].replace(np.nan,X_full['Embarked'].value_counts().idxmax(),inplace=True)"
   ]
  },
  {
   "cell_type": "code",
   "execution_count": 20,
   "metadata": {
    "execution": {
     "iopub.execute_input": "2021-04-06T17:49:45.082656Z",
     "iopub.status.busy": "2021-04-06T17:49:45.081711Z",
     "iopub.status.idle": "2021-04-06T17:49:45.093035Z",
     "shell.execute_reply": "2021-04-06T17:49:45.093586Z"
    },
    "jupyter": {
     "outputs_hidden": false
    },
    "papermill": {
     "duration": 0.064991,
     "end_time": "2021-04-06T17:49:45.093755",
     "exception": false,
     "start_time": "2021-04-06T17:49:45.028764",
     "status": "completed"
    },
    "pycharm": {
     "name": "#%%\n"
    },
    "tags": []
   },
   "outputs": [
    {
     "data": {
      "text/html": [
       "<div>\n",
       "<style scoped>\n",
       "    .dataframe tbody tr th:only-of-type {\n",
       "        vertical-align: middle;\n",
       "    }\n",
       "\n",
       "    .dataframe tbody tr th {\n",
       "        vertical-align: top;\n",
       "    }\n",
       "\n",
       "    .dataframe thead th {\n",
       "        text-align: right;\n",
       "    }\n",
       "</style>\n",
       "<table border=\"1\" class=\"dataframe\">\n",
       "  <thead>\n",
       "    <tr style=\"text-align: right;\">\n",
       "      <th></th>\n",
       "      <th></th>\n",
       "      <th>Pclass</th>\n",
       "    </tr>\n",
       "    <tr>\n",
       "      <th>Set</th>\n",
       "      <th>Sex</th>\n",
       "      <th></th>\n",
       "    </tr>\n",
       "  </thead>\n",
       "  <tbody>\n",
       "    <tr>\n",
       "      <th rowspan=\"2\" valign=\"top\">test</th>\n",
       "      <th>female</th>\n",
       "      <td>126</td>\n",
       "    </tr>\n",
       "    <tr>\n",
       "      <th>male</th>\n",
       "      <td>231</td>\n",
       "    </tr>\n",
       "    <tr>\n",
       "      <th rowspan=\"2\" valign=\"top\">train</th>\n",
       "      <th>female</th>\n",
       "      <td>188</td>\n",
       "    </tr>\n",
       "    <tr>\n",
       "      <th>male</th>\n",
       "      <td>346</td>\n",
       "    </tr>\n",
       "  </tbody>\n",
       "</table>\n",
       "</div>"
      ],
      "text/plain": [
       "              Pclass\n",
       "Set   Sex           \n",
       "test  female     126\n",
       "      male       231\n",
       "train female     188\n",
       "      male       346"
      ]
     },
     "execution_count": 20,
     "metadata": {},
     "output_type": "execute_result"
    }
   ],
   "source": [
    "# Проверить значения «Пол» в обоих наборах\n",
    "X_full[['Set','Sex','Pclass']].groupby(['Set','Sex']).count()"
   ]
  },
  {
   "cell_type": "code",
   "execution_count": 21,
   "metadata": {
    "execution": {
     "iopub.execute_input": "2021-04-06T17:49:45.194123Z",
     "iopub.status.busy": "2021-04-06T17:49:45.193135Z",
     "iopub.status.idle": "2021-04-06T17:49:45.207254Z",
     "shell.execute_reply": "2021-04-06T17:49:45.206622Z"
    },
    "jupyter": {
     "outputs_hidden": false
    },
    "papermill": {
     "duration": 0.065968,
     "end_time": "2021-04-06T17:49:45.207408",
     "exception": false,
     "start_time": "2021-04-06T17:49:45.141440",
     "status": "completed"
    },
    "pycharm": {
     "name": "#%%\n"
    },
    "tags": []
   },
   "outputs": [
    {
     "data": {
      "text/html": [
       "<div>\n",
       "<style scoped>\n",
       "    .dataframe tbody tr th:only-of-type {\n",
       "        vertical-align: middle;\n",
       "    }\n",
       "\n",
       "    .dataframe tbody tr th {\n",
       "        vertical-align: top;\n",
       "    }\n",
       "\n",
       "    .dataframe thead th {\n",
       "        text-align: right;\n",
       "    }\n",
       "</style>\n",
       "<table border=\"1\" class=\"dataframe\">\n",
       "  <thead>\n",
       "    <tr style=\"text-align: right;\">\n",
       "      <th></th>\n",
       "      <th></th>\n",
       "      <th>Pclass</th>\n",
       "    </tr>\n",
       "    <tr>\n",
       "      <th>Set</th>\n",
       "      <th>Embarked</th>\n",
       "      <th></th>\n",
       "    </tr>\n",
       "  </thead>\n",
       "  <tbody>\n",
       "    <tr>\n",
       "      <th rowspan=\"3\" valign=\"top\">test</th>\n",
       "      <th>C</th>\n",
       "      <td>65</td>\n",
       "    </tr>\n",
       "    <tr>\n",
       "      <th>Q</th>\n",
       "      <td>26</td>\n",
       "    </tr>\n",
       "    <tr>\n",
       "      <th>S</th>\n",
       "      <td>266</td>\n",
       "    </tr>\n",
       "    <tr>\n",
       "      <th rowspan=\"3\" valign=\"top\">train</th>\n",
       "      <th>C</th>\n",
       "      <td>103</td>\n",
       "    </tr>\n",
       "    <tr>\n",
       "      <th>Q</th>\n",
       "      <td>51</td>\n",
       "    </tr>\n",
       "    <tr>\n",
       "      <th>S</th>\n",
       "      <td>380</td>\n",
       "    </tr>\n",
       "  </tbody>\n",
       "</table>\n",
       "</div>"
      ],
      "text/plain": [
       "                Pclass\n",
       "Set   Embarked        \n",
       "test  C             65\n",
       "      Q             26\n",
       "      S            266\n",
       "train C            103\n",
       "      Q             51\n",
       "      S            380"
      ]
     },
     "execution_count": 21,
     "metadata": {},
     "output_type": "execute_result"
    }
   ],
   "source": [
    "X_full[['Set','Embarked','Pclass']].groupby(['Set','Embarked']).count()"
   ]
  },
  {
   "cell_type": "code",
   "execution_count": 22,
   "metadata": {
    "execution": {
     "iopub.execute_input": "2021-04-06T17:49:45.312765Z",
     "iopub.status.busy": "2021-04-06T17:49:45.312028Z",
     "iopub.status.idle": "2021-04-06T17:49:45.325791Z",
     "shell.execute_reply": "2021-04-06T17:49:45.325291Z"
    },
    "jupyter": {
     "outputs_hidden": false
    },
    "papermill": {
     "duration": 0.070148,
     "end_time": "2021-04-06T17:49:45.325948",
     "exception": false,
     "start_time": "2021-04-06T17:49:45.255800",
     "status": "completed"
    },
    "pycharm": {
     "name": "#%%\n"
    },
    "tags": []
   },
   "outputs": [
    {
     "data": {
      "text/html": [
       "<div>\n",
       "<style scoped>\n",
       "    .dataframe tbody tr th:only-of-type {\n",
       "        vertical-align: middle;\n",
       "    }\n",
       "\n",
       "    .dataframe tbody tr th {\n",
       "        vertical-align: top;\n",
       "    }\n",
       "\n",
       "    .dataframe thead th {\n",
       "        text-align: right;\n",
       "    }\n",
       "</style>\n",
       "<table border=\"1\" class=\"dataframe\">\n",
       "  <thead>\n",
       "    <tr style=\"text-align: right;\">\n",
       "      <th></th>\n",
       "      <th></th>\n",
       "      <th>Pclass</th>\n",
       "    </tr>\n",
       "    <tr>\n",
       "      <th>Set</th>\n",
       "      <th>Title</th>\n",
       "      <th></th>\n",
       "    </tr>\n",
       "  </thead>\n",
       "  <tbody>\n",
       "    <tr>\n",
       "      <th rowspan=\"9\" valign=\"top\">test</th>\n",
       "      <th>Col</th>\n",
       "      <td>2</td>\n",
       "    </tr>\n",
       "    <tr>\n",
       "      <th>Jonkheer</th>\n",
       "      <td>1</td>\n",
       "    </tr>\n",
       "    <tr>\n",
       "      <th>Major</th>\n",
       "      <td>1</td>\n",
       "    </tr>\n",
       "    <tr>\n",
       "      <th>Master</th>\n",
       "      <td>13</td>\n",
       "    </tr>\n",
       "    <tr>\n",
       "      <th>Miss</th>\n",
       "      <td>63</td>\n",
       "    </tr>\n",
       "    <tr>\n",
       "      <th>Mme</th>\n",
       "      <td>1</td>\n",
       "    </tr>\n",
       "    <tr>\n",
       "      <th>Mr</th>\n",
       "      <td>210</td>\n",
       "    </tr>\n",
       "    <tr>\n",
       "      <th>Mrs</th>\n",
       "      <td>62</td>\n",
       "    </tr>\n",
       "    <tr>\n",
       "      <th>Rev</th>\n",
       "      <td>4</td>\n",
       "    </tr>\n",
       "    <tr>\n",
       "      <th rowspan=\"14\" valign=\"top\">train</th>\n",
       "      <th>Capt</th>\n",
       "      <td>1</td>\n",
       "    </tr>\n",
       "    <tr>\n",
       "      <th>Don</th>\n",
       "      <td>1</td>\n",
       "    </tr>\n",
       "    <tr>\n",
       "      <th>Dr</th>\n",
       "      <td>7</td>\n",
       "    </tr>\n",
       "    <tr>\n",
       "      <th>Lady</th>\n",
       "      <td>1</td>\n",
       "    </tr>\n",
       "    <tr>\n",
       "      <th>Major</th>\n",
       "      <td>1</td>\n",
       "    </tr>\n",
       "    <tr>\n",
       "      <th>Master</th>\n",
       "      <td>27</td>\n",
       "    </tr>\n",
       "    <tr>\n",
       "      <th>Miss</th>\n",
       "      <td>119</td>\n",
       "    </tr>\n",
       "    <tr>\n",
       "      <th>Mlle</th>\n",
       "      <td>2</td>\n",
       "    </tr>\n",
       "    <tr>\n",
       "      <th>Mr</th>\n",
       "      <td>307</td>\n",
       "    </tr>\n",
       "    <tr>\n",
       "      <th>Mrs</th>\n",
       "      <td>63</td>\n",
       "    </tr>\n",
       "    <tr>\n",
       "      <th>Ms</th>\n",
       "      <td>1</td>\n",
       "    </tr>\n",
       "    <tr>\n",
       "      <th>Rev</th>\n",
       "      <td>2</td>\n",
       "    </tr>\n",
       "    <tr>\n",
       "      <th>Sir</th>\n",
       "      <td>1</td>\n",
       "    </tr>\n",
       "    <tr>\n",
       "      <th>the Countess</th>\n",
       "      <td>1</td>\n",
       "    </tr>\n",
       "  </tbody>\n",
       "</table>\n",
       "</div>"
      ],
      "text/plain": [
       "                    Pclass\n",
       "Set   Title               \n",
       "test  Col                2\n",
       "      Jonkheer           1\n",
       "      Major              1\n",
       "      Master            13\n",
       "      Miss              63\n",
       "      Mme                1\n",
       "      Mr               210\n",
       "      Mrs               62\n",
       "      Rev                4\n",
       "train Capt               1\n",
       "      Don                1\n",
       "      Dr                 7\n",
       "      Lady               1\n",
       "      Major              1\n",
       "      Master            27\n",
       "      Miss             119\n",
       "      Mlle               2\n",
       "      Mr               307\n",
       "      Mrs               63\n",
       "      Ms                 1\n",
       "      Rev                2\n",
       "      Sir                1\n",
       "      the Countess       1"
      ]
     },
     "execution_count": 22,
     "metadata": {},
     "output_type": "execute_result"
    }
   ],
   "source": [
    "X_full[['Set','Title','Pclass']].groupby(['Set','Title']).count().sort_values(by=['Set','Title'])"
   ]
  },
  {
   "cell_type": "code",
   "execution_count": 23,
   "metadata": {
    "execution": {
     "iopub.execute_input": "2021-04-06T17:49:45.527177Z",
     "iopub.status.busy": "2021-04-06T17:49:45.526210Z",
     "iopub.status.idle": "2021-04-06T17:49:45.533466Z",
     "shell.execute_reply": "2021-04-06T17:49:45.533948Z"
    },
    "jupyter": {
     "outputs_hidden": false
    },
    "papermill": {
     "duration": 0.060146,
     "end_time": "2021-04-06T17:49:45.534137",
     "exception": false,
     "start_time": "2021-04-06T17:49:45.473991",
     "status": "completed"
    },
    "pycharm": {
     "name": "#%%\n"
    },
    "tags": []
   },
   "outputs": [],
   "source": [
    "X_full['Title'].replace(['Capt','Don','Dona','Jonkheer','Lady','Major','Mlle','Mme','Sir','the Countess'],\n",
    "                        ['Mr','Mr','Mrs','Mr','Mrs','Mr','Miss','Mrs','Mr','Mrs'],inplace=True)"
   ]
  },
  {
   "cell_type": "code",
   "execution_count": 24,
   "metadata": {
    "execution": {
     "iopub.execute_input": "2021-04-06T17:49:45.636782Z",
     "iopub.status.busy": "2021-04-06T17:49:45.635852Z",
     "iopub.status.idle": "2021-04-06T17:49:45.655174Z",
     "shell.execute_reply": "2021-04-06T17:49:45.655972Z"
    },
    "jupyter": {
     "outputs_hidden": false
    },
    "papermill": {
     "duration": 0.073256,
     "end_time": "2021-04-06T17:49:45.656247",
     "exception": false,
     "start_time": "2021-04-06T17:49:45.582991",
     "status": "completed"
    },
    "pycharm": {
     "name": "#%%\n"
    },
    "tags": []
   },
   "outputs": [
    {
     "data": {
      "text/html": [
       "<div>\n",
       "<style scoped>\n",
       "    .dataframe tbody tr th:only-of-type {\n",
       "        vertical-align: middle;\n",
       "    }\n",
       "\n",
       "    .dataframe tbody tr th {\n",
       "        vertical-align: top;\n",
       "    }\n",
       "\n",
       "    .dataframe thead th {\n",
       "        text-align: right;\n",
       "    }\n",
       "</style>\n",
       "<table border=\"1\" class=\"dataframe\">\n",
       "  <thead>\n",
       "    <tr style=\"text-align: right;\">\n",
       "      <th></th>\n",
       "      <th></th>\n",
       "      <th>Pclass</th>\n",
       "    </tr>\n",
       "    <tr>\n",
       "      <th>Set</th>\n",
       "      <th>Deck</th>\n",
       "      <th></th>\n",
       "    </tr>\n",
       "  </thead>\n",
       "  <tbody>\n",
       "    <tr>\n",
       "      <th rowspan=\"8\" valign=\"top\">test</th>\n",
       "      <th>A</th>\n",
       "      <td>7</td>\n",
       "    </tr>\n",
       "    <tr>\n",
       "      <th>B</th>\n",
       "      <td>16</td>\n",
       "    </tr>\n",
       "    <tr>\n",
       "      <th>C</th>\n",
       "      <td>25</td>\n",
       "    </tr>\n",
       "    <tr>\n",
       "      <th>D</th>\n",
       "      <td>13</td>\n",
       "    </tr>\n",
       "    <tr>\n",
       "      <th>E</th>\n",
       "      <td>12</td>\n",
       "    </tr>\n",
       "    <tr>\n",
       "      <th>F</th>\n",
       "      <td>7</td>\n",
       "    </tr>\n",
       "    <tr>\n",
       "      <th>G</th>\n",
       "      <td>4</td>\n",
       "    </tr>\n",
       "    <tr>\n",
       "      <th>Z</th>\n",
       "      <td>273</td>\n",
       "    </tr>\n",
       "    <tr>\n",
       "      <th rowspan=\"8\" valign=\"top\">train</th>\n",
       "      <th>A</th>\n",
       "      <td>8</td>\n",
       "    </tr>\n",
       "    <tr>\n",
       "      <th>B</th>\n",
       "      <td>31</td>\n",
       "    </tr>\n",
       "    <tr>\n",
       "      <th>C</th>\n",
       "      <td>34</td>\n",
       "    </tr>\n",
       "    <tr>\n",
       "      <th>D</th>\n",
       "      <td>20</td>\n",
       "    </tr>\n",
       "    <tr>\n",
       "      <th>E</th>\n",
       "      <td>20</td>\n",
       "    </tr>\n",
       "    <tr>\n",
       "      <th>F</th>\n",
       "      <td>6</td>\n",
       "    </tr>\n",
       "    <tr>\n",
       "      <th>T</th>\n",
       "      <td>1</td>\n",
       "    </tr>\n",
       "    <tr>\n",
       "      <th>Z</th>\n",
       "      <td>414</td>\n",
       "    </tr>\n",
       "  </tbody>\n",
       "</table>\n",
       "</div>"
      ],
      "text/plain": [
       "            Pclass\n",
       "Set   Deck        \n",
       "test  A          7\n",
       "      B         16\n",
       "      C         25\n",
       "      D         13\n",
       "      E         12\n",
       "      F          7\n",
       "      G          4\n",
       "      Z        273\n",
       "train A          8\n",
       "      B         31\n",
       "      C         34\n",
       "      D         20\n",
       "      E         20\n",
       "      F          6\n",
       "      T          1\n",
       "      Z        414"
      ]
     },
     "execution_count": 24,
     "metadata": {},
     "output_type": "execute_result"
    }
   ],
   "source": [
    "# Check values of 'Deck' in both sets\n",
    "X_full[['Set','Deck','Pclass']].groupby(['Set','Deck']).count().sort_values(by=['Set','Deck'])"
   ]
  },
  {
   "cell_type": "code",
   "execution_count": 25,
   "metadata": {
    "execution": {
     "iopub.execute_input": "2021-04-06T17:49:45.895086Z",
     "iopub.status.busy": "2021-04-06T17:49:45.894116Z",
     "iopub.status.idle": "2021-04-06T17:49:45.897191Z",
     "shell.execute_reply": "2021-04-06T17:49:45.896418Z"
    },
    "jupyter": {
     "outputs_hidden": false
    },
    "papermill": {
     "duration": 0.066804,
     "end_time": "2021-04-06T17:49:45.897400",
     "exception": false,
     "start_time": "2021-04-06T17:49:45.830596",
     "status": "completed"
    },
    "pycharm": {
     "name": "#%%\n"
    },
    "tags": []
   },
   "outputs": [],
   "source": [
    "X_full['Deck'].replace('T','Z',inplace=True)"
   ]
  },
  {
   "cell_type": "code",
   "execution_count": 26,
   "metadata": {
    "execution": {
     "iopub.execute_input": "2021-04-06T17:49:46.119905Z",
     "iopub.status.busy": "2021-04-06T17:49:46.119126Z",
     "iopub.status.idle": "2021-04-06T17:49:46.140801Z",
     "shell.execute_reply": "2021-04-06T17:49:46.140250Z"
    },
    "jupyter": {
     "outputs_hidden": false
    },
    "papermill": {
     "duration": 0.076706,
     "end_time": "2021-04-06T17:49:46.140991",
     "exception": false,
     "start_time": "2021-04-06T17:49:46.064285",
     "status": "completed"
    },
    "pycharm": {
     "name": "#%%\n"
    },
    "tags": []
   },
   "outputs": [],
   "source": [
    "from sklearn import preprocessing\n",
    "le = preprocessing.LabelEncoder()"
   ]
  },
  {
   "cell_type": "code",
   "execution_count": 27,
   "metadata": {
    "pycharm": {
     "name": "#%%\n"
    }
   },
   "outputs": [],
   "source": [
    "le.fit_transform(X_full['Deck'])\n",
    "X_full['Deck'] = le.fit_transform(X_full['Deck'])\n",
    "X_full['Sex'] = le.fit_transform(X_full['Sex'])\n",
    "\n",
    "\n",
    "cat_params=['Embarked','Title']\n",
    "X_full=pd.get_dummies(data=X_full,columns=cat_params,drop_first=True)"
   ]
  },
  {
   "cell_type": "code",
   "execution_count": 28,
   "metadata": {
    "execution": {
     "iopub.execute_input": "2021-04-06T17:49:46.460885Z",
     "iopub.status.busy": "2021-04-06T17:49:46.460263Z",
     "iopub.status.idle": "2021-04-06T17:49:50.782304Z",
     "shell.execute_reply": "2021-04-06T17:49:50.780476Z"
    },
    "papermill": {
     "duration": 4.385101,
     "end_time": "2021-04-06T17:49:50.782547",
     "exception": false,
     "start_time": "2021-04-06T17:49:46.397446",
     "status": "completed"
    },
    "pycharm": {
     "name": "#%%\n"
    },
    "tags": []
   },
   "outputs": [
    {
     "name": "stdout",
     "output_type": "stream",
     "text": [
      "r2 for LogisticRegression = 0.829559748427673\n",
      "r2 for RandomForestClassifier = 0.7959119496855346\n",
      "r2 for GaussianNB = 0.7475192173305382\n",
      "r2 for LinearDiscriminantAnalysis = 0.816282320055905\n",
      "r2 for KNeighborsClassifier = 0.8052760307477289\n",
      "r2 for DecisionTreeClassifier = 0.7511530398322852\n",
      "r2 for GradientBoostingClassifier = 0.8030398322851153\n"
     ]
    }
   ],
   "source": [
    "from sklearn.linear_model import LogisticRegression\n",
    "from sklearn.ensemble import RandomForestClassifier, GradientBoostingClassifier\n",
    "from sklearn.tree import DecisionTreeClassifier\n",
    "from sklearn.neighbors import KNeighborsClassifier\n",
    "from sklearn.naive_bayes import GaussianNB\n",
    "from sklearn.discriminant_analysis import LinearDiscriminantAnalysis\n",
    "\n",
    "from sklearn.model_selection import cross_validate\n",
    "from sklearn.preprocessing import StandardScaler\n",
    "\n",
    "# array of methods\n",
    "models=[LogisticRegression(),\n",
    "        RandomForestClassifier(),\n",
    "        GaussianNB(),\n",
    "        LinearDiscriminantAnalysis(),\n",
    "        KNeighborsClassifier(),\n",
    "        DecisionTreeClassifier(),\n",
    "        GradientBoostingClassifier()]\n",
    "\n",
    "X_train=X_full[X_full['Set']=='train'].copy()\n",
    "X_test=X_full[X_full['Set']=='test'].copy()\n",
    "X_train.drop(columns=['Set'],inplace=True)\n",
    "X_test.drop(columns=['Set'],inplace=True)\n",
    "\n",
    "X_train['Age'].replace(np.nan,X_train['Age'].mean(),inplace=True)\n",
    "X_train['Fare'].replace(np.nan,X_train['Fare'].mean(),inplace=True)\n",
    "X_test['Age'].replace(np.nan,X_test['Age'].mean(),inplace=True)\n",
    "X_test['Fare'].replace(np.nan,X_test['Fare'].mean(),inplace=True)\n",
    "\n",
    "# scaling\n",
    "scale=StandardScaler().fit(X_train)\n",
    "X_train_sc=scale.transform(X_train)\n",
    "X_test_sc=scale.transform(X_test)\n",
    "\n",
    "for model in models:\n",
    "    # обучить модели с кроссвалидацией\n",
    "    results=cross_validate(model,X_train_sc,Y_train.values.ravel(), cv=10)\n",
    "    # accuracy\n",
    "    r2=results['test_score'].mean()\n",
    "    # print the result\n",
    "    m=str(model)\n",
    "    print('r2 for',m[:m.index('(')],'=',r2)"
   ]
  },
  {
   "cell_type": "code",
   "execution_count": 29,
   "metadata": {
    "pycharm": {
     "name": "#%%\n"
    }
   },
   "outputs": [],
   "source": [
    "def create_submission_file(y_pred, alg_name):\n",
    "    extra_test = pass_test.copy()\n",
    "    extra_test['Survived']=y_pred\n",
    "    extra_test.set_index('PassengerId',inplace=True)\n",
    "    extra_test[['Survived']].to_csv(f\"{alg_name}_result.csv\")"
   ]
  },
  {
   "cell_type": "code",
   "execution_count": 30,
   "metadata": {
    "execution": {
     "iopub.execute_input": "2021-04-06T17:49:50.997797Z",
     "iopub.status.busy": "2021-04-06T17:49:50.997156Z",
     "iopub.status.idle": "2021-04-06T17:49:54.367273Z",
     "shell.execute_reply": "2021-04-06T17:49:54.367926Z"
    },
    "jupyter": {
     "outputs_hidden": false
    },
    "papermill": {
     "duration": 3.429779,
     "end_time": "2021-04-06T17:49:54.368200",
     "exception": false,
     "start_time": "2021-04-06T17:49:50.938421",
     "status": "completed"
    },
    "pycharm": {
     "name": "#%%\n"
    },
    "tags": []
   },
   "outputs": [
    {
     "name": "stdout",
     "output_type": "stream",
     "text": [
      "{'C': 0.1, 'penalty': 'l2', 'solver': 'saga'}\n",
      "score= 0.8221125022041967\n"
     ]
    },
    {
     "data": {
      "text/plain": [
       "array([0.91119189, 0.10277066, 0.77770794, 0.75633186, 0.10885138,\n",
       "       0.80640548, 0.12570476, 0.13717969, 0.16134204, 0.02877501,\n",
       "       0.69289251, 0.12780999, 0.12755342, 0.11451244, 0.06282526,\n",
       "       0.58308357, 0.20218963, 0.22655738, 0.1249318 , 0.04723796,\n",
       "       0.09208535, 0.76004588, 0.12982834, 0.22933985, 0.41042959,\n",
       "       0.11801044, 0.42610665, 0.12041   , 0.56452841, 0.92209225,\n",
       "       0.10890764, 0.11249313, 0.64833061, 0.61330406, 0.78624169,\n",
       "       0.37611618, 0.3116153 , 0.83456461, 0.71802244, 0.87828742,\n",
       "       0.83049382, 0.51620906, 0.48345378, 0.55905351, 0.86207076,\n",
       "       0.4236792 , 0.19109876, 0.1414784 , 0.10890764, 0.7204211 ,\n",
       "       0.10885138, 0.09716034, 0.18076813, 0.91282647, 0.17579226,\n",
       "       0.26771302, 0.0605893 , 0.68113161, 0.11662138, 0.0637754 ,\n",
       "       0.12750111, 0.34129762, 0.76375032, 0.1258495 , 0.13096074,\n",
       "       0.06505659, 0.79909032, 0.35387709, 0.31211975, 0.76737082,\n",
       "       0.1208705 , 0.37617141, 0.86098523, 0.37444144, 0.10466689,\n",
       "       0.22655738, 0.68915681, 0.34340922, 0.30126369, 0.95315024,\n",
       "       0.85962892, 0.11347311, 0.01783544, 0.10885138, 0.4613625 ,\n",
       "       0.45341252, 0.1684276 , 0.11045413, 0.71482827, 0.05352631,\n",
       "       0.84955979, 0.93854058, 0.41962523, 0.11459342, 0.65795251,\n",
       "       0.04746627, 0.98498747, 0.84955979, 0.1060182 , 0.10885138,\n",
       "       0.95539294, 0.17191219, 0.75624808, 0.13553771, 0.73427864,\n",
       "       0.13915135, 0.73969433, 0.80799044, 0.10885138, 0.80845333,\n",
       "       0.09208535, 0.17226938, 0.76885447, 0.46886623, 0.01599669,\n",
       "       0.94063555, 0.13717782, 0.13459124, 0.10297415, 0.07989528,\n",
       "       0.14920611, 0.70626975, 0.17190994, 0.3372037 , 0.89774138,\n",
       "       0.02997322, 0.76862563, 0.52263752, 0.7083318 , 0.13676402,\n",
       "       0.25816235, 0.86108653, 0.60057981, 0.18076813, 0.33216872,\n",
       "       0.96842334, 0.14913447, 0.42337117, 0.95498499, 0.85488292,\n",
       "       0.14322057, 0.947128  , 0.30421095, 0.85232141, 0.35985607,\n",
       "       0.40282093, 0.18076813, 0.61276355, 0.07629849, 0.07404938,\n",
       "       0.03117578, 0.21458898, 0.08362019, 0.91148919, 0.37705707,\n",
       "       0.69524479, 0.78569036, 0.1065835 , 0.08398394, 0.12071073,\n",
       "       0.2223709 , 0.847411  , 0.77856146, 0.11128424, 0.25287419,\n",
       "       0.62004496, 0.79191401, 0.23307359, 0.22502552, 0.81266163,\n",
       "       0.2581113 , 0.13436143, 0.90693891, 0.67691622, 0.29317687,\n",
       "       0.18617176, 0.20355313, 0.16134204, 0.81049234, 0.2106264 ,\n",
       "       0.78157027, 0.6385339 , 0.10469951, 0.17191219, 0.60479167,\n",
       "       0.9477766 , 0.18760053, 0.10893046, 0.73087533, 0.57949344,\n",
       "       0.12744882, 0.1578265 , 0.13718895, 0.90501614, 0.92452715,\n",
       "       0.63045647, 0.11662459, 0.04901777, 0.23793263, 0.69208116,\n",
       "       0.21021071, 0.11109318, 0.18311732, 0.83826112, 0.64228242,\n",
       "       0.63258265, 0.9424942 , 0.1636895 , 0.10885138, 0.09729706,\n",
       "       0.67518465, 0.4335248 , 0.30949759, 0.67791888, 0.93935846,\n",
       "       0.89751891, 0.12974517, 0.34806322, 0.1165778 , 0.17190994,\n",
       "       0.94127273, 0.09731563, 0.55251725, 0.17972244, 0.13435049,\n",
       "       0.60581176, 0.10857644, 0.42373956, 0.17581725, 0.10885138,\n",
       "       0.63362774, 0.10096751, 0.1727078 , 0.32742963, 0.15844686,\n",
       "       0.04556196, 0.09403173, 0.8997868 , 0.8083619 , 0.27899482,\n",
       "       0.67817662, 0.10890764, 0.57732932, 0.16626035, 0.64229322,\n",
       "       0.05576412, 0.17190994, 0.97519902, 0.13440695, 0.37579785,\n",
       "       0.13207119, 0.83597944, 0.07968008, 0.12771392, 0.50499578,\n",
       "       0.94883177, 0.67664826, 0.04882014, 0.91540016, 0.0946732 ,\n",
       "       0.11455058, 0.07508083, 0.5382153 , 0.64229322, 0.12306271,\n",
       "       0.13718895, 0.10482119, 0.108616  , 0.09039405, 0.13201912,\n",
       "       0.42960788, 0.68227344, 0.78884205, 0.60203202, 0.92658662,\n",
       "       0.10885138, 0.109438  , 0.09925982, 0.64262798, 0.16806769,\n",
       "       0.19572313, 0.04672643, 0.68242472, 0.0885055 , 0.06316547,\n",
       "       0.1368139 , 0.73873734, 0.17182902, 0.64232562, 0.82192481,\n",
       "       0.64240485, 0.42011553, 0.8052918 , 0.13679247, 0.44752648,\n",
       "       0.44789079, 0.10272878, 0.17226938, 0.0862842 , 0.92301333,\n",
       "       0.13718895, 0.10332832, 0.86802417, 0.95881911, 0.62485145,\n",
       "       0.45207948, 0.32505934, 0.34097165, 0.85432103, 0.16197078,\n",
       "       0.08116744, 0.34808918, 0.07217105, 0.94180664, 0.52451381,\n",
       "       0.08091293, 0.11839869, 0.3723219 , 0.13645043, 0.6086835 ,\n",
       "       0.22400101, 0.36438755, 0.29425642, 0.54707079, 0.59367986,\n",
       "       0.61212155, 0.62814985, 0.46607529, 0.12509463, 0.04139676,\n",
       "       0.20686212, 0.8521272 , 0.00440756, 0.95783469, 0.10890764,\n",
       "       0.85213451, 0.75652372, 0.95254306, 0.07689017, 0.35978816,\n",
       "       0.39855902, 0.95046279, 0.75517876, 0.8268419 , 0.13337368,\n",
       "       0.11668435, 0.62211269, 0.17554423, 0.11985785, 0.12119606,\n",
       "       0.06704979, 0.78695935, 0.75759838, 0.11128424, 0.13868645,\n",
       "       0.5700725 , 0.98212905])"
      ]
     },
     "execution_count": 30,
     "metadata": {},
     "output_type": "execute_result"
    }
   ],
   "source": [
    "# Logistic Regression\n",
    "\n",
    "from sklearn.model_selection import GridSearchCV\n",
    "\n",
    "param_lr={'penalty':['l1','l2'],\n",
    "         'C' : [0.01,0.1,1,10,50,100,200,300],\n",
    "         'solver':['liblinear', 'saga']}\n",
    "\n",
    "gs_lr = GridSearchCV(LogisticRegression(),param_grid = param_lr, scoring=\"accuracy\",n_jobs=-1)\n",
    "gs_lr.fit(X_train_sc,Y_train.values.ravel())\n",
    "best_lr = gs_lr.best_estimator_\n",
    "print(gs_lr.best_params_)\n",
    "print('score=',gs_lr.best_score_)\n",
    "Y_pred = gs_lr.predict_proba(X_test_sc)[:, 1]\n",
    "Y_pred"
   ]
  },
  {
   "cell_type": "code",
   "execution_count": 31,
   "metadata": {
    "pycharm": {
     "name": "#%%\n"
    }
   },
   "outputs": [
    {
     "data": {
      "text/html": [
       "<div>\n",
       "<style scoped>\n",
       "    .dataframe tbody tr th:only-of-type {\n",
       "        vertical-align: middle;\n",
       "    }\n",
       "\n",
       "    .dataframe tbody tr th {\n",
       "        vertical-align: top;\n",
       "    }\n",
       "\n",
       "    .dataframe thead th {\n",
       "        text-align: right;\n",
       "    }\n",
       "</style>\n",
       "<table border=\"1\" class=\"dataframe\">\n",
       "  <thead>\n",
       "    <tr style=\"text-align: right;\">\n",
       "      <th></th>\n",
       "      <th>0</th>\n",
       "    </tr>\n",
       "  </thead>\n",
       "  <tbody>\n",
       "    <tr>\n",
       "      <th>count</th>\n",
       "      <td>357.000000</td>\n",
       "    </tr>\n",
       "    <tr>\n",
       "      <th>mean</th>\n",
       "      <td>0.406936</td>\n",
       "    </tr>\n",
       "    <tr>\n",
       "      <th>std</th>\n",
       "      <td>0.310577</td>\n",
       "    </tr>\n",
       "    <tr>\n",
       "      <th>min</th>\n",
       "      <td>0.004408</td>\n",
       "    </tr>\n",
       "    <tr>\n",
       "      <th>25%</th>\n",
       "      <td>0.123063</td>\n",
       "    </tr>\n",
       "    <tr>\n",
       "      <th>50%</th>\n",
       "      <td>0.309498</td>\n",
       "    </tr>\n",
       "    <tr>\n",
       "      <th>75%</th>\n",
       "      <td>0.692893</td>\n",
       "    </tr>\n",
       "    <tr>\n",
       "      <th>max</th>\n",
       "      <td>0.984987</td>\n",
       "    </tr>\n",
       "  </tbody>\n",
       "</table>\n",
       "</div>"
      ],
      "text/plain": [
       "                0\n",
       "count  357.000000\n",
       "mean     0.406936\n",
       "std      0.310577\n",
       "min      0.004408\n",
       "25%      0.123063\n",
       "50%      0.309498\n",
       "75%      0.692893\n",
       "max      0.984987"
      ]
     },
     "execution_count": 31,
     "metadata": {},
     "output_type": "execute_result"
    }
   ],
   "source": [
    "df_describe = pd.DataFrame(Y_pred)\n",
    "df_describe.describe()"
   ]
  },
  {
   "cell_type": "code",
   "execution_count": 32,
   "metadata": {
    "pycharm": {
     "name": "#%%\n"
    }
   },
   "outputs": [],
   "source": [
    "create_submission_file(Y_pred, 'lr')"
   ]
  },
  {
   "cell_type": "code",
   "execution_count": 33,
   "metadata": {
    "pycharm": {
     "name": "#%%\n"
    }
   },
   "outputs": [
    {
     "name": "stdout",
     "output_type": "stream",
     "text": [
      "{'C': 1.0, 'class_weight': None, 'dual': False, 'fit_intercept': True, 'intercept_scaling': 1, 'l1_ratio': None, 'max_iter': 100, 'multi_class': 'auto', 'n_jobs': None, 'penalty': 'l2', 'random_state': None, 'solver': 'lbfgs', 'tol': 0.0001, 'verbose': 0, 'warm_start': False}\n",
      "score= 0.8370786516853933\n"
     ]
    },
    {
     "data": {
      "text/plain": [
       "array([0.94621462, 0.08852249, 0.78011634, 0.72718306, 0.09555117,\n",
       "       0.8515533 , 0.11564931, 0.12362276, 0.15297785, 0.00425085,\n",
       "       0.71496014, 0.11822168, 0.11791069, 0.10220588, 0.0453578 ,\n",
       "       0.5902038 , 0.19812805, 0.23847915, 0.11471754, 0.03060236,\n",
       "       0.07649052, 0.79073299, 0.12070105, 0.22343419, 0.45201744,\n",
       "       0.10098711, 0.42690652, 0.10363683, 0.55242737, 0.94331582,\n",
       "       0.09561617, 0.09982015, 0.6736148 , 0.6385028 , 0.83787735,\n",
       "       0.37695226, 0.34297078, 0.878984  , 0.74792432, 0.92169496,\n",
       "       0.87645694, 0.50298697, 0.44640919, 0.60950732, 0.90703774,\n",
       "       0.38153711, 0.18222335, 0.12851608, 0.09561617, 0.74851295,\n",
       "       0.09555117, 0.08215401, 0.17779923, 0.93149744, 0.16468477,\n",
       "       0.26179215, 0.0437925 , 0.68694563, 0.10471059, 0.04376228,\n",
       "       0.11784732, 0.34205988, 0.81361365, 0.11582397, 0.12205486,\n",
       "       0.01287838, 0.85122231, 0.34792765, 0.34365785, 0.79938985,\n",
       "       0.10979949, 0.37153457, 0.87428051, 0.33709838, 0.09070062,\n",
       "       0.23847915, 0.71294708, 0.35514179, 0.29019607, 0.97170822,\n",
       "       0.90347895, 0.09584262, 0.00818487, 0.09555117, 0.46273598,\n",
       "       0.47929909, 0.16192821, 0.09742504, 0.74478822, 0.0366671 ,\n",
       "       0.89521956, 0.9523433 , 0.44576937, 0.10226601, 0.6733368 ,\n",
       "       0.03163742, 0.99273826, 0.89521956, 0.08770731, 0.09555117,\n",
       "       0.97028094, 0.15987758, 0.82798966, 0.12145549, 0.78873661,\n",
       "       0.13228345, 0.76373591, 0.8515072 , 0.09555117, 0.86813766,\n",
       "       0.07649052, 0.16031465, 0.80815284, 0.4205171 , 0.00731021,\n",
       "       0.95838324, 0.12362054, 0.12658756, 0.08439063, 0.0633766 ,\n",
       "       0.13821614, 0.73418716, 0.15987483, 0.37796598, 0.91975106,\n",
       "       0.01699719, 0.7915631 , 0.5471266 , 0.73718914, 0.11793082,\n",
       "       0.28122504, 0.90606856, 0.6324848 , 0.17779923, 0.34025544,\n",
       "       0.98511781, 0.13776851, 0.37552108, 0.97233819, 0.90025177,\n",
       "       0.11621558, 0.96821603, 0.22892343, 0.89788451, 0.29850519,\n",
       "       0.40160494, 0.17779923, 0.6287125 , 0.05963726, 0.05650545,\n",
       "       0.0179078 , 0.14228171, 0.06302337, 0.92620573, 0.3121387 ,\n",
       "       0.73451568, 0.82717034, 0.09291488, 0.06766057, 0.10960899,\n",
       "       0.23281757, 0.8930986 , 0.80983773, 0.09837063, 0.21750841,\n",
       "       0.63416107, 0.83409084, 0.24734994, 0.15228463, 0.85814304,\n",
       "       0.27023507, 0.1263048 , 0.94012661, 0.70633442, 0.28907195,\n",
       "       0.18473296, 0.20757163, 0.15297785, 0.81004527, 0.20717974,\n",
       "       0.81547407, 0.66165103, 0.08500332, 0.15987758, 0.56797622,\n",
       "       0.96733921, 0.18657594, 0.09564253, 0.76410489, 0.61671815,\n",
       "       0.11778397, 0.14268686, 0.12363375, 0.93930634, 0.94571834,\n",
       "       0.70009164, 0.10471439, 0.00860573, 0.21896575, 0.71896037,\n",
       "       0.21644408, 0.09816718, 0.18076663, 0.8405527 , 0.65387023,\n",
       "       0.64080455, 0.96640744, 0.14978391, 0.09555117, 0.07477143,\n",
       "       0.70722806, 0.44818698, 0.31037688, 0.69933737, 0.9677938 ,\n",
       "       0.91617717, 0.12059976, 0.33514951, 0.10465918, 0.15987483,\n",
       "       0.96342011, 0.08226974, 0.52867708, 0.17627172, 0.12629135,\n",
       "       0.66730001, 0.09523004, 0.45123183, 0.16466913, 0.09555117,\n",
       "       0.65228678, 0.0864623 , 0.16085144, 0.31418003, 0.14344305,\n",
       "       0.02918868, 0.07864796, 0.93546474, 0.84183144, 0.23924815,\n",
       "       0.67707662, 0.09561617, 0.66477003, 0.14776445, 0.65388402,\n",
       "       0.03871307, 0.15987483, 0.98651991, 0.12031066, 0.37665812,\n",
       "       0.12346681, 0.84748808, 0.06307763, 0.11810522, 0.49793502,\n",
       "       0.96672322, 0.72611259, 0.0086835 , 0.92560742, 0.07944733,\n",
       "       0.10225063, 0.05827502, 0.5318178 , 0.65388402, 0.11221867,\n",
       "       0.12363375, 0.09087671, 0.09527938, 0.07462563, 0.12340307,\n",
       "       0.42599066, 0.69136801, 0.83299426, 0.59773058, 0.94552913,\n",
       "       0.09555117, 0.09622932, 0.08012261, 0.65431152, 0.16137336,\n",
       "       0.18982452, 0.03104127, 0.69864013, 0.07255891, 0.04628884,\n",
       "       0.12910114, 0.78553921, 0.15032976, 0.6539254 , 0.8661491 ,\n",
       "       0.65402659, 0.44249065, 0.86506764, 0.12316342, 0.46062074,\n",
       "       0.47197126, 0.08847497, 0.16031465, 0.07021444, 0.95029043,\n",
       "       0.12363375, 0.08915566, 0.90868242, 0.97617   , 0.69433319,\n",
       "       0.47744274, 0.36129448, 0.33159591, 0.90803342, 0.15392126,\n",
       "       0.06469904, 0.28112141, 0.05532461, 0.96489725, 0.54954184,\n",
       "       0.06442887, 0.10683624, 0.36984203, 0.12890838, 0.66307996,\n",
       "       0.23500198, 0.38313754, 0.31913715, 0.53620351, 0.60403229,\n",
       "       0.60773416, 0.62416031, 0.49315062, 0.11491368, 0.02533547,\n",
       "       0.21197392, 0.88638659, 0.00134295, 0.97392735, 0.09561617,\n",
       "       0.8976847 , 0.80561536, 0.97125911, 0.059415  , 0.37699511,\n",
       "       0.40670952, 0.96716125, 0.79265444, 0.84848221, 0.11882875,\n",
       "       0.1047849 , 0.71599991, 0.17098745, 0.10858103, 0.09911358,\n",
       "       0.05018938, 0.81574269, 0.78776471, 0.09837063, 0.12510056,\n",
       "       0.55901182, 0.99125311])"
      ]
     },
     "execution_count": 33,
     "metadata": {},
     "output_type": "execute_result"
    }
   ],
   "source": [
    "lr = LogisticRegression()\n",
    "lr.fit(X_train_sc,Y_train.values.ravel())\n",
    "print(lr.get_params())\n",
    "print('score=',lr.score(X_train_sc, Y_train.values.ravel()))\n",
    "Y_pred = lr.predict_proba(X_test_sc)[:, 1]\n",
    "Y_pred"
   ]
  },
  {
   "cell_type": "code",
   "execution_count": 34,
   "metadata": {
    "pycharm": {
     "name": "#%%\n"
    }
   },
   "outputs": [],
   "source": [
    "create_submission_file(Y_pred, 'lr1')"
   ]
  },
  {
   "cell_type": "code",
   "execution_count": 35,
   "metadata": {
    "execution": {
     "iopub.execute_input": "2021-04-06T17:49:54.481977Z",
     "iopub.status.busy": "2021-04-06T17:49:54.480963Z",
     "iopub.status.idle": "2021-04-06T17:54:21.279018Z",
     "shell.execute_reply": "2021-04-06T17:54:21.279543Z"
    },
    "jupyter": {
     "outputs_hidden": false
    },
    "papermill": {
     "duration": 266.859213,
     "end_time": "2021-04-06T17:54:21.279735",
     "exception": false,
     "start_time": "2021-04-06T17:49:54.420522",
     "status": "completed"
    },
    "pycharm": {
     "name": "#%%\n"
    },
    "tags": []
   },
   "outputs": [
    {
     "name": "stdout",
     "output_type": "stream",
     "text": [
      "RandomForestClassifier(bootstrap=False, max_features=5, min_samples_leaf=5,\n",
      "                       min_samples_split=10, n_estimators=200)\n",
      "score= 0.8333098219008992\n"
     ]
    }
   ],
   "source": [
    "# Random Forest\n",
    "\n",
    "param_rf={'max_features': [1, 2, 3, 5, 10],\n",
    "          'min_samples_split': [2, 3, 5, 7, 10],\n",
    "          'min_samples_leaf': [1, 3, 5, 7, 10],\n",
    "          'bootstrap': [False],\n",
    "          'n_estimators' :[100,200,300]}\n",
    "\n",
    "gs_rf = GridSearchCV(RandomForestClassifier(),param_grid = param_rf, scoring=\"accuracy\",n_jobs=-1)\n",
    "gs_rf.fit(X_train_sc,Y_train.values.ravel())\n",
    "best_rf=gs_rf.best_estimator_\n",
    "print(best_rf)\n",
    "print('score=',gs_rf.best_score_)\n",
    "Y_pred = gs_rf.predict_proba(X_test_sc)[:, 1]"
   ]
  },
  {
   "cell_type": "code",
   "execution_count": 36,
   "metadata": {
    "pycharm": {
     "name": "#%%\n"
    }
   },
   "outputs": [],
   "source": [
    "create_submission_file(Y_pred, 'rf')"
   ]
  },
  {
   "cell_type": "code",
   "execution_count": 37,
   "metadata": {
    "pycharm": {
     "name": "#%%\n"
    }
   },
   "outputs": [
    {
     "name": "stdout",
     "output_type": "stream",
     "text": [
      "score 0.8052434456928839\n"
     ]
    },
    {
     "data": {
      "text/plain": [
       "array([9.99999879e-01, 4.92116103e-04, 9.99724079e-01, 9.96189794e-01,\n",
       "       5.04393911e-04, 9.99999175e-01, 5.66624810e-04, 1.05415011e-03,\n",
       "       1.08139091e-03, 0.00000000e+00, 9.63153445e-01, 5.80315451e-04,\n",
       "       5.82423801e-04, 5.22289297e-04, 5.81444095e-04, 8.29545835e-01,\n",
       "       1.91567579e-03, 1.39508754e-03, 5.73235792e-04, 4.42587380e-04,\n",
       "       4.88519265e-04, 9.55995532e-01, 5.96247358e-04, 3.62628273e-03,\n",
       "       1.45037690e-02, 1.09930428e-03, 1.10024608e-01, 1.39364547e-03,\n",
       "       9.05018144e-01, 9.99999864e-01, 5.03906639e-04, 5.15143236e-04,\n",
       "       9.99998286e-01, 9.15296490e-01, 9.99998421e-01, 6.00866235e-01,\n",
       "       4.70013829e-03, 9.99999303e-01, 9.99998484e-01, 9.99999167e-01,\n",
       "       9.99999145e-01, 8.32702856e-01, 7.38583618e-01, 9.88165707e-01,\n",
       "       9.99999240e-01, 1.21317865e-01, 7.18228728e-03, 1.15891606e-03,\n",
       "       5.03906639e-04, 9.99999097e-01, 5.04393911e-04, 4.88471808e-04,\n",
       "       1.23214318e-03, 9.99970152e-01, 1.64321416e-03, 5.20636321e-02,\n",
       "       7.49589940e-04, 9.72053215e-01, 5.29787127e-04, 2.26575581e-03,\n",
       "       5.82879309e-04, 4.80024487e-02, 9.99998184e-01, 5.65598327e-04,\n",
       "       5.70551533e-04, 0.00000000e+00, 9.99998187e-01, 3.07877716e-02,\n",
       "       4.73021224e-03, 9.58674045e-01, 5.48074098e-04, 6.59621087e-01,\n",
       "       9.99781602e-01, 9.00554490e-01, 4.95095175e-04, 1.39508754e-03,\n",
       "       9.14076642e-01, 3.01164168e-02, 6.72050510e-02, 9.99999999e-01,\n",
       "       9.99999382e-01, 1.10729094e-03, 8.11859222e-05, 5.04393911e-04,\n",
       "       9.49493123e-01, 1.23288736e-01, 1.08598509e-03, 5.09274139e-04,\n",
       "       9.99999181e-01, 5.28049880e-04, 9.99999181e-01, 9.99999982e-01,\n",
       "       4.35766637e-02, 5.00924314e-04, 9.41968179e-01, 1.31430123e-03,\n",
       "       1.00000000e+00, 9.99999181e-01, 1.00425191e-03, 5.04393911e-04,\n",
       "       9.99972602e-01, 1.61932652e-03, 9.95325579e-01, 1.07331802e-03,\n",
       "       1.00000000e+00, 6.65529868e-04, 9.74573529e-01, 9.99999331e-01,\n",
       "       5.04393911e-04, 9.97784303e-01, 4.88519265e-04, 1.61218378e-03,\n",
       "       9.99999412e-01, 9.05343735e-01, 5.35690856e-09, 9.99857050e-01,\n",
       "       1.05417883e-03, 6.26630652e-04, 9.66351875e-04, 4.80121161e-04,\n",
       "       1.12519637e-03, 9.14450520e-01, 1.61937369e-03, 7.24150243e-03,\n",
       "       9.99999988e-01, 6.46160197e-07, 9.71555467e-01, 8.20705309e-01,\n",
       "       9.33806361e-01, 1.53091350e-03, 6.05857816e-03, 9.99999158e-01,\n",
       "       9.58147330e-01, 1.23214318e-03, 1.69606763e-02, 9.99999990e-01,\n",
       "       1.20831104e-03, 9.99996720e-01, 1.00000000e+00, 9.99999169e-01,\n",
       "       4.51893261e-03, 9.99999987e-01, 9.99953348e-01, 9.99999170e-01,\n",
       "       7.06878906e-01, 4.72329684e-01, 1.23214318e-03, 8.46594727e-01,\n",
       "       1.76178620e-04, 6.85888810e-04, 6.88007837e-07, 5.41473677e-03,\n",
       "       3.93376536e-04, 9.99794583e-01, 9.99962947e-01, 9.99997996e-01,\n",
       "       9.99999334e-01, 4.98900479e-04, 5.04791191e-04, 5.49504956e-04,\n",
       "       1.36366417e-03, 9.99999192e-01, 9.99999387e-01, 4.93351636e-04,\n",
       "       7.36376995e-04, 9.99997967e-01, 9.99999291e-01, 1.48202000e-03,\n",
       "       6.14023947e-03, 9.99999160e-01, 4.75347193e-03, 6.28676558e-04,\n",
       "       9.99999742e-01, 9.99998067e-01, 1.92289694e-02, 1.12240938e-03,\n",
       "       1.19163031e-03, 1.08139091e-03, 1.00000000e+00, 5.93977568e-03,\n",
       "       9.99999514e-01, 8.59678423e-01, 1.28797510e-03, 1.61932652e-03,\n",
       "       9.70737420e-01, 9.99999996e-01, 1.11443871e-03, 5.03712358e-04,\n",
       "       9.18302466e-01, 3.13951751e-01, 5.83343414e-04, 1.56025975e-03,\n",
       "       1.05400814e-03, 9.99999573e-01, 9.99998891e-01, 9.89595663e-01,\n",
       "       5.29759243e-04, 0.00000000e+00, 2.91443476e-02, 9.99998647e-01,\n",
       "       1.23634376e-03, 5.04319968e-04, 1.11225558e-03, 9.99946850e-01,\n",
       "       9.12237435e-01, 9.23809431e-01, 9.99999673e-01, 1.56578192e-03,\n",
       "       5.04393911e-04, 4.34479764e-04, 9.99998354e-01, 9.98851244e-01,\n",
       "       1.77822103e-02, 9.21581868e-01, 1.00000000e+00, 9.99999916e-01,\n",
       "       5.96981694e-04, 5.99733719e-01, 5.30168466e-04, 1.61937369e-03,\n",
       "       9.99999980e-01, 4.96708654e-04, 9.69772858e-01, 1.14026477e-03,\n",
       "       6.28778057e-04, 9.84054692e-01, 5.03064297e-04, 4.39474768e-02,\n",
       "       1.57695311e-03, 5.04393911e-04, 9.29724056e-01, 4.89294581e-04,\n",
       "       1.60435309e-03, 1.50367081e-01, 1.57859849e-03, 4.53856680e-04,\n",
       "       4.85204499e-04, 1.00000000e+00, 9.99999589e-01, 9.84572640e-01,\n",
       "       9.47057172e-01, 5.03906639e-04, 9.21937989e-01, 1.98647905e-03,\n",
       "       9.12230952e-01, 5.38152503e-04, 1.61937369e-03, 1.00000000e+00,\n",
       "       1.04272746e-03, 4.27338462e-01, 6.11867284e-04, 9.99447057e-01,\n",
       "       5.21146982e-04, 5.81080430e-04, 9.21923628e-01, 1.00000000e+00,\n",
       "       9.21118328e-01, 0.00000000e+00, 9.99965721e-01, 5.59785234e-04,\n",
       "       5.21956038e-04, 5.51040283e-04, 8.42115293e-01, 9.12230952e-01,\n",
       "       1.05856558e-03, 1.05400814e-03, 4.93772727e-04, 5.06558073e-04,\n",
       "       4.90487570e-04, 6.12339894e-04, 7.37426436e-01, 9.57934011e-01,\n",
       "       9.99999055e-01, 9.34801035e-01, 9.99980669e-01, 5.04393911e-04,\n",
       "       4.99873041e-04, 1.99890527e-03, 9.12035372e-01, 1.14138104e-03,\n",
       "       1.83061293e-03, 1.30084692e-04, 9.51497180e-01, 4.95628510e-04,\n",
       "       6.96102758e-04, 1.13242728e-03, 9.99998013e-01, 4.83227851e-03,\n",
       "       9.12211566e-01, 9.99999399e-01, 9.12164576e-01, 2.45064901e-01,\n",
       "       9.97672492e-01, 1.06048375e-03, 3.63986348e-01, 1.26329835e-01,\n",
       "       4.92496262e-04, 1.61218378e-03, 5.05517554e-04, 9.99890025e-01,\n",
       "       1.05400814e-03, 4.87705224e-04, 9.99999546e-01, 9.99999975e-01,\n",
       "       9.99999970e-01, 1.34568796e-01, 6.25311671e-03, 1.41412490e-01,\n",
       "       1.00000000e+00, 1.21469307e-03, 4.63081920e-04, 9.99989190e-01,\n",
       "       4.47090684e-04, 9.99999977e-01, 8.30115599e-01, 4.62307790e-04,\n",
       "       5.41521099e-04, 6.65620309e-02, 6.49214502e-04, 4.34049412e-01,\n",
       "       1.35398258e-03, 1.66827278e-02, 4.59361090e-03, 9.05561117e-01,\n",
       "       8.37221045e-01, 9.53359966e-01, 9.35877114e-01, 7.19932611e-01,\n",
       "       5.71682528e-04, 3.47979159e-04, 1.21291047e-03, 9.78360022e-01,\n",
       "       4.31852454e-18, 9.99999999e-01, 5.03906639e-04, 9.99999191e-01,\n",
       "       9.99998121e-01, 9.99999996e-01, 7.26224631e-04, 1.66683520e-02,\n",
       "       2.91114355e-01, 1.00000000e+00, 9.99997772e-01, 9.88394514e-01,\n",
       "       1.22064874e-03, 5.29247480e-04, 9.99999908e-01, 1.08395280e-03,\n",
       "       5.42619533e-04, 2.42511362e-03, 1.50255924e-04, 9.57566762e-01,\n",
       "       9.52211245e-01, 4.93351636e-04, 1.54234310e-03, 9.32032826e-01,\n",
       "       1.00000000e+00])"
      ]
     },
     "execution_count": 37,
     "metadata": {},
     "output_type": "execute_result"
    }
   ],
   "source": [
    "# Gaussian Naive Bayes\n",
    "\n",
    "gaussian = GaussianNB()\n",
    "gaussian.fit(X_train_sc, Y_train.values.ravel())\n",
    "best_gnb = gaussian.score(X_train_sc, Y_train.values.ravel())\n",
    "Y_pred = gaussian.predict_proba(X_test_sc)[:, 1]\n",
    "print('score', best_gnb)\n",
    "Y_pred"
   ]
  },
  {
   "cell_type": "code",
   "execution_count": 38,
   "metadata": {
    "pycharm": {
     "name": "#%%\n"
    }
   },
   "outputs": [],
   "source": [
    "create_submission_file(Y_pred, 'gnb')"
   ]
  },
  {
   "cell_type": "code",
   "execution_count": 39,
   "metadata": {
    "pycharm": {
     "name": "#%%\n"
    }
   },
   "outputs": [
    {
     "name": "stdout",
     "output_type": "stream",
     "text": [
      "score= 0.8295880149812734\n"
     ]
    },
    {
     "data": {
      "text/plain": [
       "array([9.60864351e-01, 4.68343253e-02, 8.44477008e-01, 4.19760575e-01,\n",
       "       5.06489015e-02, 8.78635249e-01, 6.15789383e-02, 7.13742148e-02,\n",
       "       9.54851201e-02, 1.37693647e-02, 7.88407403e-01, 6.30336034e-02,\n",
       "       6.29180434e-02, 5.42886974e-02, 2.44064584e-02, 6.49209294e-01,\n",
       "       1.19933830e-01, 1.53465333e-01, 6.12334235e-02, 1.67480102e-02,\n",
       "       4.03510633e-02, 8.41973189e-01, 6.44672205e-02, 1.50868510e-01,\n",
       "       3.74638189e-01, 5.99536916e-02, 4.76884378e-01, 5.65374002e-02,\n",
       "       6.28195455e-01, 9.56818443e-01, 5.06726127e-02, 5.29796333e-02,\n",
       "       7.00116092e-01, 5.45209524e-01, 8.48707119e-01, 2.57373600e-01,\n",
       "       2.56426321e-01, 9.05310213e-01, 7.76742680e-01, 9.38225586e-01,\n",
       "       8.99112042e-01, 5.64674580e-01, 5.19616746e-01, 6.54708109e-01,\n",
       "       9.24081414e-01, 1.39783291e-01, 1.30299317e-01, 7.94486746e-02,\n",
       "       5.06726127e-02, 7.99830807e-01, 5.06489015e-02, 4.34223930e-02,\n",
       "       1.13869558e-01, 9.53108411e-01, 9.85115107e-02, 2.01941469e-01,\n",
       "       2.30702382e-02, 7.64627887e-01, 5.56534236e-02, 2.59713364e-02,\n",
       "       6.28944841e-02, 2.50057272e-01, 8.26696201e-01, 6.16436358e-02,\n",
       "       6.44527112e-02, 4.14539148e-02, 8.64913254e-01, 2.49754717e-01,\n",
       "       2.56807523e-01, 8.48765820e-01, 5.84494272e-02, 4.11873675e-01,\n",
       "       9.22520985e-01, 2.60836525e-01, 4.80120421e-02, 1.53465333e-01,\n",
       "       7.88133583e-01, 2.52541667e-01, 2.01022960e-01, 9.77784286e-01,\n",
       "       9.24216758e-01, 5.69196501e-02, 4.61784555e-03, 5.06489015e-02,\n",
       "       3.46521578e-01, 3.70052686e-01, 1.01699152e-01, 5.16788441e-02,\n",
       "       7.81806304e-01, 1.92283306e-02, 9.14451920e-01, 9.67375759e-01,\n",
       "       3.39583089e-01, 5.36547031e-02, 7.29145983e-01, 1.66480234e-02,\n",
       "       9.94917334e-01, 9.14451920e-01, 4.81529375e-02, 5.06489015e-02,\n",
       "       9.81541551e-01, 9.54818871e-02, 8.64924258e-01, 7.25793888e-02,\n",
       "       6.49471005e-01, 7.09673029e-02, 8.22838438e-01, 8.81251633e-01,\n",
       "       5.06489015e-02, 8.97663523e-01, 4.03510633e-02, 9.56661147e-02,\n",
       "       8.43195927e-01, 5.21179420e-01, 3.56032040e-03, 9.74598291e-01,\n",
       "       7.13733247e-02, 6.77230674e-02, 4.69010598e-02, 3.28395565e-02,\n",
       "       8.01572284e-02, 8.04965898e-01, 9.54807274e-02, 2.79016853e-01,\n",
       "       9.39563591e-01, 8.19700630e-03, 8.60084402e-01, 4.22779423e-01,\n",
       "       7.95215128e-01, 6.77005029e-02, 1.69752505e-01, 9.25633023e-01,\n",
       "       5.15655900e-01, 1.13869558e-01, 2.51665153e-01, 9.89822175e-01,\n",
       "       8.40374207e-02, 4.18143651e-01, 9.79491528e-01, 9.21341604e-01,\n",
       "       7.83288012e-02, 9.76364196e-01, 2.75707236e-01, 9.17224262e-01,\n",
       "       3.55244149e-01, 2.88496091e-01, 1.13869558e-01, 6.86039533e-01,\n",
       "       2.98651822e-02, 2.93773021e-02, 8.63038294e-03, 1.75449546e-01,\n",
       "       3.83490087e-02, 9.57875376e-01, 3.66676846e-01, 7.55165278e-01,\n",
       "       8.60240742e-01, 4.92134764e-02, 3.56246612e-02, 5.83790851e-02,\n",
       "       1.49713209e-01, 9.15628398e-01, 8.45703867e-01, 5.16738872e-02,\n",
       "       2.38839794e-01, 6.72556215e-01, 8.67063830e-01, 1.59907461e-01,\n",
       "       1.87010804e-01, 8.84067603e-01, 2.04286022e-01, 6.76171658e-02,\n",
       "       9.55780270e-01, 7.41626462e-01, 2.10366446e-01, 1.16848836e-01,\n",
       "       1.31846540e-01, 9.54851201e-02, 8.30911223e-01, 1.49002757e-01,\n",
       "       8.48748207e-01, 7.14815400e-01, 5.15715240e-02, 9.54818871e-02,\n",
       "       6.49237694e-01, 9.75573877e-01, 1.17676218e-01, 5.06822263e-02,\n",
       "       8.28281459e-01, 5.28724859e-01, 6.28709329e-02, 8.46638547e-02,\n",
       "       7.13786227e-02, 9.51830729e-01, 9.59731656e-01, 7.34142074e-01,\n",
       "       5.56548183e-02, 2.80391444e-02, 1.56247687e-01, 7.44414249e-01,\n",
       "       1.37908273e-01, 5.19498059e-02, 1.14194553e-01, 8.95610975e-01,\n",
       "       7.25202977e-01, 7.29872725e-01, 9.76187083e-01, 8.89766669e-02,\n",
       "       5.06489015e-02, 4.13372854e-02, 7.33215038e-01, 3.03888369e-01,\n",
       "       2.27605513e-01, 7.63851172e-01, 9.73302450e-01, 9.38359973e-01,\n",
       "       6.44294747e-02, 3.74702335e-01, 5.56345227e-02, 9.54807274e-02,\n",
       "       9.74342427e-01, 4.24084217e-02, 6.19451852e-01, 1.08810406e-01,\n",
       "       6.76121267e-02, 7.11476586e-01, 5.04625285e-02, 3.44444497e-01,\n",
       "       9.74968139e-02, 5.06489015e-02, 7.10850379e-01, 4.57096822e-02,\n",
       "       9.58922585e-02, 2.27799179e-01, 8.53113739e-02, 1.55621450e-02,\n",
       "       4.14627360e-02, 9.45783721e-01, 8.57099822e-01, 1.54351791e-01,\n",
       "       7.48188905e-01, 5.06726127e-02, 5.43419614e-01, 8.52954377e-02,\n",
       "       7.25210942e-01, 2.01066465e-02, 9.54807274e-02, 9.90255712e-01,\n",
       "       6.93926203e-02, 2.60502820e-01, 6.60214458e-02, 9.02456034e-01,\n",
       "       3.31391106e-02, 6.29903372e-02, 4.08931694e-01, 9.74402404e-01,\n",
       "       6.27474193e-01, 2.84564213e-02, 9.58067855e-01, 4.12446938e-02,\n",
       "       5.43051149e-02, 3.06404895e-02, 5.91493868e-01, 7.25210942e-01,\n",
       "       5.56293641e-02, 7.13786227e-02, 4.80760172e-02, 5.05497113e-02,\n",
       "       3.93534990e-02, 6.59976340e-02, 3.29727366e-01, 7.64104640e-01,\n",
       "       8.55128150e-01, 6.88300354e-01, 9.62330246e-01, 5.06489015e-02,\n",
       "       5.08960928e-02, 4.93672767e-02, 7.25457768e-01, 9.91357841e-02,\n",
       "       1.14557174e-01, 1.56325177e-02, 7.81719863e-01, 3.82921975e-02,\n",
       "       2.43475021e-02, 6.44082955e-02, 8.00179401e-01, 1.00387522e-01,\n",
       "       7.25234834e-01, 8.92625282e-01, 7.25293253e-01, 3.25770476e-01,\n",
       "       8.95252271e-01, 7.11898794e-02, 3.61733613e-01, 3.61942560e-01,\n",
       "       4.68170868e-02, 9.56661147e-02, 3.63867499e-02, 9.68558940e-01,\n",
       "       7.13786227e-02, 4.70638225e-02, 9.22460802e-01, 9.82498467e-01,\n",
       "       5.11154329e-01, 3.65271797e-01, 2.66598058e-01, 2.41798434e-01,\n",
       "       7.59808875e-01, 9.48017331e-02, 3.30736724e-02, 3.28272087e-01,\n",
       "       2.82668960e-02, 9.74971727e-01, 4.24340684e-01, 3.29340206e-02,\n",
       "       5.68907766e-02, 3.95468622e-01, 6.91396198e-02, 5.60289869e-01,\n",
       "       1.50733579e-01, 2.87429378e-01, 2.36689116e-01, 6.07269435e-01,\n",
       "       6.63505043e-01, 7.03018950e-01, 6.98473936e-01, 5.29155844e-01,\n",
       "       6.13062081e-02, 1.35708430e-02, 1.34848657e-01, 9.26938713e-01,\n",
       "       6.19818809e-04, 9.81785200e-01, 5.06726127e-02, 9.16462445e-01,\n",
       "       8.19243946e-01, 9.78503282e-01, 3.08991904e-02, 2.82202909e-01,\n",
       "       2.88912041e-01, 9.73050433e-01, 8.30438225e-01, 8.98374757e-01,\n",
       "       7.34957235e-02, 5.56807356e-02, 5.65733786e-01, 1.07308230e-01,\n",
       "       5.77655044e-02, 5.85927823e-02, 2.48700531e-02, 8.66531463e-01,\n",
       "       8.38099273e-01, 5.16738872e-02, 6.87003597e-02, 6.19523313e-01,\n",
       "       9.93425224e-01])"
      ]
     },
     "execution_count": 39,
     "metadata": {},
     "output_type": "execute_result"
    }
   ],
   "source": [
    "# Linear Discriminant Analysis\n",
    "\n",
    "clf = LinearDiscriminantAnalysis()\n",
    "clf.fit(X_train_sc, Y_train.values.ravel())\n",
    "best_lda= clf.score(X_train_sc, Y_train.values.ravel())\n",
    "print('score=',best_lda)\n",
    "Y_pred=clf.predict_proba(X_test_sc)[:, 1]\n",
    "Y_pred"
   ]
  },
  {
   "cell_type": "code",
   "execution_count": 40,
   "metadata": {
    "pycharm": {
     "name": "#%%\n"
    }
   },
   "outputs": [],
   "source": [
    "create_submission_file(Y_pred, 'lda')"
   ]
  },
  {
   "cell_type": "code",
   "execution_count": 41,
   "metadata": {
    "execution": {
     "iopub.execute_input": "2021-04-06T17:54:43.044648Z",
     "iopub.status.busy": "2021-04-06T17:54:43.043674Z",
     "iopub.status.idle": "2021-04-06T17:54:43.290057Z",
     "shell.execute_reply": "2021-04-06T17:54:43.290841Z"
    },
    "jupyter": {
     "outputs_hidden": false
    },
    "papermill": {
     "duration": 0.306358,
     "end_time": "2021-04-06T17:54:43.291087",
     "exception": false,
     "start_time": "2021-04-06T17:54:42.984729",
     "status": "completed"
    },
    "pycharm": {
     "name": "#%%\n"
    },
    "tags": []
   },
   "outputs": [
    {
     "name": "stdout",
     "output_type": "stream",
     "text": [
      "KNeighborsClassifier(n_neighbors=15)\n",
      "score= 0.814494798095574\n"
     ]
    },
    {
     "data": {
      "text/plain": [
       "array([1.        , 0.06666667, 1.        , 0.4       , 0.06666667,\n",
       "       0.86666667, 0.06666667, 0.13333333, 0.2       , 0.13333333,\n",
       "       0.73333333, 0.06666667, 0.06666667, 0.2       , 0.13333333,\n",
       "       0.26666667, 0.26666667, 0.06666667, 0.06666667, 0.06666667,\n",
       "       0.06666667, 0.46666667, 0.06666667, 0.26666667, 0.2       ,\n",
       "       0.2       , 0.33333333, 0.06666667, 0.73333333, 1.        ,\n",
       "       0.        , 0.13333333, 0.86666667, 0.53333333, 0.8       ,\n",
       "       0.26666667, 0.26666667, 0.93333333, 0.8       , 0.86666667,\n",
       "       0.86666667, 0.46666667, 0.73333333, 0.73333333, 0.86666667,\n",
       "       0.26666667, 0.2       , 0.13333333, 0.        , 0.93333333,\n",
       "       0.06666667, 0.06666667, 0.13333333, 1.        , 0.26666667,\n",
       "       0.2       , 0.2       , 0.8       , 0.2       , 0.13333333,\n",
       "       0.06666667, 0.2       , 0.8       , 0.06666667, 0.06666667,\n",
       "       0.06666667, 0.86666667, 0.46666667, 0.26666667, 0.66666667,\n",
       "       0.06666667, 0.53333333, 1.        , 0.33333333, 0.13333333,\n",
       "       0.06666667, 0.46666667, 0.4       , 0.4       , 1.        ,\n",
       "       0.93333333, 0.13333333, 0.13333333, 0.06666667, 0.46666667,\n",
       "       0.33333333, 0.2       , 0.06666667, 0.73333333, 0.06666667,\n",
       "       0.86666667, 1.        , 0.4       , 0.06666667, 0.6       ,\n",
       "       0.13333333, 1.        , 0.86666667, 0.13333333, 0.06666667,\n",
       "       1.        , 0.26666667, 0.73333333, 0.2       , 0.53333333,\n",
       "       0.2       , 0.73333333, 0.93333333, 0.06666667, 0.8       ,\n",
       "       0.06666667, 0.26666667, 0.86666667, 0.73333333, 0.13333333,\n",
       "       1.        , 0.13333333, 0.2       , 0.2       , 0.06666667,\n",
       "       0.13333333, 0.53333333, 0.26666667, 0.26666667, 0.93333333,\n",
       "       0.06666667, 0.8       , 0.26666667, 0.8       , 0.26666667,\n",
       "       0.06666667, 0.86666667, 0.53333333, 0.13333333, 0.4       ,\n",
       "       0.93333333, 0.2       , 0.73333333, 1.        , 0.86666667,\n",
       "       0.2       , 1.        , 0.6       , 0.86666667, 0.33333333,\n",
       "       0.26666667, 0.13333333, 0.46666667, 0.06666667, 0.13333333,\n",
       "       0.06666667, 0.2       , 0.06666667, 1.        , 0.6       ,\n",
       "       0.86666667, 0.93333333, 0.13333333, 0.13333333, 0.06666667,\n",
       "       0.06666667, 0.86666667, 0.8       , 0.06666667, 0.46666667,\n",
       "       0.8       , 0.93333333, 0.06666667, 0.26666667, 0.86666667,\n",
       "       0.26666667, 0.2       , 0.93333333, 0.8       , 0.26666667,\n",
       "       0.13333333, 0.06666667, 0.2       , 0.86666667, 0.26666667,\n",
       "       0.73333333, 0.46666667, 0.2       , 0.26666667, 0.4       ,\n",
       "       0.93333333, 0.13333333, 0.        , 0.66666667, 0.53333333,\n",
       "       0.06666667, 0.2       , 0.13333333, 0.93333333, 1.        ,\n",
       "       0.73333333, 0.2       , 0.13333333, 0.2       , 0.86666667,\n",
       "       0.13333333, 0.        , 0.13333333, 1.        , 0.73333333,\n",
       "       0.46666667, 0.86666667, 0.26666667, 0.06666667, 0.26666667,\n",
       "       0.86666667, 0.26666667, 0.26666667, 0.73333333, 1.        ,\n",
       "       1.        , 0.06666667, 0.53333333, 0.2       , 0.26666667,\n",
       "       0.93333333, 0.06666667, 0.53333333, 0.2       , 0.2       ,\n",
       "       0.8       , 0.06666667, 0.33333333, 0.26666667, 0.06666667,\n",
       "       0.6       , 0.06666667, 0.26666667, 0.13333333, 0.2       ,\n",
       "       0.06666667, 0.        , 0.93333333, 0.93333333, 0.26666667,\n",
       "       0.53333333, 0.        , 0.2       , 0.13333333, 0.73333333,\n",
       "       0.06666667, 0.26666667, 1.        , 0.13333333, 0.33333333,\n",
       "       0.13333333, 1.        , 0.13333333, 0.06666667, 0.4       ,\n",
       "       0.93333333, 0.66666667, 0.2       , 1.        , 0.06666667,\n",
       "       0.13333333, 0.13333333, 0.4       , 0.73333333, 0.33333333,\n",
       "       0.13333333, 0.13333333, 0.06666667, 0.13333333, 0.13333333,\n",
       "       0.33333333, 0.6       , 0.86666667, 0.8       , 1.        ,\n",
       "       0.06666667, 0.06666667, 0.13333333, 0.73333333, 0.2       ,\n",
       "       0.26666667, 0.06666667, 0.8       , 0.13333333, 0.2       ,\n",
       "       0.26666667, 0.86666667, 0.2       , 0.73333333, 0.93333333,\n",
       "       0.73333333, 0.46666667, 0.8       , 0.13333333, 0.33333333,\n",
       "       0.33333333, 0.06666667, 0.26666667, 0.06666667, 1.        ,\n",
       "       0.13333333, 0.13333333, 0.8       , 0.93333333, 0.26666667,\n",
       "       0.33333333, 0.26666667, 0.13333333, 0.73333333, 0.13333333,\n",
       "       0.13333333, 0.66666667, 0.06666667, 1.        , 0.26666667,\n",
       "       0.13333333, 0.26666667, 0.53333333, 0.2       , 0.4       ,\n",
       "       0.06666667, 0.33333333, 0.26666667, 0.6       , 0.33333333,\n",
       "       0.53333333, 0.33333333, 0.53333333, 0.06666667, 0.06666667,\n",
       "       0.13333333, 0.66666667, 0.13333333, 1.        , 0.        ,\n",
       "       0.86666667, 0.8       , 1.        , 0.13333333, 0.26666667,\n",
       "       0.4       , 1.        , 0.93333333, 0.73333333, 0.13333333,\n",
       "       0.2       , 0.33333333, 0.13333333, 0.13333333, 0.33333333,\n",
       "       0.06666667, 0.6       , 0.46666667, 0.06666667, 0.06666667,\n",
       "       0.53333333, 1.        ])"
      ]
     },
     "execution_count": 41,
     "metadata": {},
     "output_type": "execute_result"
    }
   ],
   "source": [
    "# KNN\n",
    "\n",
    "param_kn={'n_neighbors':[1,2,3,5,7,10,14,15,20,22]}\n",
    "\n",
    "gs_kn = GridSearchCV(KNeighborsClassifier(),param_grid = param_kn, scoring=\"accuracy\",n_jobs=-1)\n",
    "gs_kn.fit(X_train_sc,Y_train.values.ravel())\n",
    "best_kn=gs_kn.best_estimator_\n",
    "print(best_kn)\n",
    "print('score=',gs_kn.best_score_)\n",
    "Y_pred=gs_kn.predict_proba(X_test_sc)[:, 1]\n",
    "Y_pred"
   ]
  },
  {
   "cell_type": "code",
   "execution_count": 42,
   "metadata": {
    "pycharm": {
     "name": "#%%\n"
    }
   },
   "outputs": [],
   "source": [
    "create_submission_file(Y_pred, 'knn')"
   ]
  },
  {
   "cell_type": "markdown",
   "source": [
    "# Таким образом, наилучий результат показал рандомный лес\n",
    "# Результат был загружен в Kaggle, оценен в 0.902"
   ],
   "metadata": {
    "collapsed": false
   }
  }
 ],
 "metadata": {
  "kernelspec": {
   "display_name": "Python 3",
   "language": "python",
   "name": "python3"
  },
  "language_info": {
   "codemirror_mode": {
    "name": "ipython",
    "version": 3
   },
   "file_extension": ".py",
   "mimetype": "text/x-python",
   "name": "python",
   "nbconvert_exporter": "python",
   "pygments_lexer": "ipython3",
   "version": "3.8.6"
  },
  "metadata": {
   "interpreter": {
    "hash": "5002cb5018829b506bcb318b035c34e703caa433a78aa1a564ff0c87d8629e52"
   }
  },
  "papermill": {
   "default_parameters": {},
   "duration": 311.77729,
   "end_time": "2021-04-06T17:54:44.921706",
   "environment_variables": {},
   "exception": null,
   "input_path": "__notebook__.ipynb",
   "output_path": "__notebook__.ipynb",
   "parameters": {},
   "start_time": "2021-04-06T17:49:33.144416",
   "version": "2.2.2"
  }
 },
 "nbformat": 4,
 "nbformat_minor": 4
}