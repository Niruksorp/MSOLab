{
 "cells": [
  {
   "cell_type": "code",
   "execution_count": 1,
   "metadata": {
    "collapsed": true
   },
   "outputs": [],
   "source": [
    "import seaborn as sns\n",
    "import pandas as pd\n",
    "import numpy as np\n",
    "import matplotlib.pyplot as plt\n",
    "from sklearn import preprocessing"
   ]
  },
  {
   "cell_type": "code",
   "execution_count": 2,
   "outputs": [
    {
     "data": {
      "text/plain": "   Unnamed: 0 cat1_gender cat2_hairColor cat3_education        cat4_income  \\\n0           0        male          black    high school  $40,001 - $50,000   \n1           1        male            Red            phd  $40,001 - $50,000   \n2           2        male          black     School SAT  $40,001 - $50,000   \n3           3         NaN            Red            BSc      Below $30,001   \n4           4        male          black            phd                  -   \n\n  cat5_customerSatisfaction cat6_brandOfSoaps  \\\n0                      good               lux   \n1                      Good               NaN   \n2                      Good               Lux   \n3                 Very good               lux   \n4                 Very good              Dove   \n\n  cat7_motivesForEmployeesToWorkBetter cat8_motivesForTravelling  \\\n0                      Peer motivation                    Health   \n1    Professional growth opportunities                     Study   \n2                      peer motivation                    Family   \n3                          Recognition                    Health   \n4                          Recognition                    Health   \n\n             cat9_age  ...     num3_16     num3_17     num3_18     num3_19  \\\n0      below 21 years  ...  116.806927  234.452862  284.304766  663.188133   \n1  59 years and above  ...    98.26433  193.074047  320.926465  409.817217   \n2  59 years and above  ...         NaN  271.721837  411.846997  540.369226   \n3  59 years and above  ...  116.613291              410.483469  382.262612   \n4  59 years and above  ...  146.187875  259.617643  474.096709  410.063319   \n\n      num3_20     num3_21     num3_22     num3_23     num3_24     num3_25  \n0  266.017853   29.215246    648.5319  598.534627  971.167308  703.129209  \n1    279.6318   47.219151  665.864398  540.066994  933.449443  614.411678  \n2  703.053616   21.810823  667.958668              950.209325  530.122551  \n3  779.486696  109.295732  651.231183  601.869269  942.957073  620.665623  \n4  563.026229  152.853238  645.612568  422.557245  947.163814   558.01966  \n\n[5 rows x 93 columns]",
      "text/html": "<div>\n<style scoped>\n    .dataframe tbody tr th:only-of-type {\n        vertical-align: middle;\n    }\n\n    .dataframe tbody tr th {\n        vertical-align: top;\n    }\n\n    .dataframe thead th {\n        text-align: right;\n    }\n</style>\n<table border=\"1\" class=\"dataframe\">\n  <thead>\n    <tr style=\"text-align: right;\">\n      <th></th>\n      <th>Unnamed: 0</th>\n      <th>cat1_gender</th>\n      <th>cat2_hairColor</th>\n      <th>cat3_education</th>\n      <th>cat4_income</th>\n      <th>cat5_customerSatisfaction</th>\n      <th>cat6_brandOfSoaps</th>\n      <th>cat7_motivesForEmployeesToWorkBetter</th>\n      <th>cat8_motivesForTravelling</th>\n      <th>cat9_age</th>\n      <th>...</th>\n      <th>num3_16</th>\n      <th>num3_17</th>\n      <th>num3_18</th>\n      <th>num3_19</th>\n      <th>num3_20</th>\n      <th>num3_21</th>\n      <th>num3_22</th>\n      <th>num3_23</th>\n      <th>num3_24</th>\n      <th>num3_25</th>\n    </tr>\n  </thead>\n  <tbody>\n    <tr>\n      <th>0</th>\n      <td>0</td>\n      <td>male</td>\n      <td>black</td>\n      <td>high school</td>\n      <td>$40,001 - $50,000</td>\n      <td>good</td>\n      <td>lux</td>\n      <td>Peer motivation</td>\n      <td>Health</td>\n      <td>below 21 years</td>\n      <td>...</td>\n      <td>116.806927</td>\n      <td>234.452862</td>\n      <td>284.304766</td>\n      <td>663.188133</td>\n      <td>266.017853</td>\n      <td>29.215246</td>\n      <td>648.5319</td>\n      <td>598.534627</td>\n      <td>971.167308</td>\n      <td>703.129209</td>\n    </tr>\n    <tr>\n      <th>1</th>\n      <td>1</td>\n      <td>male</td>\n      <td>Red</td>\n      <td>phd</td>\n      <td>$40,001 - $50,000</td>\n      <td>Good</td>\n      <td>NaN</td>\n      <td>Professional growth opportunities</td>\n      <td>Study</td>\n      <td>59 years and above</td>\n      <td>...</td>\n      <td>98.26433</td>\n      <td>193.074047</td>\n      <td>320.926465</td>\n      <td>409.817217</td>\n      <td>279.6318</td>\n      <td>47.219151</td>\n      <td>665.864398</td>\n      <td>540.066994</td>\n      <td>933.449443</td>\n      <td>614.411678</td>\n    </tr>\n    <tr>\n      <th>2</th>\n      <td>2</td>\n      <td>male</td>\n      <td>black</td>\n      <td>School SAT</td>\n      <td>$40,001 - $50,000</td>\n      <td>Good</td>\n      <td>Lux</td>\n      <td>peer motivation</td>\n      <td>Family</td>\n      <td>59 years and above</td>\n      <td>...</td>\n      <td>NaN</td>\n      <td>271.721837</td>\n      <td>411.846997</td>\n      <td>540.369226</td>\n      <td>703.053616</td>\n      <td>21.810823</td>\n      <td>667.958668</td>\n      <td></td>\n      <td>950.209325</td>\n      <td>530.122551</td>\n    </tr>\n    <tr>\n      <th>3</th>\n      <td>3</td>\n      <td>NaN</td>\n      <td>Red</td>\n      <td>BSc</td>\n      <td>Below $30,001</td>\n      <td>Very good</td>\n      <td>lux</td>\n      <td>Recognition</td>\n      <td>Health</td>\n      <td>59 years and above</td>\n      <td>...</td>\n      <td>116.613291</td>\n      <td></td>\n      <td>410.483469</td>\n      <td>382.262612</td>\n      <td>779.486696</td>\n      <td>109.295732</td>\n      <td>651.231183</td>\n      <td>601.869269</td>\n      <td>942.957073</td>\n      <td>620.665623</td>\n    </tr>\n    <tr>\n      <th>4</th>\n      <td>4</td>\n      <td>male</td>\n      <td>black</td>\n      <td>phd</td>\n      <td>-</td>\n      <td>Very good</td>\n      <td>Dove</td>\n      <td>Recognition</td>\n      <td>Health</td>\n      <td>59 years and above</td>\n      <td>...</td>\n      <td>146.187875</td>\n      <td>259.617643</td>\n      <td>474.096709</td>\n      <td>410.063319</td>\n      <td>563.026229</td>\n      <td>152.853238</td>\n      <td>645.612568</td>\n      <td>422.557245</td>\n      <td>947.163814</td>\n      <td>558.01966</td>\n    </tr>\n  </tbody>\n</table>\n<p>5 rows × 93 columns</p>\n</div>"
     },
     "execution_count": 2,
     "metadata": {},
     "output_type": "execute_result"
    }
   ],
   "source": [
    "# 1. Sample generation\n",
    "classpath = 'lab2dataset/practice_dataframe.xlsx'\n",
    "data = pd.read_excel(classpath)\n",
    "data.head()"
   ],
   "metadata": {
    "collapsed": false,
    "pycharm": {
     "name": "#%%\n"
    }
   }
  }
 ],
 "metadata": {
  "kernelspec": {
   "display_name": "Python 3",
   "language": "python",
   "name": "python3"
  },
  "language_info": {
   "codemirror_mode": {
    "name": "ipython",
    "version": 2
   },
   "file_extension": ".py",
   "mimetype": "text/x-python",
   "name": "python",
   "nbconvert_exporter": "python",
   "pygments_lexer": "ipython2",
   "version": "2.7.6"
  }
 },
 "nbformat": 4,
 "nbformat_minor": 0
}