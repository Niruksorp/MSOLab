{
 "cells": [
  {
   "cell_type": "code",
   "execution_count": 1,
   "id": "wicked-stock",
   "metadata": {},
   "outputs": [],
   "source": [
    "from scipy import stats as st\n",
    "from scipy.stats import sigmaclip\n",
    "import pandas as pd\n",
    "import seaborn as sns"
   ]
  },
  {
   "cell_type": "code",
   "execution_count": 2,
   "id": "acting-estate",
   "metadata": {},
   "outputs": [],
   "source": [
    "dataframe = pd.read_csv('winemag-data_first150k.csv')"
   ]
  },
  {
   "cell_type": "markdown",
   "id": "hidden-communication",
   "metadata": {},
   "source": [
    "# Датасет ценообразования вина"
   ]
  },
  {
   "cell_type": "code",
   "execution_count": 3,
   "id": "immune-personality",
   "metadata": {},
   "outputs": [
    {
     "data": {
      "text/plain": "   Unnamed: 0 country                                        description  \\\n0           0      US  This tremendous 100% varietal wine hails from ...   \n1           1   Spain  Ripe aromas of fig, blackberry and cassis are ...   \n2           2      US  Mac Watson honors the memory of a wine once ma...   \n3           3      US  This spent 20 months in 30% new French oak, an...   \n4           4  France  This is the top wine from La Bégude, named aft...   \n\n                            designation  points  price        province  \\\n0                     Martha's Vineyard      96  235.0      California   \n1  Carodorum Selección Especial Reserva      96  110.0  Northern Spain   \n2         Special Selected Late Harvest      96   90.0      California   \n3                               Reserve      96   65.0          Oregon   \n4                            La Brûlade      95   66.0        Provence   \n\n            region_1           region_2             variety  \\\n0        Napa Valley               Napa  Cabernet Sauvignon   \n1               Toro                NaN       Tinta de Toro   \n2     Knights Valley             Sonoma     Sauvignon Blanc   \n3  Willamette Valley  Willamette Valley          Pinot Noir   \n4             Bandol                NaN  Provence red blend   \n\n                    winery  \n0                    Heitz  \n1  Bodega Carmen Rodríguez  \n2                 Macauley  \n3                    Ponzi  \n4     Domaine de la Bégude  ",
      "text/html": "<div>\n<style scoped>\n    .dataframe tbody tr th:only-of-type {\n        vertical-align: middle;\n    }\n\n    .dataframe tbody tr th {\n        vertical-align: top;\n    }\n\n    .dataframe thead th {\n        text-align: right;\n    }\n</style>\n<table border=\"1\" class=\"dataframe\">\n  <thead>\n    <tr style=\"text-align: right;\">\n      <th></th>\n      <th>Unnamed: 0</th>\n      <th>country</th>\n      <th>description</th>\n      <th>designation</th>\n      <th>points</th>\n      <th>price</th>\n      <th>province</th>\n      <th>region_1</th>\n      <th>region_2</th>\n      <th>variety</th>\n      <th>winery</th>\n    </tr>\n  </thead>\n  <tbody>\n    <tr>\n      <th>0</th>\n      <td>0</td>\n      <td>US</td>\n      <td>This tremendous 100% varietal wine hails from ...</td>\n      <td>Martha's Vineyard</td>\n      <td>96</td>\n      <td>235.0</td>\n      <td>California</td>\n      <td>Napa Valley</td>\n      <td>Napa</td>\n      <td>Cabernet Sauvignon</td>\n      <td>Heitz</td>\n    </tr>\n    <tr>\n      <th>1</th>\n      <td>1</td>\n      <td>Spain</td>\n      <td>Ripe aromas of fig, blackberry and cassis are ...</td>\n      <td>Carodorum Selección Especial Reserva</td>\n      <td>96</td>\n      <td>110.0</td>\n      <td>Northern Spain</td>\n      <td>Toro</td>\n      <td>NaN</td>\n      <td>Tinta de Toro</td>\n      <td>Bodega Carmen Rodríguez</td>\n    </tr>\n    <tr>\n      <th>2</th>\n      <td>2</td>\n      <td>US</td>\n      <td>Mac Watson honors the memory of a wine once ma...</td>\n      <td>Special Selected Late Harvest</td>\n      <td>96</td>\n      <td>90.0</td>\n      <td>California</td>\n      <td>Knights Valley</td>\n      <td>Sonoma</td>\n      <td>Sauvignon Blanc</td>\n      <td>Macauley</td>\n    </tr>\n    <tr>\n      <th>3</th>\n      <td>3</td>\n      <td>US</td>\n      <td>This spent 20 months in 30% new French oak, an...</td>\n      <td>Reserve</td>\n      <td>96</td>\n      <td>65.0</td>\n      <td>Oregon</td>\n      <td>Willamette Valley</td>\n      <td>Willamette Valley</td>\n      <td>Pinot Noir</td>\n      <td>Ponzi</td>\n    </tr>\n    <tr>\n      <th>4</th>\n      <td>4</td>\n      <td>France</td>\n      <td>This is the top wine from La Bégude, named aft...</td>\n      <td>La Brûlade</td>\n      <td>95</td>\n      <td>66.0</td>\n      <td>Provence</td>\n      <td>Bandol</td>\n      <td>NaN</td>\n      <td>Provence red blend</td>\n      <td>Domaine de la Bégude</td>\n    </tr>\n  </tbody>\n</table>\n</div>"
     },
     "execution_count": 3,
     "metadata": {},
     "output_type": "execute_result"
    }
   ],
   "source": [
    "dataframe.head()"
   ]
  },
  {
   "cell_type": "markdown",
   "id": "designed-earth",
   "metadata": {},
   "source": [
    "Изобразим график цены"
   ]
  },
  {
   "cell_type": "code",
   "execution_count": 4,
   "outputs": [
    {
     "name": "stdout",
     "output_type": "stream",
     "text": [
      "~~~~~~~~~~~Row before dropping NAs: 150930~~~~~~~~~~~\n",
      "~~~~~~~~~~~Row after dropping NAs: 137235~~~~~~~~~~~\n"
     ]
    }
   ],
   "source": [
    "print('~~~~~~~~~~~Row before dropping NAs: {}~~~~~~~~~~~'.format(len(dataframe)))\n",
    "dataframe.dropna(subset=['price'], inplace=True)\n",
    "print('~~~~~~~~~~~Row after dropping NAs: {}~~~~~~~~~~~'.format(len(dataframe)))"
   ],
   "metadata": {
    "collapsed": false,
    "pycharm": {
     "name": "#%%\n"
    }
   }
  },
  {
   "cell_type": "code",
   "execution_count": 5,
   "id": "connected-country",
   "metadata": {},
   "outputs": [
    {
     "data": {
      "text/plain": "<seaborn.axisgrid.FacetGrid at 0x206b2a887f0>"
     },
     "execution_count": 5,
     "metadata": {},
     "output_type": "execute_result"
    },
    {
     "data": {
      "text/plain": "<Figure size 360x360 with 1 Axes>",
      "image/png": "[encoded data removed]"
     },
     "metadata": {
      "needs_background": "light"
     },
     "output_type": "display_data"
    }
   ],
   "source": [
    "sns.displot(dataframe.price, kde=True)"
   ]
  },
  {
   "cell_type": "markdown",
   "id": "canadian-settlement",
   "metadata": {},
   "source": [
    "Как видно распределение не очень близко к нормальному, поэтому используем sigmaclip для приведения к нормальной форме"
   ]
  },
  {
   "cell_type": "code",
   "execution_count": 6,
   "id": "employed-marker",
   "metadata": {},
   "outputs": [
    {
     "data": {
      "text/plain": "array(['US', 'Spain', 'France', 'Italy', 'New Zealand', 'Bulgaria',\n       'Argentina', 'Australia', 'Portugal', 'Israel', 'South Africa',\n       'Greece', 'Chile', 'Morocco', 'Romania', 'Germany', 'Canada',\n       'Moldova', 'Hungary', 'Austria', 'Croatia', 'Slovenia', nan,\n       'India', 'Turkey', 'Macedonia', 'Lebanon', 'Serbia', 'Uruguay',\n       'Switzerland', 'Albania', 'Bosnia and Herzegovina', 'Brazil',\n       'Cyprus', 'Lithuania', 'Japan', 'China', 'South Korea', 'Ukraine',\n       'England', 'Mexico', 'Georgia', 'Montenegro', 'Luxembourg',\n       'Slovakia', 'Czech Republic', 'US-France'], dtype=object)"
     },
     "execution_count": 6,
     "metadata": {},
     "output_type": "execute_result"
    }
   ],
   "source": [
    "dataframe.country.unique()"
   ]
  },
  {
   "cell_type": "code",
   "execution_count": 7,
   "outputs": [
    {
     "data": {
      "text/plain": "array(['California', 'Northern Spain', 'Oregon', 'Provence',\n       'Northeastern Italy', 'Southwest France', 'Kumeu', 'Washington',\n       'Bulgaria', 'France Other', 'Tuscany', 'Rhône Valley', 'Galicia',\n       'Andalucia', 'Idaho', 'Burgundy', 'Loire Valley', 'New York',\n       'Mendoza Province', 'Victoria', 'Alentejano', 'Alentejo',\n       'Champagne', 'Piedmont', 'Upper Galilee', 'Beira Atlantico',\n       'Veneto', 'Douro', 'Tejo', 'Stellenbosch', 'Sicily & Sardinia',\n       'Southern Italy', 'Languedoc-Roussillon', 'Bordeaux',\n       'Atalanti Valley', 'Catalonia', 'Santorini', 'Florina',\n       'Marchigue', 'Colchagua Valley', 'Curicó Valley', 'Nemea',\n       'Maule Valley', 'Alsace', 'Guerrouane', 'Colinele Dobrogei',\n       'Central Spain', 'Vinho Verde', 'Mosel', 'Rheinhessen',\n       'Golan Heights', 'Württemberg', 'Ahr', 'British Columbia',\n       'Moldova', 'Spain Other', 'Sopron', 'Other', 'Walker Bay', 'Dão',\n       'Duriense', 'Ontario', 'Beiras', 'Tokaji', 'Lisboa',\n       'Thermenregion', 'Burgenland', 'Carnuntum', 'Rheingau', 'Nahe',\n       'South Australia', 'North Dalmatia', 'Thracian Valley',\n       'Goriska Brda', 'Western Cape', 'Overberg', 'Robertson', 'Galilee',\n       'Maipo Valley', 'Casablanca Valley', 'Cachapoal Valley',\n       'Terras do Dão', 'Leyda Valley', 'Peumo', 'Italy Other', 'Baden',\n       'Limarí Valley', 'Lombardy', 'Peloponnese', 'Judean Hills',\n       'Tasmania', 'Bairrada', 'Simonsberg-Paarl',\n       'Portuguese Table Wine', 'Beaujolais', 'Península de Setúbal',\n       'Aconcagua Valley', 'Virginia', 'Dealurile Munteniei', 'Levante',\n       nan, 'Nashik', 'Niederösterreich', 'Marlborough', 'Central Otago',\n       'Palmela', 'Beira Interior', 'Port', 'Franken', 'Martinborough',\n       'Wagram', 'Kamptal', 'South Africa', 'Rapel Valley', 'Pfalz',\n       'Hvar', 'Colorado', 'Arizona', 'Aconcagua Costa', 'Zenata',\n       'Nelson', 'Elqui Valley', 'San Antonio', 'Eisenberg', 'Istria',\n       'Ankara', 'Villány', 'Štajerska', 'Moscatel de Setúbal',\n       'Moscatel do Douro', 'Samson', 'Wachau', 'Tikves', 'Lebanon',\n       'Kremstal', 'Pocerina', 'Župa', 'Vienna', 'Morocco', \"Hawke's Bay\",\n       'Juanico', 'Montevideo', 'Kras', 'Dolenjska', 'Korčula', 'America',\n       'Bío Bío Valley', 'Weinviertel', 'Bekaa Valley', 'Aegean',\n       'Central Italy', 'Galil', 'Recas', 'Turkey', 'Bucelas',\n       'Chalkidiki', 'Wiener Gemischter Satz', 'Australia Other',\n       'Jerusalem Hills', 'Ilia', 'Danube River Plains', 'Valais',\n       'Neuchâtel', 'North Carolina', 'Mirditë', 'Corinth',\n       'Weinland Österreich', 'Waipara', 'Vipavska Dolina',\n       'Western Australia', 'Macedonia', 'Viile Timisului', 'Pangeon',\n       'Romania', 'Central Greece', 'Central Valley', 'Awatere Valley',\n       'Alenteo', 'Thrace', 'Chile', 'New South Wales', 'Primorska',\n       'Slovenia', 'Progreso', 'Retsina', 'Apalta', 'San Clemente',\n       'Dealu Mare', 'Alenquer', 'Canelones', 'New Zealand', 'Mostar',\n       'Shomron', 'Haut-Judeé', 'Drama', 'Slovenska Istra', 'Pannon',\n       'Spanish Islands', 'Fruška Gora', 'Gisborne', 'Terasele Dunarii',\n       'Uruguay', 'Serra Gaúcha', 'Südsteiermark', 'Lontué Valley',\n       'New Mexico', 'Lolol Valley', 'Missouri', 'Wagram-Donauland',\n       'Curicó and Leyda Valleys', 'Loncomilla Valley',\n       'Mittelburgenland', 'Itata Valley', 'Swartland', 'Leithaberg',\n       'Casablanca & Leyda Valleys', 'Pirque', 'Hemel en Aarde',\n       'Simonsberg-Stellenbosch', 'Mantinia', 'Tulbagh', 'Canterbury',\n       'Choapa Valley', 'Negev', 'Paarl', 'Setubal', 'Algarve',\n       'Coastal Region', 'Commandaria', 'Patras', 'Jonkershoek Valley',\n       'Elgin', 'Kathikas', 'Pennsylvania', 'Dan',\n       'Vin de Pays de Velvendo', 'Ribatejo', 'Durbanville',\n       'Polkadraai Hills', 'Mosel-Saar-Ruwer', 'Österreichischer Sekt',\n       'Crete', 'Südoststeiermark', 'Malgas', 'Styria', 'Donauland',\n       'Omaka Valley', 'Rapsani', 'Opuntia Locris', 'Samos',\n       'Vin de Pays de Macédoine', 'Greece', 'Halkidiki', 'Attica',\n       'Cephalonia', 'Mount Athos', 'Vinho Espumante de Qualidade',\n       'South Island', 'Neusiedlersee-Hügelland', 'Portugal',\n       'Traisental', 'Austria', 'Bot River', 'Cederberg', 'Wellington',\n       'Neusiedlersee', 'Ohio', 'Epanomi', 'Korinthia', 'Hungary',\n       'Neszmély', 'Lithuania', 'Breedekloof', 'Kyoto', 'Franschhoek',\n       'Naoussa', 'Thraki', 'Constantia', 'China', 'Jiri Valley',\n       'Cape Agulhas', 'Massachusetts', 'Arcadia', 'New Jersey', 'Pageon',\n       'Northwestern Italy', 'Puente Alto', 'Klein River', 'Buin',\n       'Mavrodaphne of Patras', 'Ilias', 'Requinoa', 'Colares', 'Minho',\n       'Peljesac', 'Elazığ', 'Sebes', 'Ukraine', 'Vinho da Mesa',\n       'Wairau Valley', 'Terras do Sado', 'Israel', 'Michigan', 'Texas',\n       'England', 'Valle de Guadalupe', 'Tokaj', 'Imathia', 'Malleco',\n       'Kakheti', 'Brda', 'Waiheke Island', 'Waipara Valley', 'Amyndeon',\n       'Sterea Ellada', 'Dingač', 'Croatia', 'Lemnos', 'Krk',\n       'Valle de Guadalupe and Santo Tomás', 'Wairarapa', 'Georgia',\n       'Rapel Valley-Casablanca Valley', 'Lake Skadar Valley',\n       'Middle and South Dalmatia', 'Goumenissa', 'Estremadura', 'Obidos',\n       'Washington-Oregon', 'Vinho Licoroso', 'Mátra', 'Steiermark',\n       'Achaia', 'Cyclades', 'Darling', 'Vale dos Vinhedos', 'Tradouw',\n       'San Jose', 'Brazil', 'Iowa', 'Germany', 'Santa Cruz',\n       'Philadelphia', 'Torres Vedras', 'Molina',\n       'Casablanca-Curicó Valley', 'Kutjevo', 'East Coast', 'Madeira',\n       'Messinia', 'Ribatejano', 'Negev Hills', 'Groenekloof',\n       'Thessalikos', 'Cyprus', 'Eilandia', 'Dalmatian Coast',\n       'Muscat of Patras', 'Pitsilia Mountains', 'Queensland',\n       'Danube Hills Valley', 'Eger', 'Rhein-Mosel', 'Sliven',\n       'Targovishte', 'Tarnave', 'Peza', 'Szekszárd', 'Napareuli',\n       'Plaiurile Drancei', 'Transylvanian Plateau', 'Felso-Magyarország',\n       'North Island', 'Moselle Luxembourgeoise', 'Chisinau County',\n       'Murfatlar Cernavoda', 'Eastern Bays', 'Marlborough & Hawkes Bay',\n       'Ohiti Valley', 'Moutere', 'El Colorado', 'Colonia', 'Atlantida',\n       'Vânju Mare', 'Muzla', 'Murfatlar', 'Dealurile Hușilor', 'Moravia',\n       'Black Sea Coastal', 'Curicó and Maipo Valleys',\n       'Cape South Coast', 'Cauquenes Valley', 'Letrinon',\n       'Santa Catarina', 'Serra do Sudeste', 'Vale Trentino',\n       'Podunavlje', 'Krania Olympus', 'Pafos',\n       'Central Otago-Marlborough', 'Lesbos', 'Evia', 'Monemvasia',\n       'Northern Cape', 'Ismarikos', 'Vermont', 'Connecticut',\n       'San Antonio de las Minas Valley', 'San Vicente', 'Rio Claro',\n       'Maipo Valley-Colchagua Valley', 'Colchagua Costa', 'Kentucky',\n       'Viile Carasului', 'Breede River Valley', 'Canada Other', 'Zitsa',\n       'Lakonia', 'Beotia', 'Table wine', 'Cahul', 'Pisatis',\n       'Langenlois', 'Amindeo', 'Aigialias Slopes', 'Hrvatsko Primorje',\n       'Gerania', 'Egilias Slopes', \"Vin de Pays d'Imathia\",\n       'Codru Region', 'Lemesos', 'Lutzville Valley', 'Ioannina',\n       'Viile Timis', 'Limnos', 'Vino da Tavola della Svizzera Italiana',\n       'Nevada', 'Rose Valley', 'Ticino', 'Ella Valley', 'Douro Superior',\n       'South Styria', 'Elim', 'Martinborough Terrace',\n       'Santa Barbara County-Condrieu', \"Beni M'Tir\", 'Stirling'],\n      dtype=object)"
     },
     "execution_count": 7,
     "metadata": {},
     "output_type": "execute_result"
    }
   ],
   "source": [
    "dataframe.province.unique()"
   ],
   "metadata": {
    "collapsed": false,
    "pycharm": {
     "name": "#%%\n"
    }
   }
  },
  {
   "cell_type": "markdown",
   "id": "phantom-johns",
   "metadata": {},
   "source": [
    "Анализ будет произведён по 2м критериям:\n",
    " - страна изготовления вина\n",
    " - провинция, где изготовлено вино"
   ]
  },
  {
   "cell_type": "code",
   "execution_count": 8,
   "outputs": [
    {
     "data": {
      "text/plain": "0     80.0\n1     29.0\n2     23.0\n3     29.0\n4     39.0\n5     30.0\n6     90.0\n7     50.0\n8     60.0\n9     75.0\n10    59.0\n11    85.0\n12    80.0\n13    22.0\n14    45.0\n15    45.0\n16    18.0\n17    25.0\n18    22.0\n19    40.0\n20    57.0\n21    49.0\n22    58.0\n23    80.0\n24    58.0\n25    43.0\n26    69.0\n27    34.0\n28    56.0\n29    46.0\n30    49.0\n31    27.0\n32    33.0\n33    60.0\n34    25.0\n35    23.0\n36    85.0\n37    38.0\n38    29.0\n39    75.0\n40    90.0\n41    60.0\n42    85.0\n43    22.0\n44    19.0\n45    60.0\n46    60.0\n47    75.0\n48    60.0\n49    70.0\ndtype: float64"
     },
     "execution_count": 8,
     "metadata": {},
     "output_type": "execute_result"
    }
   ],
   "source": [
    "italy = pd.Series(sigmaclip(dataframe.price[(dataframe.country=='Italy')],3.0,3.0)[0]).iloc[:50]\n",
    "italy"
   ],
   "metadata": {
    "collapsed": false,
    "pycharm": {
     "name": "#%%\n"
    }
   }
  },
  {
   "cell_type": "code",
   "execution_count": 9,
   "outputs": [
    {
     "data": {
      "text/plain": "0     65.0\n1     65.0\n2     60.0\n3     48.0\n4     48.0\n5     75.0\n6     24.0\n7     60.0\n8     45.0\n9     62.0\n10    60.0\n11    60.0\n12    37.0\n13    42.0\n14    55.0\n15    60.0\n16    40.0\n17    18.0\n18    69.0\n19    25.0\n20    30.0\n21    36.0\n22    50.0\n23    60.0\n24    45.0\n25    19.0\n26    54.0\n27    38.0\n28    28.0\n29    42.0\n30    22.0\n31    65.0\n32    50.0\n33    10.0\n34    13.0\n35    18.0\n36    36.0\n37    24.0\n38    50.0\n39    48.0\n40    20.0\n41    17.0\n42    12.0\n43    10.0\n44    13.0\n45    45.0\n46    25.0\n47    59.0\n48    49.0\n49    42.0\ndtype: float64"
     },
     "execution_count": 9,
     "metadata": {},
     "output_type": "execute_result"
    }
   ],
   "source": [
    "US = pd.Series(sigmaclip(dataframe.price[(dataframe.country=='US')],3.0,3.0)[0]).iloc[:50]\n",
    "US"
   ],
   "metadata": {
    "collapsed": false,
    "pycharm": {
     "name": "#%%\n"
    }
   }
  },
  {
   "cell_type": "code",
   "execution_count": 10,
   "outputs": [
    {
     "data": {
      "text/plain": "0     17.0\n1     26.0\n2     22.0\n3     17.0\n4     17.0\n5     17.0\n6     30.0\n7     25.0\n8     22.0\n9     18.0\n10    30.0\n11    17.0\n12    22.0\n13    32.0\n14    35.0\n15    28.0\n16    26.0\n17    18.0\n18    27.0\n19    25.0\n20    15.0\n21    16.0\n22    15.0\n23    28.0\n24    23.0\n25    25.0\n26    12.0\n27    18.0\n28    20.0\n29    17.0\n30    20.0\n31    11.0\n32    35.0\n33    26.0\n34    26.0\n35    21.0\n36    35.0\n37    25.0\n38    36.0\n39    26.0\n40    30.0\n41    30.0\n42    35.0\n43    24.0\n44    25.0\n45    15.0\n46    15.0\n47    20.0\n48    30.0\n49    37.0\ndtype: float64"
     },
     "execution_count": 10,
     "metadata": {},
     "output_type": "execute_result"
    }
   ],
   "source": [
    "Spain = pd.Series(sigmaclip(dataframe.price[(dataframe.country=='Spain')],3.0,3.0)[0]).iloc[:50]\n",
    "Spain"
   ],
   "metadata": {
    "collapsed": false,
    "pycharm": {
     "name": "#%%\n"
    }
   }
  },
  {
   "cell_type": "code",
   "execution_count": 11,
   "outputs": [
    {
     "data": {
      "text/plain": "0     70.0\n1     17.0\n2     24.0\n3     19.0\n4     38.0\n5     30.0\n6     32.0\n7     60.0\n8     40.0\n9     18.0\n10    40.0\n11    40.0\n12    15.0\n13    24.0\n14    30.0\n15    18.0\n16    18.0\n17    25.0\n18    32.0\n19    40.0\n20    30.0\n21    20.0\n22    21.0\n23    18.0\n24    40.0\n25    30.0\n26    21.0\n27    25.0\n28    25.0\n29    32.0\n30    23.0\n31    30.0\n32    33.0\n33    28.0\n34    22.0\n35    45.0\n36    30.0\n37    45.0\n38    18.0\n39    45.0\n40    20.0\n41    24.0\n42    15.0\n43    20.0\n44    15.0\n45    25.0\n46    12.0\n47    13.0\n48    15.0\n49    25.0\ndtype: float64"
     },
     "execution_count": 11,
     "metadata": {},
     "output_type": "execute_result"
    }
   ],
   "source": [
    "Canada = pd.Series(sigmaclip(dataframe.price[(dataframe.country=='Canada')],3.0,3.0)[0]).iloc[:50]\n",
    "Canada"
   ],
   "metadata": {
    "collapsed": false,
    "pycharm": {
     "name": "#%%\n"
    }
   }
  },
  {
   "cell_type": "code",
   "execution_count": 12,
   "outputs": [
    {
     "data": {
      "text/plain": "0     60.0\n1     75.0\n2     24.0\n3     60.0\n4     45.0\n5     60.0\n6     37.0\n7     60.0\n8     18.0\n9     36.0\n10    60.0\n11    45.0\n12    38.0\n13    28.0\n14    22.0\n15    65.0\n16    50.0\n17    10.0\n18    13.0\n19    18.0\n20    36.0\n21    24.0\n22    50.0\n23    48.0\n24    20.0\n25    12.0\n26    10.0\n27    13.0\n28    45.0\n29    59.0\n30    49.0\n31    42.0\n32    32.0\n33    20.0\n34    50.0\n35    45.0\n36    26.0\n37    16.0\n38    30.0\n39    42.0\n40    38.0\n41    48.0\n42    28.0\n43    25.0\n44    24.0\n45    55.0\n46    36.0\n47    40.0\n48    28.0\n49    42.0\ndtype: float64"
     },
     "execution_count": 12,
     "metadata": {},
     "output_type": "execute_result"
    }
   ],
   "source": [
    "California = pd.Series(sigmaclip(dataframe.price[(dataframe.province=='California')],3.0,3.0)[0]).iloc[:50]\n",
    "California"
   ],
   "metadata": {
    "collapsed": false,
    "pycharm": {
     "name": "#%%\n"
    }
   }
  },
  {
   "cell_type": "code",
   "execution_count": 13,
   "outputs": [
    {
     "data": {
      "text/plain": "0     20.0\n1     36.0\n2     34.0\n3     30.0\n4     40.0\n5     20.0\n6     26.0\n7     17.0\n8     34.0\n9     38.0\n10    35.0\n11    38.0\n12    38.0\n13    32.0\n14    40.0\n15    24.0\n16    25.0\n17    24.0\n18    20.0\n19    17.0\n20    20.0\n21    35.0\n22    22.0\n23    27.0\n24    20.0\n25    24.0\n26    35.0\n27    40.0\n28    20.0\n29    19.0\n30    24.0\n31    20.0\n32    21.0\n33    23.0\n34    29.0\n35    25.0\n36    40.0\n37    15.0\n38    20.0\n39    22.0\n40    20.0\n41    22.0\n42    12.0\n43    17.0\n44    20.0\n45    26.0\n46    21.0\n47    24.0\n48    23.0\n49    15.0\ndtype: float64"
     },
     "execution_count": 13,
     "metadata": {},
     "output_type": "execute_result"
    }
   ],
   "source": [
    "Provence = pd.Series(sigmaclip(dataframe.price[(dataframe.province=='Provence')],3.0,3.0)[0]).iloc[:50]\n",
    "Provence"
   ],
   "metadata": {
    "collapsed": false,
    "pycharm": {
     "name": "#%%\n"
    }
   }
  },
  {
   "cell_type": "code",
   "execution_count": 14,
   "outputs": [
    {
     "data": {
      "text/plain": "0     65.0\n1     65.0\n2     48.0\n3     48.0\n4     62.0\n5     50.0\n6     19.0\n7     54.0\n8     42.0\n9     26.0\n10    50.0\n11    24.0\n12    35.0\n13    36.0\n14    36.0\n15    60.0\n16    15.0\n17    60.0\n18    16.0\n19    70.0\n20    48.0\n21    49.0\n22    63.0\n23    30.0\n24    48.0\n25    50.0\n26    42.0\n27    29.0\n28    19.0\n29    15.0\n30    45.0\n31    18.0\n32    35.0\n33    46.0\n34    50.0\n35    35.0\n36    44.0\n37    18.0\n38    48.0\n39    49.0\n40    48.0\n41    20.0\n42    26.0\n43    18.0\n44    32.0\n45    57.0\n46    24.0\n47    48.0\n48    65.0\n49    45.0\ndtype: float64"
     },
     "execution_count": 14,
     "metadata": {},
     "output_type": "execute_result"
    }
   ],
   "source": [
    "Oregon = pd.Series(sigmaclip(dataframe.price[(dataframe.province=='Oregon')],3.0,3.0)[0]).iloc[:50]\n",
    "Oregon"
   ],
   "metadata": {
    "collapsed": false,
    "pycharm": {
     "name": "#%%\n"
    }
   }
  },
  {
   "cell_type": "code",
   "execution_count": 15,
   "outputs": [
    {
     "data": {
      "text/plain": "0      29.0\n1      23.0\n2      29.0\n3      39.0\n4      30.0\n5      90.0\n6      50.0\n7     100.0\n8      60.0\n9      45.0\n10     25.0\n11     22.0\n12     40.0\n13     57.0\n14     60.0\n15     60.0\n16     75.0\n17     95.0\n18     60.0\n19     70.0\n20     90.0\n21     30.0\n22     32.0\n23     35.0\n24     75.0\n25     98.0\n26     28.0\n27     17.0\n28     52.0\n29     58.0\n30     60.0\n31     43.0\n32     55.0\n33     30.0\n34     45.0\n35     30.0\n36     62.0\n37     80.0\n38     60.0\n39     25.0\n40     23.0\n41     28.0\n42     45.0\n43    110.0\n44     90.0\n45     50.0\n46     87.0\n47     20.0\n48     56.0\n49     25.0\ndtype: float64"
     },
     "execution_count": 15,
     "metadata": {},
     "output_type": "execute_result"
    }
   ],
   "source": [
    "Tuscany = pd.Series(sigmaclip(dataframe.price[(dataframe.province=='Tuscany')],3.0,3.0)[0]).iloc[:50]\n",
    "Tuscany"
   ],
   "metadata": {
    "collapsed": false,
    "pycharm": {
     "name": "#%%\n"
    }
   }
  },
  {
   "cell_type": "code",
   "execution_count": 16,
   "outputs": [],
   "source": [
    "df = pd.DataFrame(data = {'col1': italy.values, 'col2':US.values, 'col3':Spain.values, 'col4':Canada.values})\n",
    "df1 = pd.DataFrame(data = {'col1': California.values, 'col2':Provence.values, 'col3':Oregon.values, 'col4':Tuscany.values})"
   ],
   "metadata": {
    "collapsed": false,
    "pycharm": {
     "name": "#%%\n"
    }
   }
  },
  {
   "cell_type": "markdown",
   "id": "medium-bookmark",
   "metadata": {},
   "source": [
    "Проверим выборки на независимость с помощью критерия $\\chi^2$ Пирсона."
   ]
  },
  {
   "cell_type": "code",
   "execution_count": 17,
   "id": "brilliant-forge",
   "metadata": {},
   "outputs": [
    {
     "name": "stdout",
     "output_type": "stream",
     "text": [
      "p-value: 8.058741002599736e-95\n",
      "Нулевая гипотеза отвергается\n"
     ]
    }
   ],
   "source": [
    "_, p, _, _  = st.chi2_contingency(df.T, correction=False)\n",
    "print('p-value:', p)\n",
    "\n",
    "alpha = 0.05\n",
    "if p >= alpha:\n",
    "    print(f'Нулевая гипотеза принимается')\n",
    "else:\n",
    "    print(f'Нулевая гипотеза отвергается')"
   ]
  },
  {
   "cell_type": "markdown",
   "id": "controlling-hollow",
   "metadata": {},
   "source": [
    "Проверка на нормальность выборок по провинциям"
   ]
  },
  {
   "cell_type": "code",
   "execution_count": 18,
   "id": "synthetic-ordering",
   "metadata": {},
   "outputs": [
    {
     "name": "stdout",
     "output_type": "stream",
     "text": [
      "0.22297313809394836\n",
      "Нулевая гипотеза принимается\n",
      "0.001089521567337215\n",
      "Нулевая гипотеза отвергается\n",
      "0.020061969757080078\n",
      "Нулевая гипотеза принимается\n",
      "0.005272279493510723\n",
      "Нулевая гипотеза отвергается\n"
     ]
    }
   ],
   "source": [
    "for i in range(4):\n",
    "    col = 'col' + str(i + 1)\n",
    "    _, p = st.shapiro(df1[col])\n",
    "    print(p)\n",
    "    alpha = 0.01\n",
    "    if p >= alpha:\n",
    "        print(f'Нулевая гипотеза принимается')\n",
    "    else:\n",
    "        print(f'Нулевая гипотеза отвергается')"
   ]
  },
  {
   "cell_type": "markdown",
   "id": "focused-yukon",
   "metadata": {},
   "source": [
    "Проверка на нормальность выборок по стране изготовления"
   ]
  },
  {
   "cell_type": "code",
   "execution_count": 19,
   "id": "growing-velvet",
   "metadata": {},
   "outputs": [
    {
     "name": "stdout",
     "output_type": "stream",
     "text": [
      "0.012912820093333721\n",
      "Нулевая гипотеза принимается\n",
      "0.031763605773448944\n",
      "Нулевая гипотеза принимается\n",
      "0.10383708775043488\n",
      "Нулевая гипотеза принимается\n",
      "0.00027018331456929445\n",
      "Нулевая гипотеза отвергается\n"
     ]
    }
   ],
   "source": [
    "for i in range(4):\n",
    "    col = 'col' + str(i + 1)\n",
    "    _, p = st.shapiro(df[col])\n",
    "    print(p)\n",
    "    alpha = 0.01\n",
    "    if p >= alpha:\n",
    "        print(f'Нулевая гипотеза принимается')\n",
    "    else:\n",
    "        print(f'Нулевая гипотеза отвергается')"
   ]
  },
  {
   "cell_type": "code",
   "execution_count": 20,
   "id": "worth-nutrition",
   "metadata": {},
   "outputs": [
    {
     "data": {
      "text/plain": "<seaborn.axisgrid.FacetGrid at 0x20708a188b0>"
     },
     "execution_count": 20,
     "metadata": {},
     "output_type": "execute_result"
    },
    {
     "data": {
      "text/plain": "<Figure size 360x360 with 1 Axes>",
      "image/png": "[encoded data removed]"
     },
     "metadata": {
      "needs_background": "light"
     },
     "output_type": "display_data"
    }
   ],
   "source": [
    "sns.displot(df1.col2)"
   ]
  },
  {
   "cell_type": "markdown",
   "id": "israeli-reach",
   "metadata": {},
   "source": [
    "Построим график коробка с усами для датасета по параметрам цена/количество комнат"
   ]
  },
  {
   "cell_type": "code",
   "execution_count": 21,
   "id": "guilty-indonesia",
   "metadata": {},
   "outputs": [
    {
     "data": {
      "text/plain": "<AxesSubplot:xlabel='country', ylabel='price'>"
     },
     "execution_count": 21,
     "metadata": {},
     "output_type": "execute_result"
    },
    {
     "data": {
      "text/plain": "<Figure size 432x288 with 1 Axes>",
      "image/png": "[encoded data removed]"
     },
     "metadata": {
      "needs_background": "light"
     },
     "output_type": "display_data"
    }
   ],
   "source": [
    "sns.boxplot(x=\"country\", y=\"price\", data=dataframe)"
   ]
  },
  {
   "cell_type": "markdown",
   "id": "sunset-shooting",
   "metadata": {},
   "source": [
    "Построим график коробка с усами для датасета по параметрам цена/провинция"
   ]
  },
  {
   "cell_type": "code",
   "execution_count": 22,
   "id": "growing-package",
   "metadata": {},
   "outputs": [
    {
     "data": {
      "text/plain": "<AxesSubplot:>"
     },
     "execution_count": 22,
     "metadata": {},
     "output_type": "execute_result"
    },
    {
     "data": {
      "text/plain": "<Figure size 432x288 with 1 Axes>",
      "image/png": "[encoded data removed]"
     },
     "metadata": {
      "needs_background": "light"
     },
     "output_type": "display_data"
    }
   ],
   "source": [
    "sns.boxplot(data=df1)"
   ]
  },
  {
   "cell_type": "markdown",
   "id": "nuclear-upper",
   "metadata": {},
   "source": [
    "Проверка гипотезы о групповом равенстве дисперсий с помощью критерия левена для выборок цена/страна"
   ]
  },
  {
   "cell_type": "code",
   "execution_count": 23,
   "id": "received-hacker",
   "metadata": {},
   "outputs": [
    {
     "name": "stdout",
     "output_type": "stream",
     "text": [
      "p-value: 0.0000\n",
      "Нулевая гипотеза отвергается\n"
     ]
    }
   ],
   "source": [
    "_, p = st.levene(df['col1'], df['col2'], df['col3'], df['col4'])\n",
    "print(f'p-value: {p:.4f}')\n",
    "\n",
    "alpha = 0.05\n",
    "if p >= alpha:\n",
    "    print(f'Нулевая гипотеза принимается')\n",
    "else:\n",
    "    print(f'Нулевая гипотеза отвергается')"
   ]
  },
  {
   "cell_type": "markdown",
   "id": "dramatic-lecture",
   "metadata": {},
   "source": [
    "Проведём однофакторный дисперсионный анализ на равенство мат ожиданий выборок цена/страна"
   ]
  },
  {
   "cell_type": "code",
   "execution_count": 24,
   "id": "direct-atlanta",
   "metadata": {},
   "outputs": [
    {
     "name": "stdout",
     "output_type": "stream",
     "text": [
      "p-value: 0.0000\n",
      "Нулевая гипотеза отвергается\n"
     ]
    }
   ],
   "source": [
    "_, p = st.f_oneway(df['col1'], df['col2'], df['col3'], df['col4'])\n",
    "print(f'p-value: {p:.4f}')\n",
    "\n",
    "alpha = 0.05\n",
    "\n",
    "if p >= alpha:\n",
    "    print(f'Нулевая гипотеза принимается')\n",
    "else:\n",
    "    print(f'Нулевая гипотеза отвергается')"
   ]
  },
  {
   "cell_type": "markdown",
   "id": "selected-majority",
   "metadata": {},
   "source": [
    "Выясним как группы различаются между собой\n",
    "\n",
    "Воспользуемся критерием Тьюки"
   ]
  },
  {
   "cell_type": "code",
   "execution_count": 25,
   "id": "primary-lingerie",
   "metadata": {},
   "outputs": [
    {
     "data": {
      "text/plain": "     id group  result\n0     0  col1    60.0\n1     0  col2    20.0\n2     0  col3    65.0\n3     0  col4    29.0\n4     1  col1    75.0\n..   ..   ...     ...\n195  48  col4    56.0\n196  49  col1    42.0\n197  49  col2    15.0\n198  49  col3    45.0\n199  49  col4    25.0\n\n[200 rows x 3 columns]",
      "text/html": "<div>\n<style scoped>\n    .dataframe tbody tr th:only-of-type {\n        vertical-align: middle;\n    }\n\n    .dataframe tbody tr th {\n        vertical-align: top;\n    }\n\n    .dataframe thead th {\n        text-align: right;\n    }\n</style>\n<table border=\"1\" class=\"dataframe\">\n  <thead>\n    <tr style=\"text-align: right;\">\n      <th></th>\n      <th>id</th>\n      <th>group</th>\n      <th>result</th>\n    </tr>\n  </thead>\n  <tbody>\n    <tr>\n      <th>0</th>\n      <td>0</td>\n      <td>col1</td>\n      <td>60.0</td>\n    </tr>\n    <tr>\n      <th>1</th>\n      <td>0</td>\n      <td>col2</td>\n      <td>20.0</td>\n    </tr>\n    <tr>\n      <th>2</th>\n      <td>0</td>\n      <td>col3</td>\n      <td>65.0</td>\n    </tr>\n    <tr>\n      <th>3</th>\n      <td>0</td>\n      <td>col4</td>\n      <td>29.0</td>\n    </tr>\n    <tr>\n      <th>4</th>\n      <td>1</td>\n      <td>col1</td>\n      <td>75.0</td>\n    </tr>\n    <tr>\n      <th>...</th>\n      <td>...</td>\n      <td>...</td>\n      <td>...</td>\n    </tr>\n    <tr>\n      <th>195</th>\n      <td>48</td>\n      <td>col4</td>\n      <td>56.0</td>\n    </tr>\n    <tr>\n      <th>196</th>\n      <td>49</td>\n      <td>col1</td>\n      <td>42.0</td>\n    </tr>\n    <tr>\n      <th>197</th>\n      <td>49</td>\n      <td>col2</td>\n      <td>15.0</td>\n    </tr>\n    <tr>\n      <th>198</th>\n      <td>49</td>\n      <td>col3</td>\n      <td>45.0</td>\n    </tr>\n    <tr>\n      <th>199</th>\n      <td>49</td>\n      <td>col4</td>\n      <td>25.0</td>\n    </tr>\n  </tbody>\n</table>\n<p>200 rows × 3 columns</p>\n</div>"
     },
     "execution_count": 25,
     "metadata": {},
     "output_type": "execute_result"
    }
   ],
   "source": [
    "stacked_data1 = df1.stack().reset_index()\n",
    "stacked_data1 = stacked_data1.rename(columns={'level_0': 'id',\n",
    "                                            'level_1': 'group',\n",
    "                                            0:'result'})\n",
    "stacked_data1"
   ]
  },
  {
   "cell_type": "code",
   "execution_count": 26,
   "id": "composite-bicycle",
   "metadata": {},
   "outputs": [
    {
     "data": {
      "text/plain": "     id group  result\n0     0  col1    80.0\n1     0  col2    65.0\n2     0  col3    17.0\n3     0  col4    70.0\n4     1  col1    29.0\n..   ..   ...     ...\n195  48  col4    15.0\n196  49  col1    70.0\n197  49  col2    42.0\n198  49  col3    37.0\n199  49  col4    25.0\n\n[200 rows x 3 columns]",
      "text/html": "<div>\n<style scoped>\n    .dataframe tbody tr th:only-of-type {\n        vertical-align: middle;\n    }\n\n    .dataframe tbody tr th {\n        vertical-align: top;\n    }\n\n    .dataframe thead th {\n        text-align: right;\n    }\n</style>\n<table border=\"1\" class=\"dataframe\">\n  <thead>\n    <tr style=\"text-align: right;\">\n      <th></th>\n      <th>id</th>\n      <th>group</th>\n      <th>result</th>\n    </tr>\n  </thead>\n  <tbody>\n    <tr>\n      <th>0</th>\n      <td>0</td>\n      <td>col1</td>\n      <td>80.0</td>\n    </tr>\n    <tr>\n      <th>1</th>\n      <td>0</td>\n      <td>col2</td>\n      <td>65.0</td>\n    </tr>\n    <tr>\n      <th>2</th>\n      <td>0</td>\n      <td>col3</td>\n      <td>17.0</td>\n    </tr>\n    <tr>\n      <th>3</th>\n      <td>0</td>\n      <td>col4</td>\n      <td>70.0</td>\n    </tr>\n    <tr>\n      <th>4</th>\n      <td>1</td>\n      <td>col1</td>\n      <td>29.0</td>\n    </tr>\n    <tr>\n      <th>...</th>\n      <td>...</td>\n      <td>...</td>\n      <td>...</td>\n    </tr>\n    <tr>\n      <th>195</th>\n      <td>48</td>\n      <td>col4</td>\n      <td>15.0</td>\n    </tr>\n    <tr>\n      <th>196</th>\n      <td>49</td>\n      <td>col1</td>\n      <td>70.0</td>\n    </tr>\n    <tr>\n      <th>197</th>\n      <td>49</td>\n      <td>col2</td>\n      <td>42.0</td>\n    </tr>\n    <tr>\n      <th>198</th>\n      <td>49</td>\n      <td>col3</td>\n      <td>37.0</td>\n    </tr>\n    <tr>\n      <th>199</th>\n      <td>49</td>\n      <td>col4</td>\n      <td>25.0</td>\n    </tr>\n  </tbody>\n</table>\n<p>200 rows × 3 columns</p>\n</div>"
     },
     "execution_count": 26,
     "metadata": {},
     "output_type": "execute_result"
    }
   ],
   "source": [
    "stacked_data = df.stack().reset_index()\n",
    "stacked_data = stacked_data.rename(columns={'level_0': 'id',\n",
    "                                            'level_1': 'group',\n",
    "                                            0:'result'})\n",
    "stacked_data"
   ]
  },
  {
   "cell_type": "code",
   "execution_count": 26,
   "id": "linear-penetration",
   "metadata": {},
   "outputs": [],
   "source": []
  },
  {
   "cell_type": "code",
   "execution_count": 27,
   "id": "welcome-syndicate",
   "metadata": {},
   "outputs": [
    {
     "name": "stdout",
     "output_type": "stream",
     "text": [
      " Multiple Comparison of Means - Tukey HSD, FWER=0.05  \n",
      "======================================================\n",
      "group1 group2 meandiff p-adj   lower    upper   reject\n",
      "------------------------------------------------------\n",
      "  col1   col2    -9.86 0.0109 -18.0311  -1.6889   True\n",
      "  col1   col3   -27.18  0.001 -35.3511 -19.0089   True\n",
      "  col1   col4   -22.92  0.001 -31.0911 -14.7489   True\n",
      "  col2   col3   -17.32  0.001 -25.4911  -9.1489   True\n",
      "  col2   col4   -13.06  0.001 -21.2311  -4.8889   True\n",
      "  col3   col4     4.26  0.528  -3.9111  12.4311  False\n",
      "------------------------------------------------------\n",
      " Multiple Comparison of Means - Tukey HSD, FWER=0.05 \n",
      "=====================================================\n",
      "group1 group2 meandiff p-adj   lower    upper  reject\n",
      "-----------------------------------------------------\n",
      "  col1   col2   -11.36 0.0065 -20.3152 -2.4048   True\n",
      "  col1   col3     3.76 0.6752  -5.1952 12.7152  False\n",
      "  col1   col4    14.82  0.001   5.8648 23.7752   True\n",
      "  col2   col3    15.12  0.001   6.1648 24.0752   True\n",
      "  col2   col4    26.18  0.001  17.2248 35.1352   True\n",
      "  col3   col4    11.06 0.0086   2.1048 20.0152   True\n",
      "-----------------------------------------------------\n"
     ]
    },
    {
     "name": "stderr",
     "output_type": "stream",
     "text": [
      "c:\\users\\4702306\\appdata\\local\\programs\\python\\python38\\lib\\site-packages\\statsmodels\\sandbox\\stats\\multicomp.py:775: UserWarning: FixedFormatter should only be used together with FixedLocator\n",
      "  ax1.set_yticklabels(np.insert(self.groupsunique.astype(str), 0, ''))\n"
     ]
    },
    {
     "data": {
      "text/plain": "<Figure size 720x432 with 1 Axes>",
      "image/png": "[encoded data removed]"
     },
     "metadata": {
      "needs_background": "light"
     },
     "output_type": "display_data"
    }
   ],
   "source": [
    "from statsmodels.stats.multicomp import pairwise_tukeyhsd, MultiComparison\n",
    "# Создадим экземпляр класса MultiComparison и передадим параметры из stacked_data\n",
    "MultiComp = MultiComparison(stacked_data['result'], stacked_data['group'])\n",
    "# вычислим значение критерия Тьюки с уровнем значимости 0.05\n",
    "alpha = 0.05\n",
    "results = MultiComp.tukeyhsd(alpha)\n",
    "\n",
    "# результат\n",
    "print(results.summary())\n",
    "# визуализируем\n",
    "fig = results.plot_simultaneous(xlabel='Значение зависимой переменной')\n",
    "fig.get_axes()[0].title.set_text('Средние значения')\n",
    "\n",
    "MultiComp1 = MultiComparison(stacked_data1['result'], stacked_data1['group'])\n",
    "# вычислим значение критерия Тьюки с уровнем значимости 0.05\n",
    "alpha = 0.05\n",
    "results = MultiComp1.tukeyhsd(alpha)\n",
    "\n",
    "# результат\n",
    "print(results.summary())\n"
   ]
  },
  {
   "cell_type": "markdown",
   "id": "daily-difference",
   "metadata": {},
   "source": [
    "Проведём двуфакторный дисперсионный анализ по факторам: провинция | страна"
   ]
  },
  {
   "cell_type": "code",
   "execution_count": 28,
   "id": "hearing-ladder",
   "metadata": {
    "pycharm": {
     "name": "#%%\n"
    }
   },
   "outputs": [
    {
     "name": "stderr",
     "output_type": "stream",
     "text": [
      "c:\\users\\4702306\\appdata\\local\\programs\\python\\python38\\lib\\site-packages\\statsmodels\\base\\model.py:1832: ValueWarning: covariance of constraints does not have full rank. The number of constraints is 9, but rank is 1\n",
      "  warnings.warn('covariance of constraints does not have full '\n",
      "c:\\users\\4702306\\appdata\\local\\programs\\python\\python38\\lib\\site-packages\\statsmodels\\base\\model.py:1832: ValueWarning: covariance of constraints does not have full rank. The number of constraints is 27, but rank is 3\n",
      "  warnings.warn('covariance of constraints does not have full '\n",
      "c:\\users\\4702306\\appdata\\local\\programs\\python\\python38\\lib\\site-packages\\statsmodels\\base\\model.py:1832: ValueWarning: covariance of constraints does not have full rank. The number of constraints is 243, but rank is 26\n",
      "  warnings.warn('covariance of constraints does not have full '\n"
     ]
    },
    {
     "data": {
      "text/plain": "                               sum_sq     df             F    PR(>F)\nC(country)                   0.000141    9.0  4.930263e-09  0.999944\nC(province)                  0.000021   27.0  2.392451e-10  1.000000\nC(country):C(province)  544753.524708  243.0  7.042090e-01  0.840411\nResidual                229205.325332   72.0           NaN       NaN",
      "text/html": "<div>\n<style scoped>\n    .dataframe tbody tr th:only-of-type {\n        vertical-align: middle;\n    }\n\n    .dataframe tbody tr th {\n        vertical-align: top;\n    }\n\n    .dataframe thead th {\n        text-align: right;\n    }\n</style>\n<table border=\"1\" class=\"dataframe\">\n  <thead>\n    <tr style=\"text-align: right;\">\n      <th></th>\n      <th>sum_sq</th>\n      <th>df</th>\n      <th>F</th>\n      <th>PR(&gt;F)</th>\n    </tr>\n  </thead>\n  <tbody>\n    <tr>\n      <th>C(country)</th>\n      <td>0.000141</td>\n      <td>9.0</td>\n      <td>4.930263e-09</td>\n      <td>0.999944</td>\n    </tr>\n    <tr>\n      <th>C(province)</th>\n      <td>0.000021</td>\n      <td>27.0</td>\n      <td>2.392451e-10</td>\n      <td>1.000000</td>\n    </tr>\n    <tr>\n      <th>C(country):C(province)</th>\n      <td>544753.524708</td>\n      <td>243.0</td>\n      <td>7.042090e-01</td>\n      <td>0.840411</td>\n    </tr>\n    <tr>\n      <th>Residual</th>\n      <td>229205.325332</td>\n      <td>72.0</td>\n      <td>NaN</td>\n      <td>NaN</td>\n    </tr>\n  </tbody>\n</table>\n</div>"
     },
     "execution_count": 28,
     "metadata": {},
     "output_type": "execute_result"
    }
   ],
   "source": [
    "import statsmodels.api as sm\n",
    "from statsmodels.formula.api import ols\n",
    "\n",
    "#perform two-way ANOVA\n",
    "model = ols('price ~ C(country) + C(province) + C(country):C(province)', data=dataframe.iloc[:100]).fit()\n",
    "sm.stats.anova_lm(model, typ=2)"
   ]
  },
  {
   "cell_type": "markdown",
   "source": [
    "# Как видно, признак 1 влияет сильно, признак 2 влияет сильно, но, вместе, они не оказывают сильного влияния на целевую"
   ],
   "metadata": {
    "collapsed": false
   }
  }
 ],
 "metadata": {
  "kernelspec": {
   "display_name": "Python 3",
   "language": "python",
   "name": "python3"
  },
  "language_info": {
   "codemirror_mode": {
    "name": "ipython",
    "version": 3
   },
   "file_extension": ".py",
   "mimetype": "text/x-python",
   "name": "python",
   "nbconvert_exporter": "python",
   "pygments_lexer": "ipython3",
   "version": "3.8.6"
  }
 },
 "nbformat": 4,
 "nbformat_minor": 5
}