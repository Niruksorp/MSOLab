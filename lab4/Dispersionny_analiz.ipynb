{
 "nbformat": 4,
 "nbformat_minor": 0,
 "metadata": {
  "colab": {
   "name": "Untitled5.ipynb",
   "provenance": [],
   "collapsed_sections": [
    "8I_d2CW6Dle0"
   ]
  },
  "kernelspec": {
   "name": "python3",
   "language": "python",
   "display_name": "Python 3"
  },
  "language_info": {
   "name": "python"
  }
 },
 "cells": [
  {
   "cell_type": "markdown",
   "metadata": {
    "id": "Svx-5-hkCk0c"
   },
   "source": [
    "#Практическая работа № 4\n",
    "\n",
    "###Дисперсионный анализ"
   ]
  },
  {
   "cell_type": "markdown",
   "metadata": {
    "id": "ysKxuILcC3RR"
   },
   "source": [
    "###Библиотеки"
   ]
  },
  {
   "cell_type": "code",
   "metadata": {
    "id": "d1oPTFnsCdi4"
   },
   "source": [
    "import numpy as np\n",
    "import scipy\n",
    "import pandas as pd\n",
    "import matplotlib.pyplot as plt\n",
    "import seaborn as sns\n",
    "from termcolor import colored\n"
   ],
   "execution_count": 1,
   "outputs": [
    {
     "ename": "ModuleNotFoundError",
     "evalue": "No module named 'termcolor'",
     "output_type": "error",
     "traceback": [
      "\u001B[1;31m---------------------------------------------------------------------------\u001B[0m",
      "\u001B[1;31mModuleNotFoundError\u001B[0m                       Traceback (most recent call last)",
      "\u001B[1;32m<ipython-input-1-dc842f25e459>\u001B[0m in \u001B[0;36m<module>\u001B[1;34m\u001B[0m\n\u001B[0;32m      4\u001B[0m \u001B[1;32mimport\u001B[0m \u001B[0mmatplotlib\u001B[0m\u001B[1;33m.\u001B[0m\u001B[0mpyplot\u001B[0m \u001B[1;32mas\u001B[0m \u001B[0mplt\u001B[0m\u001B[1;33m\u001B[0m\u001B[1;33m\u001B[0m\u001B[0m\n\u001B[0;32m      5\u001B[0m \u001B[1;32mimport\u001B[0m \u001B[0mseaborn\u001B[0m \u001B[1;32mas\u001B[0m \u001B[0msns\u001B[0m\u001B[1;33m\u001B[0m\u001B[1;33m\u001B[0m\u001B[0m\n\u001B[1;32m----> 6\u001B[1;33m \u001B[1;32mfrom\u001B[0m \u001B[0mtermcolor\u001B[0m \u001B[1;32mimport\u001B[0m \u001B[0mcolored\u001B[0m\u001B[1;33m\u001B[0m\u001B[1;33m\u001B[0m\u001B[0m\n\u001B[0m\u001B[0;32m      7\u001B[0m \u001B[1;33m\u001B[0m\u001B[0m\n\u001B[0;32m      8\u001B[0m \u001B[1;33m\u001B[0m\u001B[0m\n",
      "\u001B[1;31mModuleNotFoundError\u001B[0m: No module named 'termcolor'"
     ]
    }
   ]
  },
  {
   "cell_type": "markdown",
   "metadata": {
    "id": "lU6eyl4e3_ec"
   },
   "source": [
    "### Подключаем google drive"
   ]
  },
  {
   "cell_type": "code",
   "metadata": {
    "colab": {
     "base_uri": "https://localhost:8080/"
    },
    "id": "8EsqMjHPxbTu",
    "outputId": "f23daa4d-7ffe-4ee5-95c4-7071e9b17056"
   },
   "source": [
    "alpha = 0.05\n",
    "df = pd.read_csv('winemag-data_first150k.csv', sheet_name='Sheet1')\n",
    "df"
   ],
   "execution_count": null,
   "outputs": []
  },
  {
   "cell_type": "markdown",
   "metadata": {
    "id": "LM027IfbC9Hl"
   },
   "source": [
    "###Данные"
   ]
  },
  {
   "cell_type": "markdown",
   "metadata": {
    "id": "nY2P0Uxa1U5I"
   },
   "source": [
    "####Загрузка данных с google drive"
   ]
  },
  {
   "cell_type": "markdown",
   "metadata": {
    "id": "NPgYLEZV1eZn"
   },
   "source": [
    "####Для проверки предпосылок, лежащих в основе дисперсионного анализа, разобьём наш дата сет на 4 группы по критерию Design"
   ]
  },
  {
   "cell_type": "code",
   "metadata": {
    "colab": {
     "base_uri": "https://localhost:8080/"
    },
    "id": "BrFyDZFrc_5T",
    "outputId": "ce04d6d4-e70b-4fc1-fdbc-f39269ab9d66"
   },
   "source": [
    "x1 = df[df[\"Design\"] == 0]\n",
    "x2 = df[df[\"Design\"] == 1]\n",
    "x3 = df[df[\"Design\"] == 2]\n",
    "x4 = df[df[\"Design\"] == 3]\n",
    "print(\"x1:\")\n",
    "print(x1)\n",
    "print(\"x2:\")\n",
    "print(x2)\n",
    "print(\"x3:\")\n",
    "print(x3)\n",
    "print(\"x4:\")\n",
    "print(x4)\n",
    "groups = np.array((x1['Distance'].values,\n",
    "                   x2['Distance'].values,\n",
    "                   x3['Distance'].values,\n",
    "                   x4['Distance'].  values))\n",
    "df = pd.DataFrame(groups.T, columns=['0', '1', '2', '3'])"
   ],
   "execution_count": 3,
   "outputs": [
    {
     "ename": "NameError",
     "evalue": "name 'df' is not defined",
     "output_type": "error",
     "traceback": [
      "\u001B[1;31m---------------------------------------------------------------------------\u001B[0m",
      "\u001B[1;31mNameError\u001B[0m                                 Traceback (most recent call last)",
      "\u001B[1;32m<ipython-input-3-b5a89ddbed13>\u001B[0m in \u001B[0;36m<module>\u001B[1;34m\u001B[0m\n\u001B[1;32m----> 1\u001B[1;33m \u001B[0mx1\u001B[0m \u001B[1;33m=\u001B[0m \u001B[0mdf\u001B[0m\u001B[1;33m[\u001B[0m\u001B[0mdf\u001B[0m\u001B[1;33m[\u001B[0m\u001B[1;34m\"Design\"\u001B[0m\u001B[1;33m]\u001B[0m \u001B[1;33m==\u001B[0m \u001B[1;36m0\u001B[0m\u001B[1;33m]\u001B[0m\u001B[1;33m\u001B[0m\u001B[1;33m\u001B[0m\u001B[0m\n\u001B[0m\u001B[0;32m      2\u001B[0m \u001B[0mx2\u001B[0m \u001B[1;33m=\u001B[0m \u001B[0mdf\u001B[0m\u001B[1;33m[\u001B[0m\u001B[0mdf\u001B[0m\u001B[1;33m[\u001B[0m\u001B[1;34m\"Design\"\u001B[0m\u001B[1;33m]\u001B[0m \u001B[1;33m==\u001B[0m \u001B[1;36m1\u001B[0m\u001B[1;33m]\u001B[0m\u001B[1;33m\u001B[0m\u001B[1;33m\u001B[0m\u001B[0m\n\u001B[0;32m      3\u001B[0m \u001B[0mx3\u001B[0m \u001B[1;33m=\u001B[0m \u001B[0mdf\u001B[0m\u001B[1;33m[\u001B[0m\u001B[0mdf\u001B[0m\u001B[1;33m[\u001B[0m\u001B[1;34m\"Design\"\u001B[0m\u001B[1;33m]\u001B[0m \u001B[1;33m==\u001B[0m \u001B[1;36m2\u001B[0m\u001B[1;33m]\u001B[0m\u001B[1;33m\u001B[0m\u001B[1;33m\u001B[0m\u001B[0m\n\u001B[0;32m      4\u001B[0m \u001B[0mx4\u001B[0m \u001B[1;33m=\u001B[0m \u001B[0mdf\u001B[0m\u001B[1;33m[\u001B[0m\u001B[0mdf\u001B[0m\u001B[1;33m[\u001B[0m\u001B[1;34m\"Design\"\u001B[0m\u001B[1;33m]\u001B[0m \u001B[1;33m==\u001B[0m \u001B[1;36m3\u001B[0m\u001B[1;33m]\u001B[0m\u001B[1;33m\u001B[0m\u001B[1;33m\u001B[0m\u001B[0m\n\u001B[0;32m      5\u001B[0m \u001B[0mprint\u001B[0m\u001B[1;33m(\u001B[0m\u001B[1;34m\"x1:\"\u001B[0m\u001B[1;33m)\u001B[0m\u001B[1;33m\u001B[0m\u001B[1;33m\u001B[0m\u001B[0m\n",
      "\u001B[1;31mNameError\u001B[0m: name 'df' is not defined"
     ]
    }
   ]
  },
  {
   "cell_type": "markdown",
   "metadata": {
    "id": "8I_d2CW6Dle0"
   },
   "source": [
    "###Проверка предпосылок, лежащих в основе дисперсионного анализа\n",
    "\n",
    " - нормальное распределение значений изучаемого признака \n",
    " - однородность дисперсий в каждой группе"
   ]
  },
  {
   "cell_type": "markdown",
   "metadata": {
    "id": "jPsT3JIQ0frh"
   },
   "source": [
    "#### Проверка гипотезы о нормальности распределения значений изучаемого признака"
   ]
  },
  {
   "cell_type": "code",
   "metadata": {
    "colab": {
     "base_uri": "https://localhost:8080/"
    },
    "id": "Pg03-unfYqEH",
    "outputId": "b439683f-51d2-463d-e91a-8770eee84874"
   },
   "source": [
    "alpha = 0.05\n",
    "_, p = scipy.stats.shapiro(x1['Distance'])\n",
    "if p >= alpha:\n",
    "    print(colored('Нулевая гипотеза принимается', 'green'))\n",
    "else:\n",
    "    print(colored('Нулевая гипотеза отвергается', 'red'))\n",
    "\n",
    "_, p = scipy.stats.shapiro(x2['Distance'])\n",
    "if p >= alpha:\n",
    "    print(colored('Нулевая гипотеза принимается', 'green'))\n",
    "else:\n",
    "    print(colored('Нулевая гипотеза отвергается', 'red'))\n",
    "\n",
    "_, p = scipy.stats.shapiro(x3['Distance'])\n",
    "if p >= alpha:\n",
    "    print(colored('Нулевая гипотеза принимается', 'green'))\n",
    "else:\n",
    "    print(colored('Нулевая гипотеза отвергается', 'red'))\n",
    "\n",
    "_, p = scipy.stats.shapiro(x4['Distance'])\n",
    "if p >= alpha:\n",
    "    print(colored('Нулевая гипотеза принимается', 'green'))\n",
    "else:\n",
    "    print(colored('Нулевая гипотеза отвергается', 'red'))"
   ],
   "execution_count": 22,
   "outputs": [
    {
     "output_type": "stream",
     "text": [
      "\u001B[32mНулевая гипотеза принимается\u001B[0m\n",
      "\u001B[32mНулевая гипотеза принимается\u001B[0m\n",
      "\u001B[32mНулевая гипотеза принимается\u001B[0m\n",
      "\u001B[32mНулевая гипотеза принимается\u001B[0m\n"
     ],
     "name": "stdout"
    }
   ]
  },
  {
   "cell_type": "markdown",
   "metadata": {
    "id": "1-qccOxmD14N"
   },
   "source": [
    "#### Проверка гипотезы об однородности дисперсий"
   ]
  },
  {
   "cell_type": "code",
   "metadata": {
    "colab": {
     "base_uri": "https://localhost:8080/"
    },
    "id": "qxeADNI3Dk2J",
    "outputId": "5d2a4fae-ba1d-4b35-a3e1-13efb082294f"
   },
   "source": [
    "_, p = scipy.stats.levene(x1['Distance'], x2['Distance'], x3['Distance'], x4['Distance'])\n",
    "print(p)\n",
    "alpha = 0.05\n",
    "if p >= alpha:\n",
    "    print(colored('Гипотеза об однородности дисперсий принимается', 'green'))\n",
    "else:\n",
    "    print(colored('Гипотеза об однородности дисперсий отвергается', 'red'))"
   ],
   "execution_count": 23,
   "outputs": [
    {
     "output_type": "stream",
     "text": [
      "0.11827579172462642\n",
      "\u001B[32mГипотеза об однородности дисперсий принимается\u001B[0m\n"
     ],
     "name": "stdout"
    }
   ]
  },
  {
   "cell_type": "markdown",
   "metadata": {
    "id": "p8XDce5TIh86"
   },
   "source": [
    "###Дисперсионный анализ"
   ]
  },
  {
   "cell_type": "markdown",
   "metadata": {
    "id": "bsC-Zojv0r0H"
   },
   "source": [
    "####Проверка гипотезы о равенстве средних "
   ]
  },
  {
   "cell_type": "code",
   "metadata": {
    "id": "JTfBE3RMIg8T",
    "colab": {
     "base_uri": "https://localhost:8080/"
    },
    "outputId": "ca5c51df-7f3f-4ebf-aaf6-202d4aad9812"
   },
   "source": [
    "_, p = scipy.stats.f_oneway(x1['Distance'], x2['Distance'], x3['Distance'], x4['Distance'])\n",
    "print(f'p-value: {p:.20f}')\n",
    "\n",
    "alpha = 0.05\n",
    "\n",
    "if p >= alpha:\n",
    "    print(colored('Гипотеза о равенстве средних принимается', 'green'))\n",
    "else:\n",
    "    print(colored('Гипотеза о равенстве средних отвергается', 'red'))"
   ],
   "execution_count": 24,
   "outputs": [
    {
     "output_type": "stream",
     "text": [
      "p-value: 0.00000000000027319908\n",
      "\u001B[31mГипотеза о равенстве средних отвергается\u001B[0m\n"
     ],
     "name": "stdout"
    }
   ]
  },
  {
   "cell_type": "markdown",
   "metadata": {
    "id": "r0DatUaQeI2m"
   },
   "source": [
    "####Определим как группы различаются между собой используя критерий Тьюки\n"
   ]
  },
  {
   "cell_type": "code",
   "metadata": {
    "colab": {
     "base_uri": "https://localhost:8080/",
     "height": 588
    },
    "id": "HzF2AKFBA84T",
    "outputId": "7fcce19a-09dc-404c-dd97-4ee9b5bf14ef"
   },
   "source": [
    "from statsmodels.stats.multicomp import pairwise_tukeyhsd\n",
    "tukey = pairwise_tukeyhsd(endog=dataframe['Distance'],\n",
    "                          groups=dataframe['Design'],\n",
    "                          alpha=0.05)\n",
    "print(tukey)\n",
    "fig = tukey.plot_simultaneous(xlabel='Значение зависимой переменной')\n",
    "fig.get_axes()[0].title.set_text('Средние значения')"
   ],
   "execution_count": 25,
   "outputs": [
    {
     "output_type": "stream",
     "text": [
      "Multiple Comparison of Means - Tukey HSD, FWER=0.05 \n",
      "====================================================\n",
      "group1 group2 meandiff p-adj   lower   upper  reject\n",
      "----------------------------------------------------\n",
      "     0      1   11.902  0.001  6.6795 17.1245   True\n",
      "     0      2   19.974  0.001 14.7515 25.1965   True\n",
      "     0      3   22.008  0.001 16.7855 27.2305   True\n",
      "     1      2    8.072  0.001  2.8495 13.2945   True\n",
      "     1      3   10.106  0.001  4.8835 15.3285   True\n",
      "     2      3    2.034 0.7007 -3.1885  7.2565  False\n",
      "----------------------------------------------------\n"
     ],
     "name": "stdout"
    },
    {
     "output_type": "display_data",
     "data": {
      "image/png": "[encoded data removed]",
      "text/plain": [
       "<Figure size 720x432 with 1 Axes>"
      ]
     },
     "metadata": {
      "tags": [],
      "needs_background": "light"
     }
    }
   ]
  },
  {
   "cell_type": "markdown",
   "metadata": {
    "id": "WPmc5Vc0xskh"
   },
   "source": [
    "В полученной таблице приведены результаты попарной проверки гипотез о равенстве средних. \n",
    "\n",
    "Для пары Design3 Design4 гипотеза о равенстве средних принимается, а для остальных пар отвергается."
   ]
  },
  {
   "cell_type": "markdown",
   "metadata": {
    "id": "jQV1bd1J06mW"
   },
   "source": [
    "####График доверительных интервалов разностей"
   ]
  },
  {
   "cell_type": "code",
   "metadata": {
    "colab": {
     "base_uri": "https://localhost:8080/",
     "height": 265
    },
    "id": "Xxg1pB87FkOX",
    "outputId": "02bf80fc-7942-43ac-cd7f-b8e57d8f822e"
   },
   "source": [
    "mean = dataframe.groupby('Design')['Distance'].mean()\n",
    "std = dataframe.groupby('Design')['Distance'].std()\n",
    "\n",
    "plt.errorbar(mean.index, mean, xerr=0.5, yerr=2*std, linestyle='')\n",
    "plt.show()"
   ],
   "execution_count": 26,
   "outputs": [
    {
     "output_type": "display_data",
     "data": {
      "image/png": "[encoded data removed]",
      "text/plain": [
       "<Figure size 432x288 with 1 Axes>"
      ]
     },
     "metadata": {
      "tags": [],
      "needs_background": "light"
     }
    }
   ]
  },
  {
   "cell_type": "markdown",
   "metadata": {
    "id": "4d4MCJgS07Yq"
   },
   "source": [
    "####Параллельные диаграммы размаха"
   ]
  },
  {
   "cell_type": "code",
   "metadata": {
    "colab": {
     "base_uri": "https://localhost:8080/",
     "height": 627
    },
    "id": "2O2RWAZzIHcC",
    "outputId": "f5f85e09-0c84-4bb5-e7d1-066da1b25877"
   },
   "source": [
    "fig = plt.figure(figsize= (10, 10))\n",
    "ax = fig.add_subplot(111)\n",
    "\n",
    "ax.set_title(\"Box Plot of Design by Distance\", fontsize= 20)\n",
    "ax.set\n",
    "data = [x1['Distance'],\n",
    "        x2['Distance'],\n",
    "        x3['Distance'],\n",
    "        x4['Distance']]\n",
    "\n",
    "ax.boxplot(data)\n",
    "\n",
    "plt.xlabel(\"Distance\")\n",
    "plt.ylabel(\"Design\")\n",
    "\n",
    "plt.show()"
   ],
   "execution_count": 27,
   "outputs": [
    {
     "output_type": "display_data",
     "data": {
      "image/png": "[encoded data removed]",
      "text/plain": [
       "<Figure size 720x720 with 1 Axes>"
      ]
     },
     "metadata": {
      "tags": [],
      "needs_background": "light"
     }
    }
   ]
  }
 ]
}