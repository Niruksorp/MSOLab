{
 "cells": [
  {
   "cell_type": "code",
   "execution_count": 2,
   "outputs": [],
   "source": [
    "import numpy as np\n",
    "from scipy import stats as st\n",
    "import pandas as pd\n",
    "import matplotlib.pyplot as plt\n",
    "import seaborn as sns\n",
    "from scipy.stats import sigmaclip"
   ],
   "metadata": {
    "collapsed": false,
    "pycharm": {
     "name": "#%%\n"
    }
   }
  },
  {
   "cell_type": "code",
   "execution_count": 4,
   "outputs": [],
   "source": [
    "dataframe = pd.read_csv('dataanime.csv')"
   ],
   "metadata": {
    "collapsed": false,
    "pycharm": {
     "name": "#%%\n"
    }
   }
  },
  {
   "cell_type": "markdown",
   "source": [
    "# Датасет цены недвижимости в г. Мельбрун"
   ],
   "metadata": {
    "collapsed": false
   }
  },
  {
   "cell_type": "code",
   "execution_count": 5,
   "outputs": [
    {
     "data": {
      "text/plain": "                              Title   Type Episodes            Status  \\\n0  Fullmetal Alchemist: Brotherhood     TV       64   Finished Airing   \n1                    Kimi no Na wa.  Movie        1   Finished Airing   \n2                          Gintama°     TV       51   Finished Airing   \n3                     Steins;Gate 0     TV       23  Currently Airing   \n4                       Steins;Gate     TV       24   Finished Airing   \n\n  Start airing End airing Starting season             Broadcast time  \\\n0     2009-4-5   2010-7-4          Spring     Sundays at 17:00 (JST)   \n1    2016-8-26          -               -                          -   \n2     2015-4-8  2016-3-30          Spring  Wednesdays at 18:00 (JST)   \n3    2018-4-12          -          Spring   Thursdays at 01:35 (JST)   \n4     2011-4-6  2011-9-14          Spring  Wednesdays at 02:05 (JST)   \n\n                                           Producers  \\\n0  Aniplex,Square Enix,Mainichi Broadcasting Syst...   \n1  Kadokawa Shoten,Toho,Sound Team Don Juan,Lawso...   \n2                            TV Tokyo,Aniplex,Dentsu   \n3                                          Nitroplus   \n4  Frontier Works,Media Factory,Movic,AT-X,Kadoka...   \n\n                       Licensors                Studios       Sources  \\\n0  Funimation,Aniplex of America                  Bones         Manga   \n1           Funimation,NYAV Post       CoMix Wave Films      Original   \n2         Funimation,Crunchyroll  Bandai Namco Pictures         Manga   \n3                     Funimation              White Fox  Visual novel   \n4                     Funimation              White Fox  Visual novel   \n\n                                              Genres         Duration Rating  \\\n0  Action,Military,Adventure,Comedy,Drama,Magic,F...  24 min. per ep.      R   \n1                  Supernatural,Drama,Romance,School    1 hr. 46 min.  PG-13   \n2  Action,Comedy,Historical,Parody,Samurai,Sci-Fi...  24 min. per ep.      R   \n3                                    Sci-Fi,Thriller  23 min. per ep.  PG-13   \n4                                    Sci-Fi,Thriller  24 min. per ep.  PG-13   \n\n   Score  Scored by  Members  Favorites  \\\n0   9.25     719706  1176368     105387   \n1   9.19     454969   705186      33936   \n2   9.16      70279   194359       5597   \n3   9.16      12609   186331       1117   \n4   9.14     552791   990419      90365   \n\n                                         Description  \n0  \"In order for something to be obtained, someth...  \n1  Mitsuha Miyamizu, a high school girl, yearns t...  \n2  Gintoki, Shinpachi, and Kagura return as the f...  \n3  The dark untold story of Steins;Gate that lead...  \n4  The self-proclaimed mad scientist Rintarou Oka...  ",
      "text/html": "<div>\n<style scoped>\n    .dataframe tbody tr th:only-of-type {\n        vertical-align: middle;\n    }\n\n    .dataframe tbody tr th {\n        vertical-align: top;\n    }\n\n    .dataframe thead th {\n        text-align: right;\n    }\n</style>\n<table border=\"1\" class=\"dataframe\">\n  <thead>\n    <tr style=\"text-align: right;\">\n      <th></th>\n      <th>Title</th>\n      <th>Type</th>\n      <th>Episodes</th>\n      <th>Status</th>\n      <th>Start airing</th>\n      <th>End airing</th>\n      <th>Starting season</th>\n      <th>Broadcast time</th>\n      <th>Producers</th>\n      <th>Licensors</th>\n      <th>Studios</th>\n      <th>Sources</th>\n      <th>Genres</th>\n      <th>Duration</th>\n      <th>Rating</th>\n      <th>Score</th>\n      <th>Scored by</th>\n      <th>Members</th>\n      <th>Favorites</th>\n      <th>Description</th>\n    </tr>\n  </thead>\n  <tbody>\n    <tr>\n      <th>0</th>\n      <td>Fullmetal Alchemist: Brotherhood</td>\n      <td>TV</td>\n      <td>64</td>\n      <td>Finished Airing</td>\n      <td>2009-4-5</td>\n      <td>2010-7-4</td>\n      <td>Spring</td>\n      <td>Sundays at 17:00 (JST)</td>\n      <td>Aniplex,Square Enix,Mainichi Broadcasting Syst...</td>\n      <td>Funimation,Aniplex of America</td>\n      <td>Bones</td>\n      <td>Manga</td>\n      <td>Action,Military,Adventure,Comedy,Drama,Magic,F...</td>\n      <td>24 min. per ep.</td>\n      <td>R</td>\n      <td>9.25</td>\n      <td>719706</td>\n      <td>1176368</td>\n      <td>105387</td>\n      <td>\"In order for something to be obtained, someth...</td>\n    </tr>\n    <tr>\n      <th>1</th>\n      <td>Kimi no Na wa.</td>\n      <td>Movie</td>\n      <td>1</td>\n      <td>Finished Airing</td>\n      <td>2016-8-26</td>\n      <td>-</td>\n      <td>-</td>\n      <td>-</td>\n      <td>Kadokawa Shoten,Toho,Sound Team Don Juan,Lawso...</td>\n      <td>Funimation,NYAV Post</td>\n      <td>CoMix Wave Films</td>\n      <td>Original</td>\n      <td>Supernatural,Drama,Romance,School</td>\n      <td>1 hr. 46 min.</td>\n      <td>PG-13</td>\n      <td>9.19</td>\n      <td>454969</td>\n      <td>705186</td>\n      <td>33936</td>\n      <td>Mitsuha Miyamizu, a high school girl, yearns t...</td>\n    </tr>\n    <tr>\n      <th>2</th>\n      <td>Gintama°</td>\n      <td>TV</td>\n      <td>51</td>\n      <td>Finished Airing</td>\n      <td>2015-4-8</td>\n      <td>2016-3-30</td>\n      <td>Spring</td>\n      <td>Wednesdays at 18:00 (JST)</td>\n      <td>TV Tokyo,Aniplex,Dentsu</td>\n      <td>Funimation,Crunchyroll</td>\n      <td>Bandai Namco Pictures</td>\n      <td>Manga</td>\n      <td>Action,Comedy,Historical,Parody,Samurai,Sci-Fi...</td>\n      <td>24 min. per ep.</td>\n      <td>R</td>\n      <td>9.16</td>\n      <td>70279</td>\n      <td>194359</td>\n      <td>5597</td>\n      <td>Gintoki, Shinpachi, and Kagura return as the f...</td>\n    </tr>\n    <tr>\n      <th>3</th>\n      <td>Steins;Gate 0</td>\n      <td>TV</td>\n      <td>23</td>\n      <td>Currently Airing</td>\n      <td>2018-4-12</td>\n      <td>-</td>\n      <td>Spring</td>\n      <td>Thursdays at 01:35 (JST)</td>\n      <td>Nitroplus</td>\n      <td>Funimation</td>\n      <td>White Fox</td>\n      <td>Visual novel</td>\n      <td>Sci-Fi,Thriller</td>\n      <td>23 min. per ep.</td>\n      <td>PG-13</td>\n      <td>9.16</td>\n      <td>12609</td>\n      <td>186331</td>\n      <td>1117</td>\n      <td>The dark untold story of Steins;Gate that lead...</td>\n    </tr>\n    <tr>\n      <th>4</th>\n      <td>Steins;Gate</td>\n      <td>TV</td>\n      <td>24</td>\n      <td>Finished Airing</td>\n      <td>2011-4-6</td>\n      <td>2011-9-14</td>\n      <td>Spring</td>\n      <td>Wednesdays at 02:05 (JST)</td>\n      <td>Frontier Works,Media Factory,Movic,AT-X,Kadoka...</td>\n      <td>Funimation</td>\n      <td>White Fox</td>\n      <td>Visual novel</td>\n      <td>Sci-Fi,Thriller</td>\n      <td>24 min. per ep.</td>\n      <td>PG-13</td>\n      <td>9.14</td>\n      <td>552791</td>\n      <td>990419</td>\n      <td>90365</td>\n      <td>The self-proclaimed mad scientist Rintarou Oka...</td>\n    </tr>\n  </tbody>\n</table>\n</div>"
     },
     "execution_count": 5,
     "metadata": {},
     "output_type": "execute_result"
    }
   ],
   "source": [
    "dataframe.head()"
   ],
   "metadata": {
    "collapsed": false,
    "pycharm": {
     "name": "#%%\n"
    }
   }
  },
  {
   "cell_type": "code",
   "execution_count": 6,
   "outputs": [
    {
     "data": {
      "text/plain": "(1563, 20)"
     },
     "execution_count": 6,
     "metadata": {},
     "output_type": "execute_result"
    }
   ],
   "source": [
    "dataframe.shape"
   ],
   "metadata": {
    "collapsed": false,
    "pycharm": {
     "name": "#%%\n"
    }
   }
  },
  {
   "cell_type": "code",
   "execution_count": 7,
   "outputs": [
    {
     "data": {
      "text/plain": "Index(['Title', 'Type', 'Episodes', 'Status', 'Start airing', 'End airing',\n       'Starting season', 'Broadcast time', 'Producers', 'Licensors',\n       'Studios', 'Sources', 'Genres', 'Duration', 'Rating', 'Score',\n       'Scored by', 'Members', 'Favorites', 'Description'],\n      dtype='object')"
     },
     "execution_count": 7,
     "metadata": {},
     "output_type": "execute_result"
    }
   ],
   "source": [
    "dataframe.columns"
   ],
   "metadata": {
    "collapsed": false,
    "pycharm": {
     "name": "#%%\n"
    }
   }
  },
  {
   "cell_type": "code",
   "execution_count": 8,
   "outputs": [
    {
     "name": "stdout",
     "output_type": "stream",
     "text": [
      "<class 'pandas.core.frame.DataFrame'>\n",
      "RangeIndex: 1563 entries, 0 to 1562\n",
      "Data columns (total 20 columns):\n",
      " #   Column           Non-Null Count  Dtype  \n",
      "---  ------           --------------  -----  \n",
      " 0   Title            1563 non-null   object \n",
      " 1   Type             1563 non-null   object \n",
      " 2   Episodes         1563 non-null   object \n",
      " 3   Status           1563 non-null   object \n",
      " 4   Start airing     1563 non-null   object \n",
      " 5   End airing       1563 non-null   object \n",
      " 6   Starting season  1563 non-null   object \n",
      " 7   Broadcast time   1563 non-null   object \n",
      " 8   Producers        1563 non-null   object \n",
      " 9   Licensors        1563 non-null   object \n",
      " 10  Studios          1563 non-null   object \n",
      " 11  Sources          1563 non-null   object \n",
      " 12  Genres           1563 non-null   object \n",
      " 13  Duration         1563 non-null   object \n",
      " 14  Rating           1563 non-null   object \n",
      " 15  Score            1563 non-null   float64\n",
      " 16  Scored by        1563 non-null   int64  \n",
      " 17  Members          1563 non-null   int64  \n",
      " 18  Favorites        1563 non-null   int64  \n",
      " 19  Description      1563 non-null   object \n",
      "dtypes: float64(1), int64(3), object(16)\n",
      "memory usage: 244.3+ KB\n"
     ]
    }
   ],
   "source": [
    "dataframe.info()"
   ],
   "metadata": {
    "collapsed": false,
    "pycharm": {
     "name": "#%%\n"
    }
   }
  },
  {
   "cell_type": "markdown",
   "source": [
    "Изобразим график цены"
   ],
   "metadata": {
    "collapsed": false
   }
  },
  {
   "cell_type": "code",
   "execution_count": 9,
   "outputs": [
    {
     "data": {
      "text/plain": "<seaborn.axisgrid.FacetGrid at 0x1a7d3d3d460>"
     },
     "execution_count": 9,
     "metadata": {},
     "output_type": "execute_result"
    },
    {
     "data": {
      "text/plain": "<Figure size 360x360 with 1 Axes>",
      "image/png": "[encoded data removed]"
     },
     "metadata": {
      "needs_background": "light"
     },
     "output_type": "display_data"
    }
   ],
   "source": [
    "sns.displot(dataframe.Score, kde=True)"
   ],
   "metadata": {
    "collapsed": false,
    "pycharm": {
     "name": "#%%\n"
    }
   }
  },
  {
   "cell_type": "markdown",
   "source": [
    "Как видно распределение не очень близко к нормальному, поэтому используем sigmaclip для приведения к нормальной форме"
   ],
   "metadata": {
    "collapsed": false
   }
  },
  {
   "cell_type": "code",
   "execution_count": 10,
   "outputs": [
    {
     "data": {
      "text/plain": "array([719706, 454969,  70279, ...,  61505,   3054,  46334], dtype=int64)"
     },
     "execution_count": 10,
     "metadata": {},
     "output_type": "execute_result"
    }
   ],
   "source": [
    "dataframe['Scored by'].unique()"
   ],
   "metadata": {
    "collapsed": false,
    "pycharm": {
     "name": "#%%\n"
    }
   }
  },
  {
   "cell_type": "code",
   "execution_count": 11,
   "outputs": [
    {
     "data": {
      "text/plain": "array([105387,  33936,   5597,   1117,  90365,   8370,   4533,  63324,\n         1961,   1498,   1374,  18911,   2372,   1222,  47076,  33507,\n         4078,  43856,  11246,  15225,   6480,   1477,  38990,    388,\n         1360,    693,  38654,  10649,  10540,  62965,   4640,  11228,\n        11763,    874,   7014,    506,  13951,  17849,  49556,   1060,\n         9640,  30140,   8499,   1387,    123,    744,   2061,  87872,\n          639,    372,   6549,  10880,  23414,    619,    973,   6965,\n         2008,   9301,   6981,    101,    453,   2973,   3226,   1206,\n          518,   2972,    445,   5154,   1347,    323,   4963,  20942,\n         4352,   2494,  20971,   2388,   2851,   5516,    542,   2715,\n         3387,    510,   3328,    435,  68985,  13317,     32,   1433,\n        15676,     59,  12311,   4659,    499,   8657,   1718,   2093,\n           86,   3557,  19309,  17683,   1019,   1065,   2812,  63317,\n        16308,     21,   7295,  10852,   7312,   1104,     35,   5874,\n         2489,   4857,   1218,   6700,  34059,    301,     70,   3669,\n         2169,    399,  23873,    304,   4155,  20802,   7728,   4600,\n         5502,   1160,  26703,   4577,   4530,   3767,  18491,   1514,\n          551,   1089,    143,   3162,    606,    739,   6972,    923,\n          699,    105,   3925,  12354,   4438,   1712,  10137,   2275,\n         8067,   2050,  34946,    827,    266,    274,   1333,    194,\n          896,     31,   1784,   1635,   5722,     63,    147,  15279,\n          262,   1473,  26866,     45,   4515,    226,   2847,   4362,\n         5173,    849,    379,   3264,   1329,   7919,   7776,    439,\n          857,   1203,   2470,  13099,  23968,   4020,     43,    360,\n        17918,   2451,   6796,   2068,   4799,   1428,    768,   1636,\n          152,   1239,  36193,  21066,    264,  13840,    636,   1050,\n        40489,    976,   9701,    473,     52,  24556,    213,    465,\n         1597,    142,    892,   4502,  21643,   1179,   1978,    303,\n          219,    135,   9452,    627,   1207,   3320,    366,    899,\n           27,   1855,  12686,     46,    112,   1030,   3782,    106,\n          552,    612,   7626,    651,    278,   1216,    577,   4803,\n         7090,    281,    715,   4651,    437,    838,   2962,   9642,\n        22853,   2538,   2760,   1499,   2766,    294,    156,   9358,\n        14121,     36,     24,     26,  14326,   3068,   6071,   3841,\n         3322,   2180,   4475,    280,  11890,   2273,   6097,     54,\n           82,    946,    719,    256,    193,   7997,    813,   1124,\n          250,   5910,    395,   3163,   1468,    367,  11060,    574,\n         1091,   6978,   1263,    623,    114,    137,     48,     34,\n           51,   1785,    474,    171,  42322,    199,    883,    243,\n        12082,   1097,   2647,   1747,     58,    309,  13205,    149,\n         1276,    175,   1328,     55,   8510,   7893,   7395,  11830,\n          257,   1121,    870,  18238,     23,     92,    503,     33,\n         3598,   7077,   6297,   3397,    150,    217,   3999,    119,\n          721,   3462,    991,    403,   9623,     17,   9253,    208,\n           71,   1894,   7985,    614,    148,    626,    254,   1584,\n          557,     88,     13,   1106,     15,     40,    708,   2079,\n         1888,   5424,     53,    825,   4257,    126,    952,    539,\n         3660,    673,     29,     66,    326,  13824,    714,    585,\n          166,  15737,    455,    145,    689,    951,    287,     74,\n        37460,    695,     38,    649,   7428,    241,    750,     80,\n         1723,   1351,   3329,    164,    102,    306,    949,   2789,\n          347,   2892,    947,   2687,  15747,     30,    392,   1271,\n         7196,     14,     89,   2431,    781,   1776,   1638,    104,\n         1553,     91,    216,    891,   1235,    425,     95,      9,\n           56,    195,   4347,   4432,     47,    635,   1054,     25,\n          113,    815,   1234,     44,   1146,    718,   5494,     93,\n        17832,   1848,    824,   3746,   3291,    383,   4498,    746,\n          479,    657,    228,   1962,   1184,   3234,   1456,    717,\n         2826,    661,    184,    222,  19502,   1134,   5135,   1273,\n        28281,    855,    438,    351,   8616,   4688,   2462,    170,\n         3922,   9926,  13925,    821,    377,      4,   6864,   1740,\n          237,     60,    927,    516,   1437,    221,    118,    192,\n          179,   7793,    296,     50,    129,   3722,    325,   1011,\n          595,     67,   2840,    384,     28,    620,   5469,    238,\n         1059,    616,   1940,    365,   1015,    339,    632,    223,\n           20,    111,    912,    100,   3031,    859,     77,    227,\n          382,   3380,   1102,   9360,    806,    440,     69,   2566,\n           87,     61,    178,    515,    188,     16,   2452,    735,\n           73,   1667,   1201,    127,     22,   5648,      5,   1016,\n        40480,      8,  12197,   1181,   1659,    258,   2031,     11,\n          121,   4845,   2347,   8989,   3785,   6301,     64,     96,\n         1407,    441,    621,   2572,   1152,   2338,   3573,   1107,\n          174,    141,   4751,    799,   3276,    300,   2823,    686,\n          110,    125,     98,    787,    500,    359,    698,    131,\n         1614,    160,   7652,    133,    447,  34071,   1192,    389,\n           94,      6,   2453,     12,  13472,    205,    191,   5059,\n          115,   1778,   2188,   1075,      7,    600,     57,    209,\n          344,   1697,    185,     18,   2229,  13056,    157,    201,\n         1495,     79,    962,   1285,   2213,     76,   4624,   1018,\n          211,   6030,    180,   3314,   9294,    251,   3556,    297,\n          343,   1183,     68,   7660,    107,    398,    233,   4508,\n          501,    272,    249,   1248,    203,  14292,    381,    165,\n           41,    151,     78,    186,   1760,    355,   1127,    230,\n           62,    710,     81,    748,   3208,    362,     37,   1430,\n         1979,    305,    302,    190,     19,   1906,   4188,   1344,\n          928,  11320,   4919,    916,      3,   7538,     39,   1396,\n          332,   1090,    464,   1811,   4056,   1909,    797,   1676,\n            2,   3879,    764,    293,    253,    663,   1186,    268,\n          321,   1480,    590,    925,   1914,    236,   2863,   1378,\n         6929,   1708,   1079,    138,    289,    502,    526,   1007,\n        14533,     99,    549,    374,    120,    472,    531,   6615,\n          629,    514,    417,    751,    103,    678,   1564,    318,\n          656,    429,   1954,   1175,    568,   5501,    109,    605,\n         2767,   1695,    704,    545,   2413,    172,    564,   4034,\n           10,    811,    917,     83,     90,   1579,    134,   2620,\n          285,    685,    692,   1829,    588,   2532,    812,    204,\n            1,    390,    496,   1675,    248,    128,   1194,    197,\n          763,   5026,   5324,   1274,   2449,   1035,    276,    449,\n         1027,   3463,   1756,    414,   1474,    361,    247,   1136,\n         3449,    553,    187,   1278,    291,    767,    966,    130,\n          229,    234,   5133,    370,   1172,    900,   2577,  49684,\n           49,    295,   1565,    705,   1435,    809,   1509,    181,\n          378,    599,   2790,   1122,   1275,    971,   6516,   1728,\n          210,   1049,   4209,    330,   6259,    451,    463,    385,\n          317,   1764,   1155,    277,    136,   4809,    462,   1603,\n          723,    312,   1310,    550,    269,   1202,    998,     72,\n         2891,   1199,   1364,     97,    353,   2476,    117,   3390,\n         7744,    401,    667,    342,    504,   1391,   1343,   1625,\n          176,    654,   2574,    270,    743,    476,    162,     84,\n          320,    163,    489,    761,   3183,    804,    333,    843,\n         1827,    749,     42,   1012,    607,    393,    108,   3665,\n          307,    729,    283,    371,   1713,   1891,    487,    311,\n          565,   5845,     85,    411,    116,    153,   1426,    958,\n          989,    840,   1021,    752,    265,    592,   1459,    168,\n          308,    424,   1076,   1696,    124,    926,    670,    313,\n          561,    944,    122,   3576], dtype=int64)"
     },
     "execution_count": 11,
     "metadata": {},
     "output_type": "execute_result"
    }
   ],
   "source": [
    "dataframe['Favorites'].unique()"
   ],
   "metadata": {
    "collapsed": false,
    "pycharm": {
     "name": "#%%\n"
    }
   }
  },
  {
   "cell_type": "code",
   "source": [
    "s1 = pd.Series(sigmaclip(dataframe.Price[dataframe.Rooms == 1], 3.0, 3.0)[0]).iloc[:50]\n",
    "s2 = pd.Series(sigmaclip(dataframe.Price[dataframe.Rooms == 2], 3.0, 3.0)[0]).iloc[:50]\n",
    "s3 = pd.Series(sigmaclip(dataframe.Price[dataframe.Rooms == 3], 3.0, 3.0)[0]).iloc[:50]\n",
    "s4 = pd.Series(sigmaclip(dataframe.Price[dataframe.Rooms == 4], 3.0, 3.0)[0]).iloc[:50]\n",
    "s5 = pd.Series(sigmaclip(dataframe.Price[dataframe.Rooms == 5], 3.0, 3.0)[0]).iloc[:50]\n",
    "s6 = pd.Series(sigmaclip(dataframe.Price[dataframe.Rooms == 6], 3.0, 3.0)[0]).iloc[:50]\n",
    "df = pd.DataFrame(data = {'col1': s1.values,\n",
    "                          'col2':s2.values,\n",
    "                          'col3':s3.values,\n",
    "                          'col4':s4.values,\n",
    "                          'col5':s5.values,\n",
    "                          'col6':s6.values})\n",
    "\n",
    "s1 = pd.Series(sigmaclip(dataframe.Price[dataframe.Bathroom == 1.0], 3.0, 3.0)[0]).iloc[:50]\n",
    "s2 = pd.Series(sigmaclip(dataframe.Price[dataframe.Bathroom == 2.0], 3.0, 3.0)[0]).iloc[:50]\n",
    "s3 = pd.Series(sigmaclip(dataframe.Price[dataframe.Bathroom == 3.0], 3.0, 3.0)[0]).iloc[:50]\n",
    "s4 = pd.Series(sigmaclip(dataframe.Price[dataframe.Bathroom == 4.0], 3.0, 3.0)[0]).iloc[:50]\n",
    "df1 = pd.DataFrame(data = {'col1': s1.values, 'col2':s2.values, 'col3':s3.values, 'col4':s4.values})"
   ],
   "metadata": {
    "collapsed": false,
    "pycharm": {
     "name": "#%%\n"
    }
   },
   "execution_count": null,
   "outputs": []
  }
 ],
 "metadata": {
  "kernelspec": {
   "display_name": "Python 3",
   "language": "python",
   "name": "python3"
  },
  "language_info": {
   "codemirror_mode": {
    "name": "ipython",
    "version": 2
   },
   "file_extension": ".py",
   "mimetype": "text/x-python",
   "name": "python",
   "nbconvert_exporter": "python",
   "pygments_lexer": "ipython2",
   "version": "2.7.6"
  }
 },
 "nbformat": 4,
 "nbformat_minor": 0
}