{
 "cells": [
  {
   "cell_type": "markdown",
   "metadata": {},
   "source": [
    "# Дисперсионный анализ"
   ]
  },
  {
   "cell_type": "raw",
   "metadata": {},
   "source": [
    "Цель занятия\n",
    "- Познакомиться с библиотеками, реализующими дисперсионный анализ\n",
    "- Исследовать значимость различия между средними с помощью дисперсионного анализа "
   ]
  },
  {
   "cell_type": "code",
   "execution_count": 27,
   "metadata": {},
   "outputs": [],
   "source": [
    "import numpy as np\n",
    "from scipy import stats as st\n",
    "import pandas as pd\n",
    "import matplotlib.pyplot as plt\n",
    "import seaborn as sns"
   ]
  },
  {
   "cell_type": "code",
   "execution_count": 85,
   "metadata": {},
   "outputs": [],
   "source": [
    "m = [22, 18, 16, 19, 25]\n",
    "sigma = 3"
   ]
  },
  {
   "cell_type": "code",
   "execution_count": 86,
   "metadata": {},
   "outputs": [],
   "source": [
    "groups = np.zeros((6, 5))\n",
    "for i in range(5):\n",
    "    groups[:, i] = np.random.normal(m[i], sigma, (6,)).round()"
   ]
  },
  {
   "cell_type": "code",
   "execution_count": 87,
   "metadata": {},
   "outputs": [],
   "source": [
    "dataframe = pd.DataFrame(groups, columns=['group_1', 'group_2', 'group_3', 'group_4', 'group_5'])"
   ]
  },
  {
   "cell_type": "code",
   "execution_count": 88,
   "metadata": {},
   "outputs": [
    {
     "name": "stdout",
     "output_type": "stream",
     "text": [
      "   group_1  group_2  group_3  group_4  group_5\n",
      "0     22.0     21.0     13.0     22.0     27.0\n",
      "1     20.0     13.0     16.0     20.0     28.0\n",
      "2     24.0     19.0     21.0     20.0     30.0\n",
      "3     20.0     15.0     15.0     21.0     27.0\n",
      "4     25.0     19.0     19.0     26.0     26.0\n",
      "5     19.0     15.0     13.0     18.0     25.0\n"
     ]
    }
   ],
   "source": [
    "print(dataframe)"
   ]
  },
  {
   "cell_type": "markdown",
   "metadata": {},
   "source": [
    "Проверим выборки на независимость с помощью критерия $\\chi^2$ Пирсона.\n",
    "\n",
    "Выдвенем следующие гипотезы:\n",
    "\n",
    "- H0: выборки независимы;\n",
    "- H1: выборки не являются независимыми.\n",
    "\n",
    "Примем уровень значимости  $\\alpha = 0.05$."
   ]
  },
  {
   "cell_type": "code",
   "execution_count": 89,
   "metadata": {},
   "outputs": [
    {
     "name": "stdout",
     "output_type": "stream",
     "text": [
      "p-value: 0.9998191049325926\n",
      "Нулевая гипотеза принимается\n"
     ]
    }
   ],
   "source": [
    "_, p, _, _ = st.chi2_contingency(dataframe, correction=False)\n",
    "print('p-value:', p)\n",
    "\n",
    "alpha = 0.05\n",
    "if p >= alpha:\n",
    "    print(f'Нулевая гипотеза принимается')\n",
    "else:\n",
    "    print(f'Нулевая гипотеза отвергается')"
   ]
  },
  {
   "cell_type": "markdown",
   "metadata": {},
   "source": [
    "Проверим гипотезу о нормальности распределений"
   ]
  },
  {
   "cell_type": "code",
   "execution_count": 90,
   "metadata": {},
   "outputs": [
    {
     "name": "stdout",
     "output_type": "stream",
     "text": [
      "Нулевая гипотеза принимается\n",
      "Нулевая гипотеза принимается\n",
      "Нулевая гипотеза принимается\n",
      "Нулевая гипотеза принимается\n",
      "Нулевая гипотеза принимается\n"
     ]
    }
   ],
   "source": [
    "dim = dataframe.T.shape[0]\n",
    "\n",
    "for i in range(dim):\n",
    "    _, p = st.shapiro(dataframe.T.values[i])\n",
    "    \n",
    "    alpha = 0.01\n",
    "    if p >= alpha:\n",
    "        print(f'Нулевая гипотеза принимается')\n",
    "    else:\n",
    "        print(f'Нулевая гипотеза отвергается')"
   ]
  },
  {
   "cell_type": "markdown",
   "metadata": {},
   "source": [
    "Проверим гипотезу об однородности дисперсий\n",
    "$H_0: \\sigma_1^2=\\sigma_2^2=...=\\sigma_k^2$"
   ]
  },
  {
   "cell_type": "code",
   "execution_count": 91,
   "metadata": {},
   "outputs": [
    {
     "name": "stdout",
     "output_type": "stream",
     "text": [
      "Нулевая гипотеза принимается\n"
     ]
    }
   ],
   "source": [
    "_, p = st.levene(dataframe.T.values[0], dataframe.T.values[1]\n",
    "                 , dataframe.T.values[2], dataframe.T.values[3], dataframe.T.values[4])\n",
    "\n",
    "alpha = 0.05\n",
    "if p >= alpha:\n",
    "    print(f'Нулевая гипотеза принимается')\n",
    "else:\n",
    "    print(f'Нулевая гипотеза отвергается')"
   ]
  },
  {
   "cell_type": "markdown",
   "metadata": {},
   "source": [
    "Переходим к дисперсионному анализу\n",
    "\n",
    "Проверяем гипотезу о равенстве средних $H_0: m_1=m_2=...=m_k$"
   ]
  },
  {
   "cell_type": "code",
   "execution_count": 92,
   "metadata": {},
   "outputs": [
    {
     "name": "stdout",
     "output_type": "stream",
     "text": [
      "p-value: 0.0000\n",
      "Нулевая гипотеза отвергается\n"
     ]
    }
   ],
   "source": [
    "_, p = st.f_oneway(*dataframe.T.values)\n",
    "print(f'p-value: {p:.4f}')\n",
    "\n",
    "alpha = 0.05\n",
    "\n",
    "if p >= alpha:\n",
    "    print(f'Нулевая гипотеза принимается')\n",
    "else:\n",
    "    print(f'Нулевая гипотеза отвергается')"
   ]
  },
  {
   "cell_type": "markdown",
   "metadata": {},
   "source": [
    "Выясним как группы различаются между собой\n",
    "\n",
    "Воспользуемся критерием Тьюки"
   ]
  },
  {
   "cell_type": "code",
   "execution_count": 96,
   "metadata": {},
   "outputs": [],
   "source": [
    "from statsmodels.stats.multicomp import pairwise_tukeyhsd, MultiComparison"
   ]
  },
  {
   "cell_type": "code",
   "execution_count": 95,
   "metadata": {},
   "outputs": [
    {
     "data": {
      "text/html": [
       "<div>\n",
       "<style scoped>\n",
       "    .dataframe tbody tr th:only-of-type {\n",
       "        vertical-align: middle;\n",
       "    }\n",
       "\n",
       "    .dataframe tbody tr th {\n",
       "        vertical-align: top;\n",
       "    }\n",
       "\n",
       "    .dataframe thead th {\n",
       "        text-align: right;\n",
       "    }\n",
       "</style>\n",
       "<table border=\"1\" class=\"dataframe\">\n",
       "  <thead>\n",
       "    <tr style=\"text-align: right;\">\n",
       "      <th></th>\n",
       "      <th>id</th>\n",
       "      <th>group</th>\n",
       "      <th>result</th>\n",
       "    </tr>\n",
       "  </thead>\n",
       "  <tbody>\n",
       "    <tr>\n",
       "      <th>0</th>\n",
       "      <td>0</td>\n",
       "      <td>group_1</td>\n",
       "      <td>22.0</td>\n",
       "    </tr>\n",
       "    <tr>\n",
       "      <th>1</th>\n",
       "      <td>0</td>\n",
       "      <td>group_2</td>\n",
       "      <td>21.0</td>\n",
       "    </tr>\n",
       "    <tr>\n",
       "      <th>2</th>\n",
       "      <td>0</td>\n",
       "      <td>group_3</td>\n",
       "      <td>13.0</td>\n",
       "    </tr>\n",
       "    <tr>\n",
       "      <th>3</th>\n",
       "      <td>0</td>\n",
       "      <td>group_4</td>\n",
       "      <td>22.0</td>\n",
       "    </tr>\n",
       "    <tr>\n",
       "      <th>4</th>\n",
       "      <td>0</td>\n",
       "      <td>group_5</td>\n",
       "      <td>27.0</td>\n",
       "    </tr>\n",
       "    <tr>\n",
       "      <th>5</th>\n",
       "      <td>1</td>\n",
       "      <td>group_1</td>\n",
       "      <td>20.0</td>\n",
       "    </tr>\n",
       "    <tr>\n",
       "      <th>6</th>\n",
       "      <td>1</td>\n",
       "      <td>group_2</td>\n",
       "      <td>13.0</td>\n",
       "    </tr>\n",
       "    <tr>\n",
       "      <th>7</th>\n",
       "      <td>1</td>\n",
       "      <td>group_3</td>\n",
       "      <td>16.0</td>\n",
       "    </tr>\n",
       "    <tr>\n",
       "      <th>8</th>\n",
       "      <td>1</td>\n",
       "      <td>group_4</td>\n",
       "      <td>20.0</td>\n",
       "    </tr>\n",
       "    <tr>\n",
       "      <th>9</th>\n",
       "      <td>1</td>\n",
       "      <td>group_5</td>\n",
       "      <td>28.0</td>\n",
       "    </tr>\n",
       "    <tr>\n",
       "      <th>10</th>\n",
       "      <td>2</td>\n",
       "      <td>group_1</td>\n",
       "      <td>24.0</td>\n",
       "    </tr>\n",
       "    <tr>\n",
       "      <th>11</th>\n",
       "      <td>2</td>\n",
       "      <td>group_2</td>\n",
       "      <td>19.0</td>\n",
       "    </tr>\n",
       "    <tr>\n",
       "      <th>12</th>\n",
       "      <td>2</td>\n",
       "      <td>group_3</td>\n",
       "      <td>21.0</td>\n",
       "    </tr>\n",
       "    <tr>\n",
       "      <th>13</th>\n",
       "      <td>2</td>\n",
       "      <td>group_4</td>\n",
       "      <td>20.0</td>\n",
       "    </tr>\n",
       "    <tr>\n",
       "      <th>14</th>\n",
       "      <td>2</td>\n",
       "      <td>group_5</td>\n",
       "      <td>30.0</td>\n",
       "    </tr>\n",
       "    <tr>\n",
       "      <th>15</th>\n",
       "      <td>3</td>\n",
       "      <td>group_1</td>\n",
       "      <td>20.0</td>\n",
       "    </tr>\n",
       "    <tr>\n",
       "      <th>16</th>\n",
       "      <td>3</td>\n",
       "      <td>group_2</td>\n",
       "      <td>15.0</td>\n",
       "    </tr>\n",
       "    <tr>\n",
       "      <th>17</th>\n",
       "      <td>3</td>\n",
       "      <td>group_3</td>\n",
       "      <td>15.0</td>\n",
       "    </tr>\n",
       "    <tr>\n",
       "      <th>18</th>\n",
       "      <td>3</td>\n",
       "      <td>group_4</td>\n",
       "      <td>21.0</td>\n",
       "    </tr>\n",
       "    <tr>\n",
       "      <th>19</th>\n",
       "      <td>3</td>\n",
       "      <td>group_5</td>\n",
       "      <td>27.0</td>\n",
       "    </tr>\n",
       "    <tr>\n",
       "      <th>20</th>\n",
       "      <td>4</td>\n",
       "      <td>group_1</td>\n",
       "      <td>25.0</td>\n",
       "    </tr>\n",
       "    <tr>\n",
       "      <th>21</th>\n",
       "      <td>4</td>\n",
       "      <td>group_2</td>\n",
       "      <td>19.0</td>\n",
       "    </tr>\n",
       "    <tr>\n",
       "      <th>22</th>\n",
       "      <td>4</td>\n",
       "      <td>group_3</td>\n",
       "      <td>19.0</td>\n",
       "    </tr>\n",
       "    <tr>\n",
       "      <th>23</th>\n",
       "      <td>4</td>\n",
       "      <td>group_4</td>\n",
       "      <td>26.0</td>\n",
       "    </tr>\n",
       "    <tr>\n",
       "      <th>24</th>\n",
       "      <td>4</td>\n",
       "      <td>group_5</td>\n",
       "      <td>26.0</td>\n",
       "    </tr>\n",
       "    <tr>\n",
       "      <th>25</th>\n",
       "      <td>5</td>\n",
       "      <td>group_1</td>\n",
       "      <td>19.0</td>\n",
       "    </tr>\n",
       "    <tr>\n",
       "      <th>26</th>\n",
       "      <td>5</td>\n",
       "      <td>group_2</td>\n",
       "      <td>15.0</td>\n",
       "    </tr>\n",
       "    <tr>\n",
       "      <th>27</th>\n",
       "      <td>5</td>\n",
       "      <td>group_3</td>\n",
       "      <td>13.0</td>\n",
       "    </tr>\n",
       "    <tr>\n",
       "      <th>28</th>\n",
       "      <td>5</td>\n",
       "      <td>group_4</td>\n",
       "      <td>18.0</td>\n",
       "    </tr>\n",
       "    <tr>\n",
       "      <th>29</th>\n",
       "      <td>5</td>\n",
       "      <td>group_5</td>\n",
       "      <td>25.0</td>\n",
       "    </tr>\n",
       "  </tbody>\n",
       "</table>\n",
       "</div>"
      ],
      "text/plain": [
       "    id    group  result\n",
       "0    0  group_1    22.0\n",
       "1    0  group_2    21.0\n",
       "2    0  group_3    13.0\n",
       "3    0  group_4    22.0\n",
       "4    0  group_5    27.0\n",
       "5    1  group_1    20.0\n",
       "6    1  group_2    13.0\n",
       "7    1  group_3    16.0\n",
       "8    1  group_4    20.0\n",
       "9    1  group_5    28.0\n",
       "10   2  group_1    24.0\n",
       "11   2  group_2    19.0\n",
       "12   2  group_3    21.0\n",
       "13   2  group_4    20.0\n",
       "14   2  group_5    30.0\n",
       "15   3  group_1    20.0\n",
       "16   3  group_2    15.0\n",
       "17   3  group_3    15.0\n",
       "18   3  group_4    21.0\n",
       "19   3  group_5    27.0\n",
       "20   4  group_1    25.0\n",
       "21   4  group_2    19.0\n",
       "22   4  group_3    19.0\n",
       "23   4  group_4    26.0\n",
       "24   4  group_5    26.0\n",
       "25   5  group_1    19.0\n",
       "26   5  group_2    15.0\n",
       "27   5  group_3    13.0\n",
       "28   5  group_4    18.0\n",
       "29   5  group_5    25.0"
      ]
     },
     "execution_count": 95,
     "metadata": {},
     "output_type": "execute_result"
    }
   ],
   "source": [
    "stacked_data = dataframe.stack().reset_index()\n",
    "stacked_data = stacked_data.rename(columns={'level_0': 'id',\n",
    "                                            'level_1': 'group',\n",
    "                                            0:'result'})\n",
    "stacked_data"
   ]
  },
  {
   "cell_type": "code",
   "execution_count": 97,
   "metadata": {},
   "outputs": [
    {
     "name": "stdout",
     "output_type": "stream",
     "text": [
      "  Multiple Comparison of Means - Tukey HSD, FWER=0.05  \n",
      "=======================================================\n",
      " group1  group2 meandiff p-adj   lower    upper  reject\n",
      "-------------------------------------------------------\n",
      "group_1 group_2  -4.6667 0.0439  -9.2398 -0.0935   True\n",
      "group_1 group_3     -5.5 0.0129 -10.0731 -0.9269   True\n",
      "group_1 group_4     -0.5    0.9  -5.0731  4.0731  False\n",
      "group_1 group_5      5.5 0.0129   0.9269 10.0731   True\n",
      "group_2 group_3  -0.8333    0.9  -5.4065  3.7398  False\n",
      "group_2 group_4   4.1667 0.0867  -0.4065  8.7398  False\n",
      "group_2 group_5  10.1667  0.001   5.5935 14.7398   True\n",
      "group_3 group_4      5.0 0.0272   0.4269  9.5731   True\n",
      "group_3 group_5     11.0  0.001   6.4269 15.5731   True\n",
      "group_4 group_5      6.0 0.0059   1.4269 10.5731   True\n",
      "-------------------------------------------------------\n"
     ]
    },
    {
     "data": {
      "image/png": "[encoded data removed]",
      "text/plain": [
       "<Figure size 720x432 with 1 Axes>"
      ]
     },
     "metadata": {
      "needs_background": "light"
     },
     "output_type": "display_data"
    }
   ],
   "source": [
    "# Создадим экземпляр класса MultiComparison и передадим параметры из stacked_data\n",
    "MultiComp = MultiComparison(stacked_data['result'], stacked_data['group'])\n",
    "# вычислим значение критерия Тьюки с уровнем значимости 0.05\n",
    "alpha = 0.05\n",
    "results = MultiComp.tukeyhsd(alpha)\n",
    "\n",
    "# результат\n",
    "print(results.summary())\n",
    "# визуализируем\n",
    "fig = results.plot_simultaneous(xlabel='Значение зависимой переменной')\n",
    "fig.get_axes()[0].title.set_text('Средние значения')"
   ]
  },
  {
   "cell_type": "markdown",
   "metadata": {},
   "source": [
    "В полученной таблице приведены результаты попарной проверки гипотез о равенстве средних. Значение True в столбце reject соответсвует случаю, когда гипотеза отвергается."
   ]
  }
 ],
 "metadata": {
  "kernelspec": {
   "display_name": "Python 3",
   "language": "python",
   "name": "python3"
  },
  "language_info": {
   "codemirror_mode": {
    "name": "ipython",
    "version": 3
   },
   "file_extension": ".py",
   "mimetype": "text/x-python",
   "name": "python",
   "nbconvert_exporter": "python",
   "pygments_lexer": "ipython3",
   "version": "3.8.8"
  }
 },
 "nbformat": 4,
 "nbformat_minor": 4
}
